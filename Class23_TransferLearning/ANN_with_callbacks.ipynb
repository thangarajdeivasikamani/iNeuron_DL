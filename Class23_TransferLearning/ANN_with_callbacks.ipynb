{
  "nbformat": 4,
  "nbformat_minor": 0,
  "metadata": {
    "colab": {
      "name": "ANN_with_callbacks",
      "provenance": [],
      "collapsed_sections": []
    },
    "kernelspec": {
      "name": "python3",
      "display_name": "Python 3"
    },
    "language_info": {
      "name": "python"
    },
    "accelerator": "GPU"
  },
  "cells": [
    {
      "cell_type": "code",
      "metadata": {
        "colab": {
          "base_uri": "https://localhost:8080/"
        },
        "id": "CKmVrNuVCmal",
        "outputId": "07eb79de-ed87-4e6f-ee0f-6b712d12861e"
      },
      "source": [
        "from google.colab import drive\n",
        "drive.mount('/content/drive')"
      ],
      "execution_count": 3,
      "outputs": [
        {
          "output_type": "stream",
          "name": "stdout",
          "text": [
            "Drive already mounted at /content/drive; to attempt to forcibly remount, call drive.mount(\"/content/drive\", force_remount=True).\n"
          ]
        }
      ]
    },
    {
      "cell_type": "code",
      "metadata": {
        "id": "WP9-G6MVFNLe"
      },
      "source": [
        "import os\n",
        "ROOT = \"/content/drive/MyDrive/Ineuron_DeepLearning\"\n",
        "os.chdir(ROOT)"
      ],
      "execution_count": 59,
      "outputs": []
    },
    {
      "cell_type": "markdown",
      "metadata": {
        "id": "tlJYerU_T1Al"
      },
      "source": [
        "#### Official docs link for [DETAILED INSTALLATION STEPS](https://www.tensorflow.org/install) for Tensorflow 2"
      ]
    },
    {
      "cell_type": "code",
      "metadata": {
        "colab": {
          "base_uri": "https://localhost:8080/",
          "height": 36
        },
        "id": "tRrXoOcBGC1R",
        "outputId": "f2ed58d1-04c2-4e3f-c9d4-15198c092357"
      },
      "source": [
        "os.getcwd()"
      ],
      "execution_count": 60,
      "outputs": [
        {
          "output_type": "execute_result",
          "data": {
            "application/vnd.google.colaboratory.intrinsic+json": {
              "type": "string"
            },
            "text/plain": [
              "'/content/drive/MyDrive/Ineuron_DeepLearning'"
            ]
          },
          "metadata": {},
          "execution_count": 60
        }
      ]
    },
    {
      "cell_type": "code",
      "metadata": {
        "id": "deqLTYe4T1Am"
      },
      "source": [
        "# Verify installation - \n",
        "import tensorflow as tf"
      ],
      "execution_count": 61,
      "outputs": []
    },
    {
      "cell_type": "code",
      "metadata": {
        "id": "ojSPnupYT1Aw",
        "colab": {
          "base_uri": "https://localhost:8080/"
        },
        "outputId": "d02d57a7-d9a4-43ab-f6ba-a168b815cacd"
      },
      "source": [
        "print(f\"Tensorflow Version: {tf.__version__}\")\n",
        "print(f\"Keras Version: {tf.keras.__version__}\")"
      ],
      "execution_count": 62,
      "outputs": [
        {
          "output_type": "stream",
          "name": "stdout",
          "text": [
            "Tensorflow Version: 2.6.0\n",
            "Keras Version: 2.6.0\n"
          ]
        }
      ]
    },
    {
      "cell_type": "markdown",
      "metadata": {
        "id": "NbuiMpcxT1A8"
      },
      "source": [
        "### GPU/CPU Check"
      ]
    },
    {
      "cell_type": "code",
      "metadata": {
        "scrolled": true,
        "id": "kfdsjkrlT1A-",
        "colab": {
          "base_uri": "https://localhost:8080/"
        },
        "outputId": "9eb6d3b0-4f57-4686-aa79-6347c50312af"
      },
      "source": [
        "tf.config.list_physical_devices('GPU')"
      ],
      "execution_count": 63,
      "outputs": [
        {
          "output_type": "execute_result",
          "data": {
            "text/plain": [
              "[PhysicalDevice(name='/physical_device:GPU:0', device_type='GPU')]"
            ]
          },
          "metadata": {},
          "execution_count": 63
        }
      ]
    },
    {
      "cell_type": "code",
      "metadata": {
        "id": "BrJOgcJsT1BF",
        "colab": {
          "base_uri": "https://localhost:8080/"
        },
        "outputId": "91ff3e25-1dfd-44d8-e38a-2b4a049584cf"
      },
      "source": [
        "tf.config.list_physical_devices('CPU')"
      ],
      "execution_count": 64,
      "outputs": [
        {
          "output_type": "execute_result",
          "data": {
            "text/plain": [
              "[PhysicalDevice(name='/physical_device:CPU:0', device_type='CPU')]"
            ]
          },
          "metadata": {},
          "execution_count": 64
        }
      ]
    },
    {
      "cell_type": "code",
      "metadata": {
        "id": "oWgQL00sT1BL",
        "colab": {
          "base_uri": "https://localhost:8080/"
        },
        "outputId": "1217a736-b093-432f-a3ce-b51d2ab3853a"
      },
      "source": [
        "CheckList = [\"GPU\", \"CPU\"]\n",
        "for device in CheckList:\n",
        "    out_ = tf.config.list_physical_devices(device)    \n",
        "    if len(out_) > 0:\n",
        "        print(f\"{device} is available\")        \n",
        "        print(\"details\\n\",out_)\n",
        "    else:\n",
        "        print(f\"{device} not available\")"
      ],
      "execution_count": 65,
      "outputs": [
        {
          "output_type": "stream",
          "name": "stdout",
          "text": [
            "GPU is available\n",
            "details\n",
            " [PhysicalDevice(name='/physical_device:GPU:0', device_type='GPU')]\n",
            "CPU is available\n",
            "details\n",
            " [PhysicalDevice(name='/physical_device:CPU:0', device_type='CPU')]\n"
          ]
        }
      ]
    },
    {
      "cell_type": "markdown",
      "metadata": {
        "id": "WLXo-zKVT1BP"
      },
      "source": [
        "## A simple classifier using Keras's Sequential API"
      ]
    },
    {
      "cell_type": "code",
      "metadata": {
        "id": "fjDK1fu5T1BR"
      },
      "source": [
        "import numpy as np\n",
        "import matplotlib.pyplot as plt\n",
        "import pandas as pd\n",
        "import os\n",
        "import tensorflow as tf\n",
        "import seaborn as sns"
      ],
      "execution_count": 66,
      "outputs": []
    },
    {
      "cell_type": "markdown",
      "metadata": {
        "id": "Qlc3DlXAT1BW"
      },
      "source": [
        "### Working on mnist dataset - \n",
        "\n",
        "* This dataset contains handwritten digits. \n",
        "* It has 10 classes i.e. 0 to 9\n",
        "* Each data point is 2D array of 28x28 size.\n",
        "* Also known as hello world dataset for ANN\n",
        "\n",
        "[image source](https://en.wikipedia.org/wiki/MNIST_database#/media/File:MnistExamples.png)\n",
        "\n",
        "![](https://upload.wikimedia.org/wikipedia/commons/2/27/MnistExamples.png)"
      ]
    },
    {
      "cell_type": "code",
      "metadata": {
        "id": "oUX64PRkT1BW"
      },
      "source": [
        "# Keras has already contains mnist dataset \n",
        "# Loading mnist data using Keras\n",
        "\n",
        "mnist = tf.keras.datasets.mnist\n",
        "(X_train_full, y_train_full), (X_test, y_test) = mnist.load_data()"
      ],
      "execution_count": 67,
      "outputs": []
    },
    {
      "cell_type": "code",
      "metadata": {
        "id": "UCb1hhLiT1Bc",
        "colab": {
          "base_uri": "https://localhost:8080/"
        },
        "outputId": "4b32484d-106f-4b65-d81c-7323eadebd90"
      },
      "source": [
        "print(f\"data type of X_train_full: {X_train_full.dtype},\\nshape of X_train_full: {X_train_full.shape}\")"
      ],
      "execution_count": 68,
      "outputs": [
        {
          "output_type": "stream",
          "name": "stdout",
          "text": [
            "data type of X_train_full: uint8,\n",
            "shape of X_train_full: (60000, 28, 28)\n"
          ]
        }
      ]
    },
    {
      "cell_type": "code",
      "metadata": {
        "id": "ZTO5K8x7T1Bk"
      },
      "source": [
        "# create a validation data set from the full training data \n",
        "# Scale the data between 0 to 1 by dividing it by 255. as its an unsigned data between 0-255 range\n",
        "X_valid, X_train = X_train_full[:5000] / 255., X_train_full[5000:] / 255.\n",
        "y_valid, y_train = y_train_full[:5000], y_train_full[5000:]\n",
        "\n",
        "# scale the test set as well\n",
        "X_test = X_test / 255.\n",
        "\n"
      ],
      "execution_count": 69,
      "outputs": []
    },
    {
      "cell_type": "code",
      "metadata": {
        "id": "CavNIdoaT1Bp",
        "colab": {
          "base_uri": "https://localhost:8080/",
          "height": 248
        },
        "outputId": "3a147c4e-a12a-476c-fdb4-a195324d6811"
      },
      "source": [
        "# lets view the first data point of X_train\n",
        "plt.imshow(X_train[0], cmap=\"binary\")\n",
        "plt.axis('off')\n",
        "plt.show()\n"
      ],
      "execution_count": 70,
      "outputs": [
        {
          "output_type": "display_data",
          "data": {
            "image/png": "[encoded data removed]",
            "text/plain": [
              "<Figure size 432x288 with 1 Axes>"
            ]
          },
          "metadata": {
            "needs_background": "light"
          }
        }
      ]
    },
    {
      "cell_type": "code",
      "metadata": {
        "id": "NbtIMpuZT1Bu",
        "colab": {
          "base_uri": "https://localhost:8080/",
          "height": 881
        },
        "outputId": "78d18616-38ce-430d-b88c-6acbaf9a2a21"
      },
      "source": [
        "plt.figure(figsize=(15,15))\n",
        "sns.heatmap(X_train[0], annot=True, cmap=\"binary\")"
      ],
      "execution_count": 71,
      "outputs": [
        {
          "output_type": "execute_result",
          "data": {
            "text/plain": [
              "<matplotlib.axes._subplots.AxesSubplot at 0x7f479f15a910>"
            ]
          },
          "metadata": {},
          "execution_count": 71
        },
        {
          "output_type": "display_data",
          "data": {
            "image/png": "[encoded data removed]",
            "text/plain": [
              "<Figure size 1080x1080 with 2 Axes>"
            ]
          },
          "metadata": {
            "needs_background": "light"
          }
        }
      ]
    },
    {
      "cell_type": "markdown",
      "metadata": {
        "id": "VN7A_72DGRfv"
      },
      "source": [
        "## Writing sample images to the TensorBoard"
      ]
    },
    {
      "cell_type": "markdown",
      "metadata": {
        "id": "O1OIYGypGa9h"
      },
      "source": [
        "### Creating a TensorBoard log directory with unique name"
      ]
    },
    {
      "cell_type": "code",
      "metadata": {
        "colab": {
          "base_uri": "https://localhost:8080/"
        },
        "id": "VDwG_rtZGQ-D",
        "outputId": "4affdeaa-ac26-4291-a1fe-fe3d8b428966"
      },
      "source": [
        "import time\n",
        "\n",
        "def get_log_path(log_dir=\"logs/fit\"):\n",
        "  uniqueName = time.strftime(\"log_%Y_%m_%d_%H_%M_%S\")\n",
        "  log_path = os.path.join(log_dir, uniqueName)\n",
        "  print(f\"savings logs at: {log_path}\")\n",
        "\n",
        "  return log_path\n",
        "\n",
        "log_dir = get_log_path()"
      ],
      "execution_count": 72,
      "outputs": [
        {
          "output_type": "stream",
          "name": "stdout",
          "text": [
            "savings logs at: logs/fit/log_2021_10_13_01_21_59\n"
          ]
        }
      ]
    },
    {
      "cell_type": "code",
      "metadata": {
        "id": "aelfMwa9HRix"
      },
      "source": [
        "#Create the file write\n",
        "file_writer = tf.summary.create_file_writer(logdir=log_dir)"
      ],
      "execution_count": 73,
      "outputs": []
    },
    {
      "cell_type": "code",
      "metadata": {
        "id": "ABG8A63_Hb2V"
      },
      "source": [
        "# Call the file_writer using with command like file open\n",
        "with file_writer.as_default():\n",
        "  # Here we passing the image b/w 10 to 30 & the reshape size we can dynamically adjust based on \n",
        "  # given input may be 10,20 image ,so we will give -1 means take as per input assign, last one is define for dimention(Grey scale)\n",
        "  images = np.reshape(X_train[10:30], (-1, 28, 28, 1)) ### <<< 20, 28, 28, 1\n",
        "  tf.summary.image(\"20 handritten digit samples\", images, max_outputs=25, step=0)"
      ],
      "execution_count": 74,
      "outputs": []
    },
    {
      "cell_type": "code",
      "metadata": {
        "colab": {
          "base_uri": "https://localhost:8080/"
        },
        "id": "Dbr7W67iJUFj",
        "outputId": "27ba8e1b-117a-486f-bd70-7149ee6bbd67"
      },
      "source": [
        "images.shape"
      ],
      "execution_count": 75,
      "outputs": [
        {
          "output_type": "execute_result",
          "data": {
            "text/plain": [
              "(20, 28, 28, 1)"
            ]
          },
          "metadata": {},
          "execution_count": 75
        }
      ]
    },
    {
      "cell_type": "code",
      "metadata": {
        "id": "H-JwkRg9H5yP",
        "colab": {
          "base_uri": "https://localhost:8080/"
        },
        "outputId": "280e25b1-e1d8-4dc7-9b28-258677362fd8"
      },
      "source": [
        "%load_ext tensorboard"
      ],
      "execution_count": 76,
      "outputs": [
        {
          "output_type": "stream",
          "name": "stdout",
          "text": [
            "The tensorboard extension is already loaded. To reload it, use:\n",
            "  %reload_ext tensorboard\n"
          ]
        }
      ]
    },
    {
      "cell_type": "code",
      "metadata": {
        "colab": {
          "base_uri": "https://localhost:8080/",
          "height": 35
        },
        "id": "4Aec62WaICUG",
        "outputId": "4b38b3ca-4299-41c5-f16b-1c6dc864f2e3"
      },
      "source": [
        "# like agr parser\n",
        "# all tensorflow events are stored inside the log dir\n",
        "# Click image Tab and check  & experiment with show actual size\n",
        "%tensorboard --logdir logs/fit"
      ],
      "execution_count": 77,
      "outputs": [
        {
          "output_type": "display_data",
          "data": {
            "text/plain": [
              "ERROR: Timed out waiting for TensorBoard to start. It may still be running as pid 979."
            ]
          },
          "metadata": {}
        }
      ]
    },
    {
      "cell_type": "code",
      "metadata": {
        "id": "DTUr2xheT1B0",
        "colab": {
          "base_uri": "https://localhost:8080/"
        },
        "outputId": "a1fb450d-4bd2-447c-f200-f36a5c6237c2"
      },
      "source": [
        "# actual value of y_train\n",
        "y_train[0]"
      ],
      "execution_count": 78,
      "outputs": [
        {
          "output_type": "execute_result",
          "data": {
            "text/plain": [
              "7"
            ]
          },
          "metadata": {},
          "execution_count": 78
        }
      ]
    },
    {
      "cell_type": "code",
      "metadata": {
        "id": "k2BX3qEiT1B5"
      },
      "source": [
        "LAYERS = [tf.keras.layers.Flatten(input_shape=[28, 28], name=\"inputLayer\"),\n",
        "          tf.keras.layers.Dense(300, activation=\"relu\", name=\"hiddenLayer1\"),\n",
        "          tf.keras.layers.Dense(100, activation=\"relu\", name=\"hiddenLayer2\"),\n",
        "          tf.keras.layers.Dense(10, activation=\"softmax\", name=\"outputLayer\")]\n",
        "\n",
        "model_clf = tf.keras.models.Sequential(LAYERS)"
      ],
      "execution_count": 79,
      "outputs": []
    },
    {
      "cell_type": "markdown",
      "metadata": {
        "id": "VQPHM-DwT1B9"
      },
      "source": [
        "#### Altenative 1\n",
        "\n",
        "```python\n",
        "model = tf.keras.models.Sequential()\n",
        "model.add(tf.keras.layers.Flatten(input_shape=[28, 28]))\n",
        "model.add(tf.keras.layers.Dense(300, activation=\"relu\"))\n",
        "model.add(tf.keras.layers.Dense(100, activation=\"relu\"))\n",
        "model.add(tf.keras.layers.Dense(10, activation=\"softmax\"))\n",
        "\n",
        "```"
      ]
    },
    {
      "cell_type": "markdown",
      "metadata": {
        "id": "3WlLdDzET1B-"
      },
      "source": [
        "#### Alternative 2\n",
        "\n",
        "```python\n",
        "model = tf.keras.models.Sequential([\n",
        "    tf.keras.layers.Flatten(input_shape=[28, 28]),\n",
        "    tf.keras.layers.Dense(300, activation=\"relu\"),\n",
        "    tf.keras.layers.Dense(100, activation=\"relu\"),\n",
        "    tf.keras.layers.Dense(10, activation=\"softmax\")\n",
        "])\n",
        "```"
      ]
    },
    {
      "cell_type": "markdown",
      "metadata": {
        "id": "VGe8cja-T1B-"
      },
      "source": [
        "### For custom weights initialiser or setting weights \n",
        "refer [here](https://keras.io/api/layers/base_layer/#setweights-method)"
      ]
    },
    {
      "cell_type": "code",
      "metadata": {
        "id": "sA9wBfw_T1B_",
        "colab": {
          "base_uri": "https://localhost:8080/"
        },
        "outputId": "b2ad7ac6-8ed5-42b1-8c34-c3b613996060"
      },
      "source": [
        "model_clf.layers"
      ],
      "execution_count": 80,
      "outputs": [
        {
          "output_type": "execute_result",
          "data": {
            "text/plain": [
              "[<keras.layers.core.Flatten at 0x7f478d7b8d90>,\n",
              " <keras.layers.core.Dense at 0x7f478d7b2ed0>,\n",
              " <keras.layers.core.Dense at 0x7f478d7b0e50>,\n",
              " <keras.layers.core.Dense at 0x7f478d7b0190>]"
            ]
          },
          "metadata": {},
          "execution_count": 80
        }
      ]
    },
    {
      "cell_type": "code",
      "metadata": {
        "id": "JluBwQFVT1CD",
        "colab": {
          "base_uri": "https://localhost:8080/"
        },
        "outputId": "fd88cc99-195a-4a49-ad67-eb71352c1171"
      },
      "source": [
        "model_clf.summary()"
      ],
      "execution_count": 81,
      "outputs": [
        {
          "output_type": "stream",
          "name": "stdout",
          "text": [
            "Model: \"sequential_1\"\n",
            "_________________________________________________________________\n",
            "Layer (type)                 Output Shape              Param #   \n",
            "=================================================================\n",
            "inputLayer (Flatten)         (None, 784)               0         \n",
            "_________________________________________________________________\n",
            "hiddenLayer1 (Dense)         (None, 300)               235500    \n",
            "_________________________________________________________________\n",
            "hiddenLayer2 (Dense)         (None, 100)               30100     \n",
            "_________________________________________________________________\n",
            "outputLayer (Dense)          (None, 10)                1010      \n",
            "=================================================================\n",
            "Total params: 266,610\n",
            "Trainable params: 266,610\n",
            "Non-trainable params: 0\n",
            "_________________________________________________________________\n"
          ]
        }
      ]
    },
    {
      "cell_type": "code",
      "metadata": {
        "id": "lh2tYK0fT1CJ",
        "colab": {
          "base_uri": "https://localhost:8080/"
        },
        "outputId": "c7b03e4b-9d1a-4a4c-eece-d990d61be1dd"
      },
      "source": [
        "# firsLayer * secondLayer + bias\n",
        "784*300 + 300, 300*100+100, 100*10+10"
      ],
      "execution_count": 82,
      "outputs": [
        {
          "output_type": "execute_result",
          "data": {
            "text/plain": [
              "(235500, 30100, 1010)"
            ]
          },
          "metadata": {},
          "execution_count": 82
        }
      ]
    },
    {
      "cell_type": "code",
      "metadata": {
        "id": "y5xbBd9dT1CO",
        "colab": {
          "base_uri": "https://localhost:8080/"
        },
        "outputId": "b4235200-5072-4146-9d87-49fc0e014bb2"
      },
      "source": [
        "# Total parameters to be trained -\n",
        "sum((235500, 30100, 1010))"
      ],
      "execution_count": 83,
      "outputs": [
        {
          "output_type": "execute_result",
          "data": {
            "text/plain": [
              "266610"
            ]
          },
          "metadata": {},
          "execution_count": 83
        }
      ]
    },
    {
      "cell_type": "code",
      "metadata": {
        "id": "sV2F7E6ET1CT",
        "colab": {
          "base_uri": "https://localhost:8080/",
          "height": 36
        },
        "outputId": "a4104aea-795e-499b-a7e6-fc1990bbc324"
      },
      "source": [
        "hidden1 = model_clf.layers[1]\n",
        "hidden1.name"
      ],
      "execution_count": 84,
      "outputs": [
        {
          "output_type": "execute_result",
          "data": {
            "application/vnd.google.colaboratory.intrinsic+json": {
              "type": "string"
            },
            "text/plain": [
              "'hiddenLayer1'"
            ]
          },
          "metadata": {},
          "execution_count": 84
        }
      ]
    },
    {
      "cell_type": "code",
      "metadata": {
        "id": "E44TYmE-T1Ca",
        "colab": {
          "base_uri": "https://localhost:8080/"
        },
        "outputId": "fda5cb38-24c4-453c-8fad-26e8317b00ac"
      },
      "source": [
        "model_clf.get_layer(hidden1.name) is hidden1"
      ],
      "execution_count": 85,
      "outputs": [
        {
          "output_type": "execute_result",
          "data": {
            "text/plain": [
              "True"
            ]
          },
          "metadata": {},
          "execution_count": 85
        }
      ]
    },
    {
      "cell_type": "code",
      "metadata": {
        "id": "zIovwIogT1Cg"
      },
      "source": [
        "# hidden1.set_weights(hidden1.get_weights()) # to set weights"
      ],
      "execution_count": 86,
      "outputs": []
    },
    {
      "cell_type": "code",
      "metadata": {
        "id": "8ZTodjmCT1Ck",
        "colab": {
          "base_uri": "https://localhost:8080/"
        },
        "outputId": "6893bf57-76c4-4891-840b-1ef9cb214f36"
      },
      "source": [
        "type(hidden1.get_weights())"
      ],
      "execution_count": 87,
      "outputs": [
        {
          "output_type": "execute_result",
          "data": {
            "text/plain": [
              "list"
            ]
          },
          "metadata": {},
          "execution_count": 87
        }
      ]
    },
    {
      "cell_type": "code",
      "metadata": {
        "id": "FaU9U8QfT1Cp",
        "colab": {
          "base_uri": "https://localhost:8080/"
        },
        "outputId": "eee1f5b2-3561-40e1-83d0-fbd81c67a5d0"
      },
      "source": [
        "hidden1.get_weights()"
      ],
      "execution_count": 88,
      "outputs": [
        {
          "output_type": "execute_result",
          "data": {
            "text/plain": [
              "[array([[-0.07121348,  0.02996858, -0.00892057, ...,  0.00271201,\n",
              "         -0.01745396, -0.03795929],\n",
              "        [-0.04835112, -0.02941121, -0.05557812, ...,  0.03858346,\n",
              "          0.043233  ,  0.06377788],\n",
              "        [ 0.06149432, -0.01855569,  0.02798058, ..., -0.0519271 ,\n",
              "          0.06740148,  0.05877876],\n",
              "        ...,\n",
              "        [-0.04767786, -0.04823187, -0.02091664, ..., -0.03426936,\n",
              "          0.0719496 ,  0.04398869],\n",
              "        [-0.00387175, -0.01315638,  0.05500597, ...,  0.03606904,\n",
              "         -0.06403239, -0.05671719],\n",
              "        [ 0.02937387,  0.01002428, -0.02701699, ..., -0.05641264,\n",
              "         -0.01596201,  0.03700565]], dtype=float32),\n",
              " array([0., 0., 0., 0., 0., 0., 0., 0., 0., 0., 0., 0., 0., 0., 0., 0., 0.,\n",
              "        0., 0., 0., 0., 0., 0., 0., 0., 0., 0., 0., 0., 0., 0., 0., 0., 0.,\n",
              "        0., 0., 0., 0., 0., 0., 0., 0., 0., 0., 0., 0., 0., 0., 0., 0., 0.,\n",
              "        0., 0., 0., 0., 0., 0., 0., 0., 0., 0., 0., 0., 0., 0., 0., 0., 0.,\n",
              "        0., 0., 0., 0., 0., 0., 0., 0., 0., 0., 0., 0., 0., 0., 0., 0., 0.,\n",
              "        0., 0., 0., 0., 0., 0., 0., 0., 0., 0., 0., 0., 0., 0., 0., 0., 0.,\n",
              "        0., 0., 0., 0., 0., 0., 0., 0., 0., 0., 0., 0., 0., 0., 0., 0., 0.,\n",
              "        0., 0., 0., 0., 0., 0., 0., 0., 0., 0., 0., 0., 0., 0., 0., 0., 0.,\n",
              "        0., 0., 0., 0., 0., 0., 0., 0., 0., 0., 0., 0., 0., 0., 0., 0., 0.,\n",
              "        0., 0., 0., 0., 0., 0., 0., 0., 0., 0., 0., 0., 0., 0., 0., 0., 0.,\n",
              "        0., 0., 0., 0., 0., 0., 0., 0., 0., 0., 0., 0., 0., 0., 0., 0., 0.,\n",
              "        0., 0., 0., 0., 0., 0., 0., 0., 0., 0., 0., 0., 0., 0., 0., 0., 0.,\n",
              "        0., 0., 0., 0., 0., 0., 0., 0., 0., 0., 0., 0., 0., 0., 0., 0., 0.,\n",
              "        0., 0., 0., 0., 0., 0., 0., 0., 0., 0., 0., 0., 0., 0., 0., 0., 0.,\n",
              "        0., 0., 0., 0., 0., 0., 0., 0., 0., 0., 0., 0., 0., 0., 0., 0., 0.,\n",
              "        0., 0., 0., 0., 0., 0., 0., 0., 0., 0., 0., 0., 0., 0., 0., 0., 0.,\n",
              "        0., 0., 0., 0., 0., 0., 0., 0., 0., 0., 0., 0., 0., 0., 0., 0., 0.,\n",
              "        0., 0., 0., 0., 0., 0., 0., 0., 0., 0., 0.], dtype=float32)]"
            ]
          },
          "metadata": {},
          "execution_count": 88
        }
      ]
    },
    {
      "cell_type": "code",
      "metadata": {
        "id": "AvWqAyD3T1Cx"
      },
      "source": [
        "weights, biases = hidden1.get_weights()"
      ],
      "execution_count": 89,
      "outputs": []
    },
    {
      "cell_type": "code",
      "metadata": {
        "id": "jsDl3Cs2T1C3",
        "colab": {
          "base_uri": "https://localhost:8080/"
        },
        "outputId": "30d3ea3b-935b-499a-ee3b-d284f54b5719"
      },
      "source": [
        "print(\"shape\\n\",weights.shape, \"\\n\")\n",
        "\n",
        "weights\n"
      ],
      "execution_count": 90,
      "outputs": [
        {
          "output_type": "stream",
          "name": "stdout",
          "text": [
            "shape\n",
            " (784, 300) \n",
            "\n"
          ]
        },
        {
          "output_type": "execute_result",
          "data": {
            "text/plain": [
              "array([[-0.07121348,  0.02996858, -0.00892057, ...,  0.00271201,\n",
              "        -0.01745396, -0.03795929],\n",
              "       [-0.04835112, -0.02941121, -0.05557812, ...,  0.03858346,\n",
              "         0.043233  ,  0.06377788],\n",
              "       [ 0.06149432, -0.01855569,  0.02798058, ..., -0.0519271 ,\n",
              "         0.06740148,  0.05877876],\n",
              "       ...,\n",
              "       [-0.04767786, -0.04823187, -0.02091664, ..., -0.03426936,\n",
              "         0.0719496 ,  0.04398869],\n",
              "       [-0.00387175, -0.01315638,  0.05500597, ...,  0.03606904,\n",
              "        -0.06403239, -0.05671719],\n",
              "       [ 0.02937387,  0.01002428, -0.02701699, ..., -0.05641264,\n",
              "        -0.01596201,  0.03700565]], dtype=float32)"
            ]
          },
          "metadata": {},
          "execution_count": 90
        }
      ]
    },
    {
      "cell_type": "code",
      "metadata": {
        "id": "NFtn3qxuT1C7",
        "colab": {
          "base_uri": "https://localhost:8080/"
        },
        "outputId": "6470b000-5da9-4c90-f11a-8d59beb7038d"
      },
      "source": [
        "print(\"shape\\n\", biases.shape)\n",
        "\n",
        "biases"
      ],
      "execution_count": 91,
      "outputs": [
        {
          "output_type": "stream",
          "name": "stdout",
          "text": [
            "shape\n",
            " (300,)\n"
          ]
        },
        {
          "output_type": "execute_result",
          "data": {
            "text/plain": [
              "array([0., 0., 0., 0., 0., 0., 0., 0., 0., 0., 0., 0., 0., 0., 0., 0., 0.,\n",
              "       0., 0., 0., 0., 0., 0., 0., 0., 0., 0., 0., 0., 0., 0., 0., 0., 0.,\n",
              "       0., 0., 0., 0., 0., 0., 0., 0., 0., 0., 0., 0., 0., 0., 0., 0., 0.,\n",
              "       0., 0., 0., 0., 0., 0., 0., 0., 0., 0., 0., 0., 0., 0., 0., 0., 0.,\n",
              "       0., 0., 0., 0., 0., 0., 0., 0., 0., 0., 0., 0., 0., 0., 0., 0., 0.,\n",
              "       0., 0., 0., 0., 0., 0., 0., 0., 0., 0., 0., 0., 0., 0., 0., 0., 0.,\n",
              "       0., 0., 0., 0., 0., 0., 0., 0., 0., 0., 0., 0., 0., 0., 0., 0., 0.,\n",
              "       0., 0., 0., 0., 0., 0., 0., 0., 0., 0., 0., 0., 0., 0., 0., 0., 0.,\n",
              "       0., 0., 0., 0., 0., 0., 0., 0., 0., 0., 0., 0., 0., 0., 0., 0., 0.,\n",
              "       0., 0., 0., 0., 0., 0., 0., 0., 0., 0., 0., 0., 0., 0., 0., 0., 0.,\n",
              "       0., 0., 0., 0., 0., 0., 0., 0., 0., 0., 0., 0., 0., 0., 0., 0., 0.,\n",
              "       0., 0., 0., 0., 0., 0., 0., 0., 0., 0., 0., 0., 0., 0., 0., 0., 0.,\n",
              "       0., 0., 0., 0., 0., 0., 0., 0., 0., 0., 0., 0., 0., 0., 0., 0., 0.,\n",
              "       0., 0., 0., 0., 0., 0., 0., 0., 0., 0., 0., 0., 0., 0., 0., 0., 0.,\n",
              "       0., 0., 0., 0., 0., 0., 0., 0., 0., 0., 0., 0., 0., 0., 0., 0., 0.,\n",
              "       0., 0., 0., 0., 0., 0., 0., 0., 0., 0., 0., 0., 0., 0., 0., 0., 0.,\n",
              "       0., 0., 0., 0., 0., 0., 0., 0., 0., 0., 0., 0., 0., 0., 0., 0., 0.,\n",
              "       0., 0., 0., 0., 0., 0., 0., 0., 0., 0., 0.], dtype=float32)"
            ]
          },
          "metadata": {},
          "execution_count": 91
        }
      ]
    },
    {
      "cell_type": "markdown",
      "metadata": {
        "id": "iAL9aF7dRyaj"
      },
      "source": [
        "$$loss\\_function(actual, pred) = error$$"
      ]
    },
    {
      "cell_type": "code",
      "metadata": {
        "id": "B0LyAwftT1C_"
      },
      "source": [
        "LOSS_FUNCTION = \"sparse_categorical_crossentropy\" # use => tf.losses.sparse_categorical_crossentropy\n",
        "OPTIMIZER = \"SGD\" # or use with custom learning rate=> tf.keras.optimizers.SGD(0.02)\n",
        "METRICS = [\"accuracy\"]\n",
        "\n",
        "model_clf.compile(loss=LOSS_FUNCTION,\n",
        "              optimizer=OPTIMIZER,\n",
        "              metrics=METRICS)\n",
        "\n"
      ],
      "execution_count": 92,
      "outputs": []
    },
    {
      "cell_type": "markdown",
      "metadata": {
        "id": "-U2yx-_hT1DF"
      },
      "source": [
        "#### Alternatively \n",
        "```python\n",
        "model_clf.compile(loss=tf.losses.sparse_categorical_crossentropy,\n",
        "               optimizer=tf.keras.optimizers.SGD(0.02),\n",
        "               metrics=[\"accuracy\"])\n",
        "```"
      ]
    },
    {
      "cell_type": "code",
      "metadata": {
        "id": "wCKQ0L6QT1DG"
      },
      "source": [
        "# 1719*30, X_train.shape, 55000/32, batch size=32 by default"
      ],
      "execution_count": 93,
      "outputs": []
    },
    {
      "cell_type": "markdown",
      "metadata": {
        "id": "A2Y8L3i0pKvT"
      },
      "source": [
        "### Important -\n",
        "\n",
        "* **Epochs**: Integer. \n",
        "    \n",
        "    Number of epochs to train the model. An epoch is an iteration over the entire x and y data provided. \n",
        "\n",
        "* **batch_size**: Integer or None. \n",
        "    \n",
        "    Number of samples per gradient update. If unspecified, batch_size will default to 32. \n",
        "    \n",
        "    *NOTE:* Do not specify the batch_size if your data is in the form of datasets, generators, or keras.utils.Sequence instances (since they generate batches).\n",
        "\n",
        "* **validation_batch_size**: Integer or None. \n",
        "\n",
        "    Number of samples per validation batch. \n",
        "    \n",
        "    If unspecified, will default to batch_size. \n",
        "    \n",
        "    *NOTE:* Do not specify the validation_batch_size if your data is in the form of datasets, generators, or keras.utils.Sequence instances (since they generate batches).\n",
        "\n",
        "[Reference](https://www.tensorflow.org/api_docs/python/tf/keras/Model?hl=zh-tw#fit)"
      ]
    },
    {
      "cell_type": "markdown",
      "metadata": {
        "id": "OmkUdrLIKdX2"
      },
      "source": [
        "## TENSORBOARD_CALLBACK"
      ]
    },
    {
      "cell_type": "code",
      "metadata": {
        "id": "qwrYWkEGKRVX"
      },
      "source": [
        "tensorboard_cb = tf.keras.callbacks.TensorBoard(log_dir=log_dir)"
      ],
      "execution_count": 94,
      "outputs": []
    },
    {
      "cell_type": "markdown",
      "metadata": {
        "id": "FQ7nXClHKj2e"
      },
      "source": [
        "## EARLY_STOPPING CALLBACK"
      ]
    },
    {
      "cell_type": "code",
      "metadata": {
        "id": "3Ng7DnIQKqlq"
      },
      "source": [
        "#if past 5 epoc accuracy is not improved stop,Restore best weight before stopping \n",
        "early_stopping_cb = tf.keras.callbacks.EarlyStopping(patience=5, restore_best_weights=True)"
      ],
      "execution_count": 95,
      "outputs": []
    },
    {
      "cell_type": "markdown",
      "metadata": {
        "id": "_ImsXQMcK99T"
      },
      "source": [
        "## Model Checkpointing callback"
      ]
    },
    {
      "cell_type": "code",
      "metadata": {
        "id": "3gZb5UwHK9Xn"
      },
      "source": [
        "# Save the model,if model crashed in b/w execution, restore epoc which has the best one & resume while call checkpoint\n",
        "CKPT_path = \"model_ckpt.h5\"\n",
        "\n",
        "checkpointing_cb = tf.keras.callbacks.ModelCheckpoint(CKPT_path, save_best_only=True)"
      ],
      "execution_count": 96,
      "outputs": []
    },
    {
      "cell_type": "code",
      "metadata": {
        "id": "xMhtQ81uLcOO"
      },
      "source": [
        "CALLBACKS_LIST = [tensorboard_cb, early_stopping_cb, checkpointing_cb]"
      ],
      "execution_count": 97,
      "outputs": []
    },
    {
      "cell_type": "code",
      "metadata": {
        "id": "EGIFIh7UT1DK",
        "colab": {
          "base_uri": "https://localhost:8080/"
        },
        "outputId": "5d0ed1e2-e4b9-43c9-f49f-6fc7b9524a71"
      },
      "source": [
        "# Here call callbacks list\n",
        "EPOCHS = 100 ###<< Experiment with higher nos.\n",
        "VALIDATION_SET = (X_valid, y_valid)\n",
        "\n",
        "history = model_clf.fit(X_train, y_train, epochs=EPOCHS,\n",
        "                    validation_data=VALIDATION_SET, callbacks=CALLBACKS_LIST)\n"
      ],
      "execution_count": 98,
      "outputs": [
        {
          "output_type": "stream",
          "name": "stdout",
          "text": [
            "Epoch 1/100\n",
            "1719/1719 [==============================] - 7s 4ms/step - loss: 0.6067 - accuracy: 0.8447 - val_loss: 0.3055 - val_accuracy: 0.9182\n",
            "Epoch 2/100\n",
            "1719/1719 [==============================] - 6s 3ms/step - loss: 0.2870 - accuracy: 0.9188 - val_loss: 0.2378 - val_accuracy: 0.9354\n",
            "Epoch 3/100\n",
            "1719/1719 [==============================] - 5s 3ms/step - loss: 0.2332 - accuracy: 0.9330 - val_loss: 0.1976 - val_accuracy: 0.9468\n",
            "Epoch 4/100\n",
            "1719/1719 [==============================] - 5s 3ms/step - loss: 0.1996 - accuracy: 0.9431 - val_loss: 0.1773 - val_accuracy: 0.9504\n",
            "Epoch 5/100\n",
            "1719/1719 [==============================] - 5s 3ms/step - loss: 0.1741 - accuracy: 0.9506 - val_loss: 0.1556 - val_accuracy: 0.9564\n",
            "Epoch 6/100\n",
            "1719/1719 [==============================] - 5s 3ms/step - loss: 0.1548 - accuracy: 0.9562 - val_loss: 0.1505 - val_accuracy: 0.9574\n",
            "Epoch 7/100\n",
            "1719/1719 [==============================] - 5s 3ms/step - loss: 0.1389 - accuracy: 0.9608 - val_loss: 0.1313 - val_accuracy: 0.9638\n",
            "Epoch 8/100\n",
            "1719/1719 [==============================] - 5s 3ms/step - loss: 0.1250 - accuracy: 0.9647 - val_loss: 0.1222 - val_accuracy: 0.9672\n",
            "Epoch 9/100\n",
            "1719/1719 [==============================] - 5s 3ms/step - loss: 0.1141 - accuracy: 0.9674 - val_loss: 0.1154 - val_accuracy: 0.9676\n",
            "Epoch 10/100\n",
            "1719/1719 [==============================] - 5s 3ms/step - loss: 0.1046 - accuracy: 0.9703 - val_loss: 0.1095 - val_accuracy: 0.9688\n",
            "Epoch 11/100\n",
            "1719/1719 [==============================] - 6s 3ms/step - loss: 0.0961 - accuracy: 0.9727 - val_loss: 0.1027 - val_accuracy: 0.9724\n",
            "Epoch 12/100\n",
            "1719/1719 [==============================] - 5s 3ms/step - loss: 0.0889 - accuracy: 0.9753 - val_loss: 0.0968 - val_accuracy: 0.9738\n",
            "Epoch 13/100\n",
            "1719/1719 [==============================] - 5s 3ms/step - loss: 0.0823 - accuracy: 0.9772 - val_loss: 0.0943 - val_accuracy: 0.9728\n",
            "Epoch 14/100\n",
            "1719/1719 [==============================] - 5s 3ms/step - loss: 0.0761 - accuracy: 0.9789 - val_loss: 0.0890 - val_accuracy: 0.9738\n",
            "Epoch 15/100\n",
            "1719/1719 [==============================] - 5s 3ms/step - loss: 0.0712 - accuracy: 0.9804 - val_loss: 0.0902 - val_accuracy: 0.9744\n",
            "Epoch 16/100\n",
            "1719/1719 [==============================] - 6s 3ms/step - loss: 0.0665 - accuracy: 0.9820 - val_loss: 0.0833 - val_accuracy: 0.9758\n",
            "Epoch 17/100\n",
            "1719/1719 [==============================] - 5s 3ms/step - loss: 0.0622 - accuracy: 0.9830 - val_loss: 0.0825 - val_accuracy: 0.9750\n",
            "Epoch 18/100\n",
            "1719/1719 [==============================] - 5s 3ms/step - loss: 0.0583 - accuracy: 0.9845 - val_loss: 0.0791 - val_accuracy: 0.9762\n",
            "Epoch 19/100\n",
            "1719/1719 [==============================] - 5s 3ms/step - loss: 0.0545 - accuracy: 0.9857 - val_loss: 0.0801 - val_accuracy: 0.9760\n",
            "Epoch 20/100\n",
            "1719/1719 [==============================] - 5s 3ms/step - loss: 0.0512 - accuracy: 0.9864 - val_loss: 0.0777 - val_accuracy: 0.9780\n",
            "Epoch 21/100\n",
            "1719/1719 [==============================] - 5s 3ms/step - loss: 0.0481 - accuracy: 0.9875 - val_loss: 0.0744 - val_accuracy: 0.9772\n",
            "Epoch 22/100\n",
            "1719/1719 [==============================] - 5s 3ms/step - loss: 0.0452 - accuracy: 0.9884 - val_loss: 0.0744 - val_accuracy: 0.9762\n",
            "Epoch 23/100\n",
            "1719/1719 [==============================] - 5s 3ms/step - loss: 0.0426 - accuracy: 0.9892 - val_loss: 0.0733 - val_accuracy: 0.9776\n",
            "Epoch 24/100\n",
            "1719/1719 [==============================] - 5s 3ms/step - loss: 0.0399 - accuracy: 0.9898 - val_loss: 0.0726 - val_accuracy: 0.9792\n",
            "Epoch 25/100\n",
            "1719/1719 [==============================] - 5s 3ms/step - loss: 0.0377 - accuracy: 0.9907 - val_loss: 0.0710 - val_accuracy: 0.9776\n",
            "Epoch 26/100\n",
            "1719/1719 [==============================] - 5s 3ms/step - loss: 0.0356 - accuracy: 0.9912 - val_loss: 0.0704 - val_accuracy: 0.9778\n",
            "Epoch 27/100\n",
            "1719/1719 [==============================] - 5s 3ms/step - loss: 0.0337 - accuracy: 0.9917 - val_loss: 0.0705 - val_accuracy: 0.9784\n",
            "Epoch 28/100\n",
            "1719/1719 [==============================] - 5s 3ms/step - loss: 0.0317 - accuracy: 0.9926 - val_loss: 0.0694 - val_accuracy: 0.9792\n",
            "Epoch 29/100\n",
            "1719/1719 [==============================] - 5s 3ms/step - loss: 0.0299 - accuracy: 0.9932 - val_loss: 0.0688 - val_accuracy: 0.9802\n",
            "Epoch 30/100\n",
            "1719/1719 [==============================] - 5s 3ms/step - loss: 0.0280 - accuracy: 0.9938 - val_loss: 0.0681 - val_accuracy: 0.9796\n",
            "Epoch 31/100\n",
            "1719/1719 [==============================] - 5s 3ms/step - loss: 0.0266 - accuracy: 0.9940 - val_loss: 0.0690 - val_accuracy: 0.9794\n",
            "Epoch 32/100\n",
            "1719/1719 [==============================] - 5s 3ms/step - loss: 0.0252 - accuracy: 0.9947 - val_loss: 0.0686 - val_accuracy: 0.9794\n",
            "Epoch 33/100\n",
            "1719/1719 [==============================] - 5s 3ms/step - loss: 0.0238 - accuracy: 0.9952 - val_loss: 0.0684 - val_accuracy: 0.9802\n",
            "Epoch 34/100\n",
            "1719/1719 [==============================] - 5s 3ms/step - loss: 0.0224 - accuracy: 0.9957 - val_loss: 0.0663 - val_accuracy: 0.9804\n",
            "Epoch 35/100\n",
            "1719/1719 [==============================] - 5s 3ms/step - loss: 0.0213 - accuracy: 0.9959 - val_loss: 0.0696 - val_accuracy: 0.9792\n",
            "Epoch 36/100\n",
            "1719/1719 [==============================] - 5s 3ms/step - loss: 0.0202 - accuracy: 0.9959 - val_loss: 0.0676 - val_accuracy: 0.9792\n",
            "Epoch 37/100\n",
            "1719/1719 [==============================] - 5s 3ms/step - loss: 0.0190 - accuracy: 0.9966 - val_loss: 0.0663 - val_accuracy: 0.9800\n",
            "Epoch 38/100\n",
            "1719/1719 [==============================] - 5s 3ms/step - loss: 0.0181 - accuracy: 0.9969 - val_loss: 0.0665 - val_accuracy: 0.9806\n",
            "Epoch 39/100\n",
            "1719/1719 [==============================] - 5s 3ms/step - loss: 0.0170 - accuracy: 0.9973 - val_loss: 0.0650 - val_accuracy: 0.9802\n",
            "Epoch 40/100\n",
            "1719/1719 [==============================] - 5s 3ms/step - loss: 0.0162 - accuracy: 0.9975 - val_loss: 0.0658 - val_accuracy: 0.9804\n",
            "Epoch 41/100\n",
            "1719/1719 [==============================] - 5s 3ms/step - loss: 0.0154 - accuracy: 0.9977 - val_loss: 0.0655 - val_accuracy: 0.9816\n",
            "Epoch 42/100\n",
            "1719/1719 [==============================] - 6s 3ms/step - loss: 0.0146 - accuracy: 0.9978 - val_loss: 0.0685 - val_accuracy: 0.9802\n",
            "Epoch 43/100\n",
            "1719/1719 [==============================] - 5s 3ms/step - loss: 0.0139 - accuracy: 0.9981 - val_loss: 0.0674 - val_accuracy: 0.9814\n",
            "Epoch 44/100\n",
            "1719/1719 [==============================] - 5s 3ms/step - loss: 0.0132 - accuracy: 0.9983 - val_loss: 0.0660 - val_accuracy: 0.9814\n"
          ]
        }
      ]
    },
    {
      "cell_type": "code",
      "metadata": {
        "id": "DXMsCUOHT1DS"
      },
      "source": [
        "import time\n",
        "import os\n",
        "\n",
        "def saveModel_path(model_dir=\"SAVED_MODELS\"):\n",
        "    os.makedirs(model_dir, exist_ok=True)\n",
        "    fileName = time.strftime(\"Model_%Y_%m_%d_%H_%M_%S_.h5\")    \n",
        "    model_path = os.path.join(model_dir, fileName)\n",
        "    print(f\"your model will be saved at the following location\\n{model_path}\")\n",
        "    return model_path\n"
      ],
      "execution_count": 99,
      "outputs": []
    },
    {
      "cell_type": "code",
      "metadata": {
        "id": "j5vyx4ALT1DX",
        "colab": {
          "base_uri": "https://localhost:8080/"
        },
        "outputId": "18a5f80a-30ae-45ca-f49e-8ccdd21e8249"
      },
      "source": [
        "UNIQUE_PATH = model_clf.save(saveModel_path())"
      ],
      "execution_count": 100,
      "outputs": [
        {
          "output_type": "stream",
          "name": "stdout",
          "text": [
            "your model will be saved at the following location\n",
            "SAVED_MODELS/Model_2021_10_13_01_27_00_.h5\n"
          ]
        }
      ]
    },
    {
      "cell_type": "code",
      "metadata": {
        "id": "fYWSNdS9T1Dj",
        "colab": {
          "base_uri": "https://localhost:8080/"
        },
        "outputId": "4dc75310-9cd8-4640-fc0c-35a5c3e6c435"
      },
      "source": [
        "history.params\n"
      ],
      "execution_count": 101,
      "outputs": [
        {
          "output_type": "execute_result",
          "data": {
            "text/plain": [
              "{'epochs': 100, 'steps': 1719, 'verbose': 1}"
            ]
          },
          "metadata": {},
          "execution_count": 101
        }
      ]
    },
    {
      "cell_type": "code",
      "metadata": {
        "id": "K9rtm3p2T1Do",
        "colab": {
          "base_uri": "https://localhost:8080/",
          "height": 1000
        },
        "outputId": "1b94fddc-5c6d-4a29-cbf2-eaed0dd256cb"
      },
      "source": [
        "pd.DataFrame(history.history)"
      ],
      "execution_count": 102,
      "outputs": [
        {
          "output_type": "execute_result",
          "data": {
            "text/html": [
              "<div>\n",
              "<style scoped>\n",
              "    .dataframe tbody tr th:only-of-type {\n",
              "        vertical-align: middle;\n",
              "    }\n",
              "\n",
              "    .dataframe tbody tr th {\n",
              "        vertical-align: top;\n",
              "    }\n",
              "\n",
              "    .dataframe thead th {\n",
              "        text-align: right;\n",
              "    }\n",
              "</style>\n",
              "<table border=\"1\" class=\"dataframe\">\n",
              "  <thead>\n",
              "    <tr style=\"text-align: right;\">\n",
              "      <th></th>\n",
              "      <th>loss</th>\n",
              "      <th>accuracy</th>\n",
              "      <th>val_loss</th>\n",
              "      <th>val_accuracy</th>\n",
              "    </tr>\n",
              "  </thead>\n",
              "  <tbody>\n",
              "    <tr>\n",
              "      <th>0</th>\n",
              "      <td>0.606679</td>\n",
              "      <td>0.844691</td>\n",
              "      <td>0.305473</td>\n",
              "      <td>0.9182</td>\n",
              "    </tr>\n",
              "    <tr>\n",
              "      <th>1</th>\n",
              "      <td>0.287019</td>\n",
              "      <td>0.918818</td>\n",
              "      <td>0.237784</td>\n",
              "      <td>0.9354</td>\n",
              "    </tr>\n",
              "    <tr>\n",
              "      <th>2</th>\n",
              "      <td>0.233249</td>\n",
              "      <td>0.933018</td>\n",
              "      <td>0.197628</td>\n",
              "      <td>0.9468</td>\n",
              "    </tr>\n",
              "    <tr>\n",
              "      <th>3</th>\n",
              "      <td>0.199645</td>\n",
              "      <td>0.943055</td>\n",
              "      <td>0.177286</td>\n",
              "      <td>0.9504</td>\n",
              "    </tr>\n",
              "    <tr>\n",
              "      <th>4</th>\n",
              "      <td>0.174111</td>\n",
              "      <td>0.950600</td>\n",
              "      <td>0.155585</td>\n",
              "      <td>0.9564</td>\n",
              "    </tr>\n",
              "    <tr>\n",
              "      <th>5</th>\n",
              "      <td>0.154792</td>\n",
              "      <td>0.956182</td>\n",
              "      <td>0.150488</td>\n",
              "      <td>0.9574</td>\n",
              "    </tr>\n",
              "    <tr>\n",
              "      <th>6</th>\n",
              "      <td>0.138867</td>\n",
              "      <td>0.960800</td>\n",
              "      <td>0.131349</td>\n",
              "      <td>0.9638</td>\n",
              "    </tr>\n",
              "    <tr>\n",
              "      <th>7</th>\n",
              "      <td>0.125003</td>\n",
              "      <td>0.964727</td>\n",
              "      <td>0.122190</td>\n",
              "      <td>0.9672</td>\n",
              "    </tr>\n",
              "    <tr>\n",
              "      <th>8</th>\n",
              "      <td>0.114056</td>\n",
              "      <td>0.967382</td>\n",
              "      <td>0.115430</td>\n",
              "      <td>0.9676</td>\n",
              "    </tr>\n",
              "    <tr>\n",
              "      <th>9</th>\n",
              "      <td>0.104558</td>\n",
              "      <td>0.970327</td>\n",
              "      <td>0.109495</td>\n",
              "      <td>0.9688</td>\n",
              "    </tr>\n",
              "    <tr>\n",
              "      <th>10</th>\n",
              "      <td>0.096114</td>\n",
              "      <td>0.972745</td>\n",
              "      <td>0.102737</td>\n",
              "      <td>0.9724</td>\n",
              "    </tr>\n",
              "    <tr>\n",
              "      <th>11</th>\n",
              "      <td>0.088897</td>\n",
              "      <td>0.975309</td>\n",
              "      <td>0.096812</td>\n",
              "      <td>0.9738</td>\n",
              "    </tr>\n",
              "    <tr>\n",
              "      <th>12</th>\n",
              "      <td>0.082308</td>\n",
              "      <td>0.977236</td>\n",
              "      <td>0.094319</td>\n",
              "      <td>0.9728</td>\n",
              "    </tr>\n",
              "    <tr>\n",
              "      <th>13</th>\n",
              "      <td>0.076137</td>\n",
              "      <td>0.978909</td>\n",
              "      <td>0.088980</td>\n",
              "      <td>0.9738</td>\n",
              "    </tr>\n",
              "    <tr>\n",
              "      <th>14</th>\n",
              "      <td>0.071244</td>\n",
              "      <td>0.980382</td>\n",
              "      <td>0.090166</td>\n",
              "      <td>0.9744</td>\n",
              "    </tr>\n",
              "    <tr>\n",
              "      <th>15</th>\n",
              "      <td>0.066464</td>\n",
              "      <td>0.981964</td>\n",
              "      <td>0.083286</td>\n",
              "      <td>0.9758</td>\n",
              "    </tr>\n",
              "    <tr>\n",
              "      <th>16</th>\n",
              "      <td>0.062181</td>\n",
              "      <td>0.982964</td>\n",
              "      <td>0.082502</td>\n",
              "      <td>0.9750</td>\n",
              "    </tr>\n",
              "    <tr>\n",
              "      <th>17</th>\n",
              "      <td>0.058298</td>\n",
              "      <td>0.984509</td>\n",
              "      <td>0.079120</td>\n",
              "      <td>0.9762</td>\n",
              "    </tr>\n",
              "    <tr>\n",
              "      <th>18</th>\n",
              "      <td>0.054475</td>\n",
              "      <td>0.985727</td>\n",
              "      <td>0.080092</td>\n",
              "      <td>0.9760</td>\n",
              "    </tr>\n",
              "    <tr>\n",
              "      <th>19</th>\n",
              "      <td>0.051217</td>\n",
              "      <td>0.986382</td>\n",
              "      <td>0.077747</td>\n",
              "      <td>0.9780</td>\n",
              "    </tr>\n",
              "    <tr>\n",
              "      <th>20</th>\n",
              "      <td>0.048085</td>\n",
              "      <td>0.987455</td>\n",
              "      <td>0.074399</td>\n",
              "      <td>0.9772</td>\n",
              "    </tr>\n",
              "    <tr>\n",
              "      <th>21</th>\n",
              "      <td>0.045205</td>\n",
              "      <td>0.988364</td>\n",
              "      <td>0.074450</td>\n",
              "      <td>0.9762</td>\n",
              "    </tr>\n",
              "    <tr>\n",
              "      <th>22</th>\n",
              "      <td>0.042568</td>\n",
              "      <td>0.989164</td>\n",
              "      <td>0.073341</td>\n",
              "      <td>0.9776</td>\n",
              "    </tr>\n",
              "    <tr>\n",
              "      <th>23</th>\n",
              "      <td>0.039920</td>\n",
              "      <td>0.989782</td>\n",
              "      <td>0.072580</td>\n",
              "      <td>0.9792</td>\n",
              "    </tr>\n",
              "    <tr>\n",
              "      <th>24</th>\n",
              "      <td>0.037721</td>\n",
              "      <td>0.990727</td>\n",
              "      <td>0.070968</td>\n",
              "      <td>0.9776</td>\n",
              "    </tr>\n",
              "    <tr>\n",
              "      <th>25</th>\n",
              "      <td>0.035592</td>\n",
              "      <td>0.991218</td>\n",
              "      <td>0.070415</td>\n",
              "      <td>0.9778</td>\n",
              "    </tr>\n",
              "    <tr>\n",
              "      <th>26</th>\n",
              "      <td>0.033665</td>\n",
              "      <td>0.991655</td>\n",
              "      <td>0.070483</td>\n",
              "      <td>0.9784</td>\n",
              "    </tr>\n",
              "    <tr>\n",
              "      <th>27</th>\n",
              "      <td>0.031672</td>\n",
              "      <td>0.992582</td>\n",
              "      <td>0.069427</td>\n",
              "      <td>0.9792</td>\n",
              "    </tr>\n",
              "    <tr>\n",
              "      <th>28</th>\n",
              "      <td>0.029947</td>\n",
              "      <td>0.993236</td>\n",
              "      <td>0.068785</td>\n",
              "      <td>0.9802</td>\n",
              "    </tr>\n",
              "    <tr>\n",
              "      <th>29</th>\n",
              "      <td>0.028044</td>\n",
              "      <td>0.993818</td>\n",
              "      <td>0.068073</td>\n",
              "      <td>0.9796</td>\n",
              "    </tr>\n",
              "    <tr>\n",
              "      <th>30</th>\n",
              "      <td>0.026635</td>\n",
              "      <td>0.994000</td>\n",
              "      <td>0.068978</td>\n",
              "      <td>0.9794</td>\n",
              "    </tr>\n",
              "    <tr>\n",
              "      <th>31</th>\n",
              "      <td>0.025223</td>\n",
              "      <td>0.994655</td>\n",
              "      <td>0.068587</td>\n",
              "      <td>0.9794</td>\n",
              "    </tr>\n",
              "    <tr>\n",
              "      <th>32</th>\n",
              "      <td>0.023770</td>\n",
              "      <td>0.995164</td>\n",
              "      <td>0.068422</td>\n",
              "      <td>0.9802</td>\n",
              "    </tr>\n",
              "    <tr>\n",
              "      <th>33</th>\n",
              "      <td>0.022418</td>\n",
              "      <td>0.995655</td>\n",
              "      <td>0.066329</td>\n",
              "      <td>0.9804</td>\n",
              "    </tr>\n",
              "    <tr>\n",
              "      <th>34</th>\n",
              "      <td>0.021252</td>\n",
              "      <td>0.995945</td>\n",
              "      <td>0.069555</td>\n",
              "      <td>0.9792</td>\n",
              "    </tr>\n",
              "    <tr>\n",
              "      <th>35</th>\n",
              "      <td>0.020174</td>\n",
              "      <td>0.995927</td>\n",
              "      <td>0.067599</td>\n",
              "      <td>0.9792</td>\n",
              "    </tr>\n",
              "    <tr>\n",
              "      <th>36</th>\n",
              "      <td>0.019035</td>\n",
              "      <td>0.996582</td>\n",
              "      <td>0.066279</td>\n",
              "      <td>0.9800</td>\n",
              "    </tr>\n",
              "    <tr>\n",
              "      <th>37</th>\n",
              "      <td>0.018108</td>\n",
              "      <td>0.996891</td>\n",
              "      <td>0.066478</td>\n",
              "      <td>0.9806</td>\n",
              "    </tr>\n",
              "    <tr>\n",
              "      <th>38</th>\n",
              "      <td>0.017019</td>\n",
              "      <td>0.997327</td>\n",
              "      <td>0.064965</td>\n",
              "      <td>0.9802</td>\n",
              "    </tr>\n",
              "    <tr>\n",
              "      <th>39</th>\n",
              "      <td>0.016235</td>\n",
              "      <td>0.997473</td>\n",
              "      <td>0.065771</td>\n",
              "      <td>0.9804</td>\n",
              "    </tr>\n",
              "    <tr>\n",
              "      <th>40</th>\n",
              "      <td>0.015441</td>\n",
              "      <td>0.997691</td>\n",
              "      <td>0.065468</td>\n",
              "      <td>0.9816</td>\n",
              "    </tr>\n",
              "    <tr>\n",
              "      <th>41</th>\n",
              "      <td>0.014557</td>\n",
              "      <td>0.997800</td>\n",
              "      <td>0.068524</td>\n",
              "      <td>0.9802</td>\n",
              "    </tr>\n",
              "    <tr>\n",
              "      <th>42</th>\n",
              "      <td>0.013908</td>\n",
              "      <td>0.998073</td>\n",
              "      <td>0.067438</td>\n",
              "      <td>0.9814</td>\n",
              "    </tr>\n",
              "    <tr>\n",
              "      <th>43</th>\n",
              "      <td>0.013163</td>\n",
              "      <td>0.998309</td>\n",
              "      <td>0.065951</td>\n",
              "      <td>0.9814</td>\n",
              "    </tr>\n",
              "  </tbody>\n",
              "</table>\n",
              "</div>"
            ],
            "text/plain": [
              "        loss  accuracy  val_loss  val_accuracy\n",
              "0   0.606679  0.844691  0.305473        0.9182\n",
              "1   0.287019  0.918818  0.237784        0.9354\n",
              "2   0.233249  0.933018  0.197628        0.9468\n",
              "3   0.199645  0.943055  0.177286        0.9504\n",
              "4   0.174111  0.950600  0.155585        0.9564\n",
              "5   0.154792  0.956182  0.150488        0.9574\n",
              "6   0.138867  0.960800  0.131349        0.9638\n",
              "7   0.125003  0.964727  0.122190        0.9672\n",
              "8   0.114056  0.967382  0.115430        0.9676\n",
              "9   0.104558  0.970327  0.109495        0.9688\n",
              "10  0.096114  0.972745  0.102737        0.9724\n",
              "11  0.088897  0.975309  0.096812        0.9738\n",
              "12  0.082308  0.977236  0.094319        0.9728\n",
              "13  0.076137  0.978909  0.088980        0.9738\n",
              "14  0.071244  0.980382  0.090166        0.9744\n",
              "15  0.066464  0.981964  0.083286        0.9758\n",
              "16  0.062181  0.982964  0.082502        0.9750\n",
              "17  0.058298  0.984509  0.079120        0.9762\n",
              "18  0.054475  0.985727  0.080092        0.9760\n",
              "19  0.051217  0.986382  0.077747        0.9780\n",
              "20  0.048085  0.987455  0.074399        0.9772\n",
              "21  0.045205  0.988364  0.074450        0.9762\n",
              "22  0.042568  0.989164  0.073341        0.9776\n",
              "23  0.039920  0.989782  0.072580        0.9792\n",
              "24  0.037721  0.990727  0.070968        0.9776\n",
              "25  0.035592  0.991218  0.070415        0.9778\n",
              "26  0.033665  0.991655  0.070483        0.9784\n",
              "27  0.031672  0.992582  0.069427        0.9792\n",
              "28  0.029947  0.993236  0.068785        0.9802\n",
              "29  0.028044  0.993818  0.068073        0.9796\n",
              "30  0.026635  0.994000  0.068978        0.9794\n",
              "31  0.025223  0.994655  0.068587        0.9794\n",
              "32  0.023770  0.995164  0.068422        0.9802\n",
              "33  0.022418  0.995655  0.066329        0.9804\n",
              "34  0.021252  0.995945  0.069555        0.9792\n",
              "35  0.020174  0.995927  0.067599        0.9792\n",
              "36  0.019035  0.996582  0.066279        0.9800\n",
              "37  0.018108  0.996891  0.066478        0.9806\n",
              "38  0.017019  0.997327  0.064965        0.9802\n",
              "39  0.016235  0.997473  0.065771        0.9804\n",
              "40  0.015441  0.997691  0.065468        0.9816\n",
              "41  0.014557  0.997800  0.068524        0.9802\n",
              "42  0.013908  0.998073  0.067438        0.9814\n",
              "43  0.013163  0.998309  0.065951        0.9814"
            ]
          },
          "metadata": {},
          "execution_count": 102
        }
      ]
    },
    {
      "cell_type": "code",
      "metadata": {
        "id": "P6nerhjCT1Ds",
        "colab": {
          "base_uri": "https://localhost:8080/",
          "height": 324
        },
        "outputId": "11e1fb34-436b-48fd-e1b1-54afe9dcde28"
      },
      "source": [
        "pd.DataFrame(history.history).plot(figsize=(8, 5))\n",
        "plt.grid(True)\n",
        "plt.gca().set_ylim(0, 1)\n",
        "plt.show()"
      ],
      "execution_count": 103,
      "outputs": [
        {
          "output_type": "display_data",
          "data": {
            "image/png": "[encoded data removed]",
            "text/plain": [
              "<Figure size 576x360 with 1 Axes>"
            ]
          },
          "metadata": {
            "needs_background": "light"
          }
        }
      ]
    },
    {
      "cell_type": "code",
      "metadata": {
        "id": "TON0RxLNT1Dw",
        "colab": {
          "base_uri": "https://localhost:8080/"
        },
        "outputId": "c18c9563-0b75-4339-faae-55aaf9cf9296"
      },
      "source": [
        "model_clf.evaluate(X_test, y_test)"
      ],
      "execution_count": 104,
      "outputs": [
        {
          "output_type": "stream",
          "name": "stdout",
          "text": [
            "313/313 [==============================] - 1s 3ms/step - loss: 0.0685 - accuracy: 0.9788\n"
          ]
        },
        {
          "output_type": "execute_result",
          "data": {
            "text/plain": [
              "[0.0685417577624321, 0.9787999987602234]"
            ]
          },
          "metadata": {},
          "execution_count": 104
        }
      ]
    },
    {
      "cell_type": "code",
      "metadata": {
        "id": "JRJ8ciK0T1D1",
        "colab": {
          "base_uri": "https://localhost:8080/"
        },
        "outputId": "9a339c01-ee9c-4c11-aae3-e7e760a9e9a9"
      },
      "source": [
        "X_new = X_test[:3]\n",
        "y_proba = model_clf.predict(X_new)\n",
        "y_proba.round(2)"
      ],
      "execution_count": 105,
      "outputs": [
        {
          "output_type": "execute_result",
          "data": {
            "text/plain": [
              "array([[0., 0., 0., 0., 0., 0., 0., 1., 0., 0.],\n",
              "       [0., 0., 1., 0., 0., 0., 0., 0., 0., 0.],\n",
              "       [0., 1., 0., 0., 0., 0., 0., 0., 0., 0.]], dtype=float32)"
            ]
          },
          "metadata": {},
          "execution_count": 105
        }
      ]
    },
    {
      "cell_type": "code",
      "metadata": {
        "id": "ofk-RtanT1D5",
        "colab": {
          "base_uri": "https://localhost:8080/"
        },
        "outputId": "3fd5aa9d-f1ec-4384-baa1-77df0d758243"
      },
      "source": [
        "y_pred = np.argmax(model_clf.predict(X_new), axis=-1)\n",
        "y_pred"
      ],
      "execution_count": 106,
      "outputs": [
        {
          "output_type": "execute_result",
          "data": {
            "text/plain": [
              "array([7, 2, 1])"
            ]
          },
          "metadata": {},
          "execution_count": 106
        }
      ]
    },
    {
      "cell_type": "code",
      "metadata": {
        "id": "NzDbztGcT1D-"
      },
      "source": [
        "y_test_new = y_test[:3]"
      ],
      "execution_count": 107,
      "outputs": []
    },
    {
      "cell_type": "code",
      "metadata": {
        "id": "ie5Kz7BBT1EC",
        "colab": {
          "base_uri": "https://localhost:8080/",
          "height": 813
        },
        "outputId": "9c246df5-6d8f-4c51-b475-6e07b4526c8b"
      },
      "source": [
        "for data, pred, actual in zip(X_new, y_pred, y_test_new):\n",
        "    plt.imshow(data, cmap=\"binary\")\n",
        "    plt.title(f\"Predicted: {pred}, Actual: {actual}\")\n",
        "    plt.axis('off')\n",
        "    plt.show()\n",
        "    print(\"---\"*20)"
      ],
      "execution_count": 108,
      "outputs": [
        {
          "output_type": "display_data",
          "data": {
            "image/png": "[encoded data removed]",
            "text/plain": [
              "<Figure size 432x288 with 1 Axes>"
            ]
          },
          "metadata": {
            "needs_background": "light"
          }
        },
        {
          "output_type": "stream",
          "name": "stdout",
          "text": [
            "------------------------------------------------------------\n"
          ]
        },
        {
          "output_type": "display_data",
          "data": {
            "image/png": "[encoded data removed]",
            "text/plain": [
              "<Figure size 432x288 with 1 Axes>"
            ]
          },
          "metadata": {
            "needs_background": "light"
          }
        },
        {
          "output_type": "stream",
          "name": "stdout",
          "text": [
            "------------------------------------------------------------\n"
          ]
        },
        {
          "output_type": "display_data",
          "data": {
            "image/png": "[encoded data removed]",
            "text/plain": [
              "<Figure size 432x288 with 1 Axes>"
            ]
          },
          "metadata": {
            "needs_background": "light"
          }
        },
        {
          "output_type": "stream",
          "name": "stdout",
          "text": [
            "------------------------------------------------------------\n"
          ]
        }
      ]
    },
    {
      "cell_type": "markdown",
      "metadata": {
        "id": "CpnwfOPyNvsa"
      },
      "source": [
        "## restart the training from checkpoint "
      ]
    },
    {
      "cell_type": "code",
      "metadata": {
        "colab": {
          "base_uri": "https://localhost:8080/"
        },
        "id": "ydAsf1vzNse5",
        "outputId": "da8642ce-94c7-4d9f-d20c-859be3ae53d2"
      },
      "source": [
        "#Here we can see the accuracy started from last stopped training accuracy(Means use last best weight)\n",
        "ckpt_model = tf.keras.models.load_model(CKPT_path)\n",
        "\n",
        "history = ckpt_model.fit(X_train, y_train, epochs=EPOCHS,\n",
        "                    validation_data=VALIDATION_SET, callbacks=CALLBACKS_LIST)"
      ],
      "execution_count": 109,
      "outputs": [
        {
          "output_type": "stream",
          "name": "stdout",
          "text": [
            "Epoch 1/100\n",
            "1719/1719 [==============================] - 6s 3ms/step - loss: 0.0163 - accuracy: 0.9975 - val_loss: 0.0682 - val_accuracy: 0.9800\n",
            "Epoch 2/100\n",
            "1719/1719 [==============================] - 5s 3ms/step - loss: 0.0154 - accuracy: 0.9977 - val_loss: 0.0669 - val_accuracy: 0.9808\n",
            "Epoch 3/100\n",
            "1719/1719 [==============================] - 5s 3ms/step - loss: 0.0146 - accuracy: 0.9981 - val_loss: 0.0651 - val_accuracy: 0.9810\n",
            "Epoch 4/100\n",
            "1719/1719 [==============================] - 6s 3ms/step - loss: 0.0138 - accuracy: 0.9981 - val_loss: 0.0658 - val_accuracy: 0.9810\n",
            "Epoch 5/100\n",
            "1719/1719 [==============================] - 5s 3ms/step - loss: 0.0132 - accuracy: 0.9983 - val_loss: 0.0660 - val_accuracy: 0.9814\n",
            "Epoch 6/100\n",
            "1719/1719 [==============================] - 5s 3ms/step - loss: 0.0125 - accuracy: 0.9984 - val_loss: 0.0665 - val_accuracy: 0.9810\n",
            "Epoch 7/100\n",
            "1719/1719 [==============================] - 5s 3ms/step - loss: 0.0119 - accuracy: 0.9986 - val_loss: 0.0654 - val_accuracy: 0.9812\n",
            "Epoch 8/100\n",
            "1719/1719 [==============================] - 5s 3ms/step - loss: 0.0114 - accuracy: 0.9986 - val_loss: 0.0654 - val_accuracy: 0.9812\n"
          ]
        }
      ]
    },
    {
      "cell_type": "code",
      "metadata": {
        "id": "sX34mX1QOAm-"
      },
      "source": [
        ""
      ],
      "execution_count": 109,
      "outputs": []
    }
  ]
}