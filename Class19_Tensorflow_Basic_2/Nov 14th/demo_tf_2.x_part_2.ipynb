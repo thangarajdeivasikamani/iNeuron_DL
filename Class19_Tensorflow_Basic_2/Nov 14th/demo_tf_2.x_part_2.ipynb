{
 "cells": [
  {
   "cell_type": "markdown",
   "metadata": {
    "id": "zVbIh7NgylrA"
   },
   "source": [
    "### WEEKDAYS TIMING -\n",
    "Tuesday - Friday \n",
    "\n",
    "2100 - 2300 hrs IST\n",
    "\n",
    "2100 - 2200 hrs IST - Sessions\n",
    "\n",
    "2200 - 2300 hrs IST - Doubts\n",
    "\n",
    "By 0200 hrs Temporary Zoom Recordings will be available"
   ]
  },
  {
   "cell_type": "code",
   "execution_count": 1,
   "metadata": {
    "executionInfo": {
     "elapsed": 2791,
     "status": "ok",
     "timestamp": 1636890740654,
     "user": {
      "displayName": "colab0 ineuron",
      "photoUrl": "https://lh3.googleusercontent.com/a/default-user=s64",
      "userId": "16851312232179065356"
     },
     "user_tz": -330
    },
    "id": "AROq9toaNn7-"
   },
   "outputs": [],
   "source": [
    "import tensorflow as tf"
   ]
  },
  {
   "cell_type": "code",
   "execution_count": 2,
   "metadata": {
    "colab": {
     "base_uri": "https://localhost:8080/"
    },
    "executionInfo": {
     "elapsed": 343,
     "status": "ok",
     "timestamp": 1636890973676,
     "user": {
      "displayName": "colab0 ineuron",
      "photoUrl": "https://lh3.googleusercontent.com/a/default-user=s64",
      "userId": "16851312232179065356"
     },
     "user_tz": -330
    },
    "id": "bdYh1GEySnpK",
    "outputId": "7d04e5b7-6aa2-4f19-97dc-e1dad42627a5"
   },
   "outputs": [
    {
     "name": "stdout",
     "output_type": "stream",
     "text": [
      "tf.Tensor(\n",
      "[[2 2]\n",
      " [6 2]], shape=(2, 2), dtype=int32)\n",
      "tf.Tensor(\n",
      "[[8 2]\n",
      " [2 2]], shape=(2, 2), dtype=int32)\n"
     ]
    }
   ],
   "source": [
    "SEED = 12 \n",
    "\n",
    "tf.random.set_seed(SEED)\n",
    "ran_num_1 = tf.random.uniform(shape=(2,2), minval=0, maxval=10, dtype=tf.int32)\n",
    "ran_num_2 = tf.random.uniform(shape=(2,2), minval=0, maxval=10, dtype=tf.int32)\n",
    "\n",
    "print(ran_num_1)\n",
    "print(ran_num_2)"
   ]
  },
  {
   "cell_type": "code",
   "execution_count": 3,
   "metadata": {
    "colab": {
     "base_uri": "https://localhost:8080/"
    },
    "executionInfo": {
     "elapsed": 346,
     "status": "ok",
     "timestamp": 1636890982463,
     "user": {
      "displayName": "colab0 ineuron",
      "photoUrl": "https://lh3.googleusercontent.com/a/default-user=s64",
      "userId": "16851312232179065356"
     },
     "user_tz": -330
    },
    "id": "ZNIH5ayTTIYY",
    "outputId": "e9f0d284-5610-41ce-cd08-bf352ff68a0d"
   },
   "outputs": [
    {
     "name": "stdout",
     "output_type": "stream",
     "text": [
      "tf.Tensor(\n",
      "[[2 2]\n",
      " [6 2]], shape=(2, 2), dtype=int32)\n",
      "tf.Tensor(\n",
      "[[8 2]\n",
      " [2 2]], shape=(2, 2), dtype=int32)\n"
     ]
    }
   ],
   "source": [
    "SEED = 12 \n",
    "\n",
    "tf.random.set_seed(SEED)\n",
    "ran_num_1 = tf.random.uniform(shape=(2,2), minval=0, maxval=10, dtype=tf.int32)\n",
    "ran_num_2 = tf.random.uniform(shape=(2,2), minval=0, maxval=10, dtype=tf.int32)\n",
    "\n",
    "print(ran_num_1)\n",
    "print(ran_num_2)"
   ]
  },
  {
   "cell_type": "code",
   "execution_count": 4,
   "metadata": {
    "colab": {
     "base_uri": "https://localhost:8080/"
    },
    "executionInfo": {
     "elapsed": 343,
     "status": "ok",
     "timestamp": 1636891007666,
     "user": {
      "displayName": "colab0 ineuron",
      "photoUrl": "https://lh3.googleusercontent.com/a/default-user=s64",
      "userId": "16851312232179065356"
     },
     "user_tz": -330
    },
    "id": "QyC2-cl6TjSf",
    "outputId": "6bff6906-9660-4aba-9877-9b562ea60a93"
   },
   "outputs": [
    {
     "name": "stdout",
     "output_type": "stream",
     "text": [
      "tf.Tensor(\n",
      "[[8 4]\n",
      " [5 2]], shape=(2, 2), dtype=int32)\n",
      "tf.Tensor(\n",
      "[[3 0]\n",
      " [7 0]], shape=(2, 2), dtype=int32)\n"
     ]
    }
   ],
   "source": [
    "#without seed\n",
    "# SEED = 12 \n",
    "\n",
    "# tf.random.set_seed(SEED)\n",
    "ran_num_1 = tf.random.uniform(shape=(2,2), minval=0, maxval=10, dtype=tf.int32)\n",
    "ran_num_2 = tf.random.uniform(shape=(2,2), minval=0, maxval=10, dtype=tf.int32)\n",
    "\n",
    "print(ran_num_1)\n",
    "print(ran_num_2)"
   ]
  },
  {
   "cell_type": "code",
   "execution_count": 5,
   "metadata": {
    "colab": {
     "base_uri": "https://localhost:8080/"
    },
    "executionInfo": {
     "elapsed": 2,
     "status": "ok",
     "timestamp": 1636891201110,
     "user": {
      "displayName": "colab0 ineuron",
      "photoUrl": "https://lh3.googleusercontent.com/a/default-user=s64",
      "userId": "16851312232179065356"
     },
     "user_tz": -330
    },
    "id": "9ELOT0nsTm7H",
    "outputId": "03eedbe1-bfc5-4d6f-c81c-4465adb8126b"
   },
   "outputs": [
    {
     "name": "stdout",
     "output_type": "stream",
     "text": [
      "tf.Tensor(\n",
      "[[2 2]\n",
      " [6 2]], shape=(2, 2), dtype=int32)\n",
      "tf.Tensor(\n",
      "[[8 2]\n",
      " [2 2]], shape=(2, 2), dtype=int32)\n"
     ]
    }
   ],
   "source": [
    "SEED = 12\n",
    "\n",
    "tf.random.set_seed(SEED)\n",
    "ran_num_1 = tf.random.uniform(shape=(2,2), minval=0, maxval=10, dtype=tf.int32)\n",
    "ran_num_2 = tf.random.uniform(shape=(2,2), minval=0, maxval=10, dtype=tf.int32)\n",
    "\n",
    "print(ran_num_1)\n",
    "print(ran_num_2)"
   ]
  },
  {
   "cell_type": "code",
   "execution_count": 6,
   "metadata": {
    "colab": {
     "base_uri": "https://localhost:8080/"
    },
    "executionInfo": {
     "elapsed": 350,
     "status": "ok",
     "timestamp": 1636891778898,
     "user": {
      "displayName": "colab0 ineuron",
      "photoUrl": "https://lh3.googleusercontent.com/a/default-user=s64",
      "userId": "16851312232179065356"
     },
     "user_tz": -330
    },
    "id": "ukj7Ny8wV5ZY",
    "outputId": "23113580-5ff6-466c-bcfb-8794214b0ea6"
   },
   "outputs": [
    {
     "name": "stdout",
     "output_type": "stream",
     "text": [
      "tf.Tensor(\n",
      "[[ 9]\n",
      " [ 6]\n",
      " [10]\n",
      " [ 2]\n",
      " [ 7]\n",
      " [ 8]\n",
      " [ 9]\n",
      " [ 4]\n",
      " [ 3]\n",
      " [ 6]], shape=(10, 1), dtype=int32)\n"
     ]
    }
   ],
   "source": [
    "# Dice roling example\n",
    "dice1 = tf.Variable(tf.random.uniform([10, 1], minval=1, maxval=7, dtype=tf.int32))\n",
    "dice2 = tf.Variable(tf.random.uniform([10, 1], minval=1, maxval=7, dtype=tf.int32))\n",
    "\n",
    "dice_sum = dice1 + dice2\n",
    "print(dice_sum)"
   ]
  },
  {
   "cell_type": "code",
   "execution_count": 7,
   "metadata": {
    "colab": {
     "base_uri": "https://localhost:8080/"
    },
    "executionInfo": {
     "elapsed": 345,
     "status": "ok",
     "timestamp": 1636891839814,
     "user": {
      "displayName": "colab0 ineuron",
      "photoUrl": "https://lh3.googleusercontent.com/a/default-user=s64",
      "userId": "16851312232179065356"
     },
     "user_tz": -330
    },
    "id": "XBjcHif9WY9f",
    "outputId": "ca4d928d-faf7-4d1e-fcfd-0814da2941c1"
   },
   "outputs": [
    {
     "name": "stdout",
     "output_type": "stream",
     "text": [
      "tf.Tensor(\n",
      "[[ 3  6  9]\n",
      " [ 3  3  6]\n",
      " [ 4  6 10]\n",
      " [ 1  1  2]\n",
      " [ 1  6  7]\n",
      " [ 4  4  8]\n",
      " [ 3  6  9]\n",
      " [ 2  2  4]\n",
      " [ 2  1  3]\n",
      " [ 4  2  6]], shape=(10, 3), dtype=int32)\n"
     ]
    }
   ],
   "source": [
    "final_matrix = tf.concat(values=[dice1, dice2, dice_sum], axis=1)\n",
    "print(final_matrix)"
   ]
  },
  {
   "cell_type": "code",
   "execution_count": 8,
   "metadata": {
    "colab": {
     "base_uri": "https://localhost:8080/"
    },
    "executionInfo": {
     "elapsed": 341,
     "status": "ok",
     "timestamp": 1636892277014,
     "user": {
      "displayName": "colab0 ineuron",
      "photoUrl": "https://lh3.googleusercontent.com/a/default-user=s64",
      "userId": "16851312232179065356"
     },
     "user_tz": -330
    },
    "id": "6j3ufMYvW0mw",
    "outputId": "5032f62e-8d75-4b7c-ee9f-6e4fedc59339"
   },
   "outputs": [
    {
     "name": "stdout",
     "output_type": "stream",
     "text": [
      "max value: 10 present at index: 2\n"
     ]
    },
    {
     "name": "stderr",
     "output_type": "stream",
     "text": [
      "<ipython-input-8-11d8f6cfe2fa>:2: FutureWarning: Using a non-tuple sequence for multidimensional indexing is deprecated; use `arr[tuple(seq)]` instead of `arr[seq]`. In the future this will be interpreted as an array index, `arr[np.array(seq)]`, which will result either in an error or a different result.\n",
      "  print(f\"max value: {dice_sum.numpy()[idx][0]} present at index: {idx[0]}\")\n"
     ]
    }
   ],
   "source": [
    "idx = tf.argmax(input=dice_sum)\n",
    "print(f\"max value: {dice_sum.numpy()[idx][0]} present at index: {idx[0]}\")"
   ]
  },
  {
   "cell_type": "code",
   "execution_count": 9,
   "metadata": {
    "colab": {
     "base_uri": "https://localhost:8080/"
    },
    "executionInfo": {
     "elapsed": 338,
     "status": "ok",
     "timestamp": 1636892323105,
     "user": {
      "displayName": "colab0 ineuron",
      "photoUrl": "https://lh3.googleusercontent.com/a/default-user=s64",
      "userId": "16851312232179065356"
     },
     "user_tz": -330
    },
    "id": "PLMOE3diYnWA",
    "outputId": "3dca1588-783a-4619-d8fd-624cafd0bbe4"
   },
   "outputs": [
    {
     "name": "stdout",
     "output_type": "stream",
     "text": [
      "min value: 2 present at index: 3\n"
     ]
    },
    {
     "name": "stderr",
     "output_type": "stream",
     "text": [
      "<ipython-input-9-5d5f9efe1eae>:2: FutureWarning: Using a non-tuple sequence for multidimensional indexing is deprecated; use `arr[tuple(seq)]` instead of `arr[seq]`. In the future this will be interpreted as an array index, `arr[np.array(seq)]`, which will result either in an error or a different result.\n",
      "  print(f\"min value: {dice_sum.numpy()[idx][0]} present at index: {idx[0]}\")\n"
     ]
    }
   ],
   "source": [
    "idx = tf.argmin(input=dice_sum)\n",
    "print(f\"min value: {dice_sum.numpy()[idx][0]} present at index: {idx[0]}\")"
   ]
  },
  {
   "cell_type": "code",
   "execution_count": 10,
   "metadata": {
    "colab": {
     "base_uri": "https://localhost:8080/"
    },
    "executionInfo": {
     "elapsed": 344,
     "status": "ok",
     "timestamp": 1636892213121,
     "user": {
      "displayName": "colab0 ineuron",
      "photoUrl": "https://lh3.googleusercontent.com/a/default-user=s64",
      "userId": "16851312232179065356"
     },
     "user_tz": -330
    },
    "id": "d-SKH1inXaV4",
    "outputId": "0f1c1218-7fbc-41bb-eeb4-9d21643e82f4"
   },
   "outputs": [
    {
     "data": {
      "text/plain": [
       "array([[ 9],\n",
       "       [ 6],\n",
       "       [10],\n",
       "       [ 2],\n",
       "       [ 7],\n",
       "       [ 8],\n",
       "       [ 9],\n",
       "       [ 4],\n",
       "       [ 3],\n",
       "       [ 6]])"
      ]
     },
     "execution_count": 10,
     "metadata": {},
     "output_type": "execute_result"
    }
   ],
   "source": [
    "dice_sum.numpy()"
   ]
  },
  {
   "cell_type": "code",
   "execution_count": 11,
   "metadata": {
    "colab": {
     "base_uri": "https://localhost:8080/"
    },
    "executionInfo": {
     "elapsed": 338,
     "status": "ok",
     "timestamp": 1636892244115,
     "user": {
      "displayName": "colab0 ineuron",
      "photoUrl": "https://lh3.googleusercontent.com/a/default-user=s64",
      "userId": "16851312232179065356"
     },
     "user_tz": -330
    },
    "id": "JVoV-zaeYPv4",
    "outputId": "c75dae37-762c-4f0e-9881-2366e9265985"
   },
   "outputs": [
    {
     "data": {
      "text/plain": [
       "7"
      ]
     },
     "execution_count": 11,
     "metadata": {},
     "output_type": "execute_result"
    }
   ],
   "source": [
    "dice_sum.numpy()[4][0]"
   ]
  },
  {
   "cell_type": "markdown",
   "metadata": {
    "id": "5uO-uJG0Y7HQ"
   },
   "source": [
    "## Checkpointing to restrore the matrix vals"
   ]
  },
  {
   "cell_type": "code",
   "execution_count": 12,
   "metadata": {
    "colab": {
     "base_uri": "https://localhost:8080/"
    },
    "executionInfo": {
     "elapsed": 426,
     "status": "ok",
     "timestamp": 1636892578156,
     "user": {
      "displayName": "colab0 ineuron",
      "photoUrl": "https://lh3.googleusercontent.com/a/default-user=s64",
      "userId": "16851312232179065356"
     },
     "user_tz": -330
    },
    "id": "oWJ8Zg7KY6yW",
    "outputId": "fbf1828c-ff90-4aa7-a79e-ed880d905076"
   },
   "outputs": [
    {
     "data": {
      "text/plain": [
       "<tf.Variable 'Variable:0' shape=(5, 5) dtype=float32, numpy=\n",
       "array([[5., 5., 5., 5., 5.],\n",
       "       [5., 5., 5., 5., 5.],\n",
       "       [5., 5., 5., 5., 5.],\n",
       "       [5., 5., 5., 5., 5.],\n",
       "       [5., 5., 5., 5., 5.]], dtype=float32)>"
      ]
     },
     "execution_count": 12,
     "metadata": {},
     "output_type": "execute_result"
    }
   ],
   "source": [
    "var1 = tf.Variable(5*tf.ones((5,5)))\n",
    "var1"
   ]
  },
  {
   "cell_type": "code",
   "execution_count": 13,
   "metadata": {
    "executionInfo": {
     "elapsed": 2,
     "status": "ok",
     "timestamp": 1636892578539,
     "user": {
      "displayName": "colab0 ineuron",
      "photoUrl": "https://lh3.googleusercontent.com/a/default-user=s64",
      "userId": "16851312232179065356"
     },
     "user_tz": -330
    },
    "id": "UQ67HYKRYUQg"
   },
   "outputs": [],
   "source": [
    "ckpt = tf.train.Checkpoint(var=var1)\n",
    "savepath = ckpt.save(\"./vars.ckpt\")"
   ]
  },
  {
   "cell_type": "code",
   "execution_count": 14,
   "metadata": {
    "colab": {
     "base_uri": "https://localhost:8080/"
    },
    "executionInfo": {
     "elapsed": 358,
     "status": "ok",
     "timestamp": 1636892654452,
     "user": {
      "displayName": "colab0 ineuron",
      "photoUrl": "https://lh3.googleusercontent.com/a/default-user=s64",
      "userId": "16851312232179065356"
     },
     "user_tz": -330
    },
    "id": "zLS-q7_QZYKj",
    "outputId": "a344fb93-7768-40c1-dccf-a4cc9258f1a8"
   },
   "outputs": [
    {
     "data": {
      "text/plain": [
       "<tf.Variable 'UnreadVariable' shape=(5, 5) dtype=float32, numpy=\n",
       "array([[0., 0., 0., 0., 0.],\n",
       "       [0., 0., 0., 0., 0.],\n",
       "       [0., 0., 0., 0., 0.],\n",
       "       [0., 0., 0., 0., 0.],\n",
       "       [0., 0., 0., 0., 0.]], dtype=float32)>"
      ]
     },
     "execution_count": 14,
     "metadata": {},
     "output_type": "execute_result"
    }
   ],
   "source": [
    "var1.assign(tf.zeros((5,5)))"
   ]
  },
  {
   "cell_type": "code",
   "execution_count": 15,
   "metadata": {
    "colab": {
     "base_uri": "https://localhost:8080/"
    },
    "executionInfo": {
     "elapsed": 355,
     "status": "ok",
     "timestamp": 1636892662152,
     "user": {
      "displayName": "colab0 ineuron",
      "photoUrl": "https://lh3.googleusercontent.com/a/default-user=s64",
      "userId": "16851312232179065356"
     },
     "user_tz": -330
    },
    "id": "DFfzvUWGZxIw",
    "outputId": "ab958fa2-5f34-4579-a344-f3c77102c123"
   },
   "outputs": [
    {
     "data": {
      "text/plain": [
       "<tf.Variable 'Variable:0' shape=(5, 5) dtype=float32, numpy=\n",
       "array([[0., 0., 0., 0., 0.],\n",
       "       [0., 0., 0., 0., 0.],\n",
       "       [0., 0., 0., 0., 0.],\n",
       "       [0., 0., 0., 0., 0.],\n",
       "       [0., 0., 0., 0., 0.]], dtype=float32)>"
      ]
     },
     "execution_count": 15,
     "metadata": {},
     "output_type": "execute_result"
    }
   ],
   "source": [
    "var1"
   ]
  },
  {
   "cell_type": "code",
   "execution_count": 16,
   "metadata": {
    "colab": {
     "base_uri": "https://localhost:8080/"
    },
    "executionInfo": {
     "elapsed": 333,
     "status": "ok",
     "timestamp": 1636892685446,
     "user": {
      "displayName": "colab0 ineuron",
      "photoUrl": "https://lh3.googleusercontent.com/a/default-user=s64",
      "userId": "16851312232179065356"
     },
     "user_tz": -330
    },
    "id": "Geb7cKCXZ9H5",
    "outputId": "284fdd2d-f2ac-4e4e-96a7-8d107b2e5818"
   },
   "outputs": [
    {
     "data": {
      "text/plain": [
       "<tensorflow.python.training.tracking.util.CheckpointLoadStatus at 0x4d61a00>"
      ]
     },
     "execution_count": 16,
     "metadata": {},
     "output_type": "execute_result"
    }
   ],
   "source": [
    "ckpt.restore(savepath)"
   ]
  },
  {
   "cell_type": "code",
   "execution_count": 17,
   "metadata": {
    "colab": {
     "base_uri": "https://localhost:8080/"
    },
    "executionInfo": {
     "elapsed": 523,
     "status": "ok",
     "timestamp": 1636892691769,
     "user": {
      "displayName": "colab0 ineuron",
      "photoUrl": "https://lh3.googleusercontent.com/a/default-user=s64",
      "userId": "16851312232179065356"
     },
     "user_tz": -330
    },
    "id": "6L0OTb8xaDEB",
    "outputId": "994f1617-5a90-4b4f-9c73-345c99c0a631"
   },
   "outputs": [
    {
     "data": {
      "text/plain": [
       "<tf.Variable 'Variable:0' shape=(5, 5) dtype=float32, numpy=\n",
       "array([[5., 5., 5., 5., 5.],\n",
       "       [5., 5., 5., 5., 5.],\n",
       "       [5., 5., 5., 5., 5.],\n",
       "       [5., 5., 5., 5., 5.],\n",
       "       [5., 5., 5., 5., 5.]], dtype=float32)>"
      ]
     },
     "execution_count": 17,
     "metadata": {},
     "output_type": "execute_result"
    }
   ],
   "source": [
    "var1"
   ]
  },
  {
   "cell_type": "markdown",
   "metadata": {
    "id": "_nVX71C-akVN"
   },
   "source": [
    "## using tf.function <<< IMPORTANT\n"
   ]
  },
  {
   "cell_type": "markdown",
   "metadata": {
    "id": "z7vx-307b6-i"
   },
   "source": [
    "$z = x^3 * 6 + y^3$"
   ]
  },
  {
   "cell_type": "code",
   "execution_count": 18,
   "metadata": {
    "executionInfo": {
     "elapsed": 381,
     "status": "ok",
     "timestamp": 1636893258109,
     "user": {
      "displayName": "colab0 ineuron",
      "photoUrl": "https://lh3.googleusercontent.com/a/default-user=s64",
      "userId": "16851312232179065356"
     },
     "user_tz": -330
    },
    "id": "gzFH8wGIaEjq"
   },
   "outputs": [],
   "source": [
    "def f1(x, y):\n",
    "  return tf.reduce_mean(input_tensor=tf.multiply(x ** 3, 6) + y ** 3)"
   ]
  },
  {
   "cell_type": "code",
   "execution_count": 19,
   "metadata": {
    "executionInfo": {
     "elapsed": 362,
     "status": "ok",
     "timestamp": 1636893276458,
     "user": {
      "displayName": "colab0 ineuron",
      "photoUrl": "https://lh3.googleusercontent.com/a/default-user=s64",
      "userId": "16851312232179065356"
     },
     "user_tz": -330
    },
    "id": "9ponsPv_cNOh"
   },
   "outputs": [],
   "source": [
    "func = tf.function(f1)"
   ]
  },
  {
   "cell_type": "code",
   "execution_count": 20,
   "metadata": {
    "executionInfo": {
     "elapsed": 352,
     "status": "ok",
     "timestamp": 1636893309951,
     "user": {
      "displayName": "colab0 ineuron",
      "photoUrl": "https://lh3.googleusercontent.com/a/default-user=s64",
      "userId": "16851312232179065356"
     },
     "user_tz": -330
    },
    "id": "05sA5-CBcTWC"
   },
   "outputs": [],
   "source": [
    "x = tf.constant([3., -4.])\n",
    "y = tf.constant([1., 4.])"
   ]
  },
  {
   "cell_type": "code",
   "execution_count": 21,
   "metadata": {
    "colab": {
     "base_uri": "https://localhost:8080/"
    },
    "executionInfo": {
     "elapsed": 361,
     "status": "ok",
     "timestamp": 1636893376831,
     "user": {
      "displayName": "colab0 ineuron",
      "photoUrl": "https://lh3.googleusercontent.com/a/default-user=s64",
      "userId": "16851312232179065356"
     },
     "user_tz": -330
    },
    "id": "vDYmZ3B1cbhi",
    "outputId": "2988f2d6-c46a-4d50-f392-01ec02d605e6"
   },
   "outputs": [
    {
     "data": {
      "text/plain": [
       "-78.5"
      ]
     },
     "execution_count": 21,
     "metadata": {},
     "output_type": "execute_result"
    }
   ],
   "source": [
    "f1(x,y).numpy() ## just using simple python function"
   ]
  },
  {
   "cell_type": "code",
   "execution_count": 22,
   "metadata": {
    "colab": {
     "base_uri": "https://localhost:8080/"
    },
    "executionInfo": {
     "elapsed": 351,
     "status": "ok",
     "timestamp": 1636893396749,
     "user": {
      "displayName": "colab0 ineuron",
      "photoUrl": "https://lh3.googleusercontent.com/a/default-user=s64",
      "userId": "16851312232179065356"
     },
     "user_tz": -330
    },
    "id": "pM18Hxtnce7F",
    "outputId": "13c6e1a5-bf82-4712-b7ca-64c36ae0924f"
   },
   "outputs": [
    {
     "data": {
      "text/plain": [
       "-78.5"
      ]
     },
     "execution_count": 22,
     "metadata": {},
     "output_type": "execute_result"
    }
   ],
   "source": [
    "func(x, y).numpy()"
   ]
  },
  {
   "cell_type": "code",
   "execution_count": 23,
   "metadata": {
    "executionInfo": {
     "elapsed": 337,
     "status": "ok",
     "timestamp": 1636893442530,
     "user": {
      "displayName": "colab0 ineuron",
      "photoUrl": "https://lh3.googleusercontent.com/a/default-user=s64",
      "userId": "16851312232179065356"
     },
     "user_tz": -330
    },
    "id": "4tJphaW1cwt0"
   },
   "outputs": [],
   "source": [
    "@tf.function ## << decorator\n",
    "def f2(x, y):\n",
    "  return tf.reduce_mean(input_tensor=tf.multiply(x ** 3, 6) + y ** 3)"
   ]
  },
  {
   "cell_type": "code",
   "execution_count": 24,
   "metadata": {
    "colab": {
     "base_uri": "https://localhost:8080/"
    },
    "executionInfo": {
     "elapsed": 363,
     "status": "ok",
     "timestamp": 1636893479146,
     "user": {
      "displayName": "colab0 ineuron",
      "photoUrl": "https://lh3.googleusercontent.com/a/default-user=s64",
      "userId": "16851312232179065356"
     },
     "user_tz": -330
    },
    "id": "0-NJMOgEc75i",
    "outputId": "dd121107-ce34-4b80-c5a5-bde79d0fc6be"
   },
   "outputs": [
    {
     "data": {
      "text/plain": [
       "-78.5"
      ]
     },
     "execution_count": 24,
     "metadata": {},
     "output_type": "execute_result"
    }
   ],
   "source": [
    "f2(x, y).numpy()"
   ]
  },
  {
   "cell_type": "markdown",
   "metadata": {
    "id": "HTY6A52AdMiW"
   },
   "source": [
    "### Example of decorator"
   ]
  },
  {
   "cell_type": "code",
   "execution_count": 25,
   "metadata": {
    "executionInfo": {
     "elapsed": 331,
     "status": "ok",
     "timestamp": 1636893613942,
     "user": {
      "displayName": "colab0 ineuron",
      "photoUrl": "https://lh3.googleusercontent.com/a/default-user=s64",
      "userId": "16851312232179065356"
     },
     "user_tz": -330
    },
    "id": "kKD6jUmFdBst"
   },
   "outputs": [],
   "source": [
    "def decorate_it(input_func):\n",
    "  def decorated_func():\n",
    "    print(\"#\"*10)\n",
    "    input_func()\n",
    "    print(\"#\"*10)\n",
    "\n",
    "  return decorated_func\n",
    "\n",
    "def print_me():\n",
    "  print(\"welcome to ineuron\")"
   ]
  },
  {
   "cell_type": "code",
   "execution_count": 26,
   "metadata": {
    "colab": {
     "base_uri": "https://localhost:8080/"
    },
    "executionInfo": {
     "elapsed": 340,
     "status": "ok",
     "timestamp": 1636893622177,
     "user": {
      "displayName": "colab0 ineuron",
      "photoUrl": "https://lh3.googleusercontent.com/a/default-user=s64",
      "userId": "16851312232179065356"
     },
     "user_tz": -330
    },
    "id": "_0_HCaH7dlvw",
    "outputId": "e8033d40-8e1e-4ab2-991a-92441092a28e"
   },
   "outputs": [
    {
     "name": "stdout",
     "output_type": "stream",
     "text": [
      "welcome to ineuron\n"
     ]
    }
   ],
   "source": [
    "print_me()"
   ]
  },
  {
   "cell_type": "code",
   "execution_count": 27,
   "metadata": {
    "colab": {
     "base_uri": "https://localhost:8080/"
    },
    "executionInfo": {
     "elapsed": 326,
     "status": "ok",
     "timestamp": 1636893647612,
     "user": {
      "displayName": "colab0 ineuron",
      "photoUrl": "https://lh3.googleusercontent.com/a/default-user=s64",
      "userId": "16851312232179065356"
     },
     "user_tz": -330
    },
    "id": "90gy2zO7dnwb",
    "outputId": "58d9a56a-27a1-41cd-faf4-cc1c0a382d34"
   },
   "outputs": [
    {
     "data": {
      "text/plain": [
       "<function __main__.decorate_it.<locals>.decorated_func()>"
      ]
     },
     "execution_count": 27,
     "metadata": {},
     "output_type": "execute_result"
    }
   ],
   "source": [
    "decorated = decorate_it(print_me)\n",
    "decorated"
   ]
  },
  {
   "cell_type": "code",
   "execution_count": 28,
   "metadata": {
    "colab": {
     "base_uri": "https://localhost:8080/"
    },
    "executionInfo": {
     "elapsed": 342,
     "status": "ok",
     "timestamp": 1636893656516,
     "user": {
      "displayName": "colab0 ineuron",
      "photoUrl": "https://lh3.googleusercontent.com/a/default-user=s64",
      "userId": "16851312232179065356"
     },
     "user_tz": -330
    },
    "id": "XHExy0wbdt95",
    "outputId": "84f3235c-fafa-4f24-ea8f-7082c551e685"
   },
   "outputs": [
    {
     "name": "stdout",
     "output_type": "stream",
     "text": [
      "##########\n",
      "welcome to ineuron\n",
      "##########\n"
     ]
    }
   ],
   "source": [
    "decorated()"
   ]
  },
  {
   "cell_type": "code",
   "execution_count": 29,
   "metadata": {
    "executionInfo": {
     "elapsed": 442,
     "status": "ok",
     "timestamp": 1636893715841,
     "user": {
      "displayName": "colab0 ineuron",
      "photoUrl": "https://lh3.googleusercontent.com/a/default-user=s64",
      "userId": "16851312232179065356"
     },
     "user_tz": -330
    },
    "id": "y2YTaJ_TdwI6"
   },
   "outputs": [],
   "source": [
    "@decorate_it\n",
    "def print_me2():\n",
    "  print(\"welcome to ineuron\")"
   ]
  },
  {
   "cell_type": "code",
   "execution_count": 30,
   "metadata": {
    "colab": {
     "base_uri": "https://localhost:8080/"
    },
    "executionInfo": {
     "elapsed": 357,
     "status": "ok",
     "timestamp": 1636893730175,
     "user": {
      "displayName": "colab0 ineuron",
      "photoUrl": "https://lh3.googleusercontent.com/a/default-user=s64",
      "userId": "16851312232179065356"
     },
     "user_tz": -330
    },
    "id": "BGipjrprd-mK",
    "outputId": "1ae6878b-c92f-4dc0-dd22-b97fb10ec860"
   },
   "outputs": [
    {
     "name": "stdout",
     "output_type": "stream",
     "text": [
      "##########\n",
      "welcome to ineuron\n",
      "##########\n"
     ]
    }
   ],
   "source": [
    "print_me2()"
   ]
  },
  {
   "cell_type": "markdown",
   "metadata": {
    "id": "1LydqHyceus3"
   },
   "source": [
    "## Calculation of gradients"
   ]
  },
  {
   "cell_type": "code",
   "execution_count": 31,
   "metadata": {
    "executionInfo": {
     "elapsed": 331,
     "status": "ok",
     "timestamp": 1636894649671,
     "user": {
      "displayName": "colab0 ineuron",
      "photoUrl": "https://lh3.googleusercontent.com/a/default-user=s64",
      "userId": "16851312232179065356"
     },
     "user_tz": -330
    },
    "id": "Uzgwy8aGeCHS"
   },
   "outputs": [],
   "source": [
    "# Define like constant\n",
    "x = tf.random.normal(shape=(2,2))\n",
    "y = tf.random.normal(shape=(2,2))"
   ]
  },
  {
   "cell_type": "markdown",
   "metadata": {
    "id": "_x8--TkKiHY5"
   },
   "source": [
    "$f(x,y) = \\sqrt{(x^2 + y^2)}$\n",
    "\n",
    "$\\nabla f(x,y) = \\frac{\\partial f}{\\partial x}\\hat{\\imath} + \\frac{\\partial f}{\\partial y}\\hat{\\jmath}$"
   ]
  },
  {
   "cell_type": "code",
   "execution_count": 32,
   "metadata": {
    "colab": {
     "base_uri": "https://localhost:8080/"
    },
    "executionInfo": {
     "elapsed": 366,
     "status": "ok",
     "timestamp": 1636895158201,
     "user": {
      "displayName": "colab0 ineuron",
      "photoUrl": "https://lh3.googleusercontent.com/a/default-user=s64",
      "userId": "16851312232179065356"
     },
     "user_tz": -330
    },
    "id": "xE9Mbhy_himz",
    "outputId": "aa8ae352-5f36-44e4-8d1c-4d9edc46bfed"
   },
   "outputs": [
    {
     "name": "stdout",
     "output_type": "stream",
     "text": [
      "tf.Tensor(\n",
      "[[-0.5899688   0.99301827]\n",
      " [ 0.39844632 -0.9196171 ]], shape=(2, 2), dtype=float32)\n"
     ]
    }
   ],
   "source": [
    "with tf.GradientTape() as tape:\n",
    "  tape.watch(x)\n",
    "  f = tf.sqrt(tf.square(x) + tf.square(y))\n",
    "  df_dx = tape.gradient(f, x) ## diff of f wrt x\n",
    "  print(df_dx)"
   ]
  },
  {
   "cell_type": "code",
   "execution_count": 33,
   "metadata": {
    "colab": {
     "base_uri": "https://localhost:8080/"
    },
    "executionInfo": {
     "elapsed": 6,
     "status": "ok",
     "timestamp": 1636895160992,
     "user": {
      "displayName": "colab0 ineuron",
      "photoUrl": "https://lh3.googleusercontent.com/a/default-user=s64",
      "userId": "16851312232179065356"
     },
     "user_tz": -330
    },
    "id": "kTYTh-oFiA4q",
    "outputId": "6bb4400c-bc27-47b4-a5a2-03df8fafa9ae"
   },
   "outputs": [
    {
     "name": "stdout",
     "output_type": "stream",
     "text": [
      "tf.Tensor(\n",
      "[[-0.5899688   0.99301827]\n",
      " [ 0.39844632 -0.9196171 ]], shape=(2, 2), dtype=float32)\n",
      "tf.Tensor(\n",
      "[[ 0.807426   -0.11796024]\n",
      " [-0.9171917  -0.39281586]], shape=(2, 2), dtype=float32)\n"
     ]
    }
   ],
   "source": [
    "with tf.GradientTape() as tape:\n",
    "  tape.watch(x)\n",
    "  tape.watch(y)\n",
    "  f = tf.sqrt(tf.square(x) + tf.square(y)) \n",
    "  df_dx, df_dy = tape.gradient(f, [x, y]) ## partial diff of f wrt x and y\n",
    "  print(df_dx)\n",
    "  print(df_dy)"
   ]
  },
  {
   "cell_type": "code",
   "execution_count": 34,
   "metadata": {
    "colab": {
     "base_uri": "https://localhost:8080/"
    },
    "executionInfo": {
     "elapsed": 354,
     "status": "ok",
     "timestamp": 1636895211591,
     "user": {
      "displayName": "colab0 ineuron",
      "photoUrl": "https://lh3.googleusercontent.com/a/default-user=s64",
      "userId": "16851312232179065356"
     },
     "user_tz": -330
    },
    "id": "TfRYpOZdjfdU",
    "outputId": "3807c1bc-4867-4f8c-878a-ce8bb640ce63"
   },
   "outputs": [
    {
     "name": "stdout",
     "output_type": "stream",
     "text": [
      "None\n"
     ]
    }
   ],
   "source": [
    "# without watch \n",
    "with tf.GradientTape() as tape:\n",
    "  f = tf.sqrt(tf.square(x) + tf.square(y))\n",
    "  df_dx = tape.gradient(f, x) ## diff of f wrt x\n",
    "  print(df_dx)"
   ]
  },
  {
   "cell_type": "code",
   "execution_count": 35,
   "metadata": {
    "executionInfo": {
     "elapsed": 346,
     "status": "ok",
     "timestamp": 1636895277206,
     "user": {
      "displayName": "colab0 ineuron",
      "photoUrl": "https://lh3.googleusercontent.com/a/default-user=s64",
      "userId": "16851312232179065356"
     },
     "user_tz": -330
    },
    "id": "MJ0P1AMtjryU"
   },
   "outputs": [],
   "source": [
    "# Define as variable & use without watch\n",
    "x = tf.Variable(tf.random.normal(shape=(2,2)))\n",
    "y = tf.Variable(tf.random.normal(shape=(2,2)))"
   ]
  },
  {
   "cell_type": "code",
   "execution_count": 36,
   "metadata": {
    "colab": {
     "base_uri": "https://localhost:8080/"
    },
    "executionInfo": {
     "elapsed": 341,
     "status": "ok",
     "timestamp": 1636895283276,
     "user": {
      "displayName": "colab0 ineuron",
      "photoUrl": "https://lh3.googleusercontent.com/a/default-user=s64",
      "userId": "16851312232179065356"
     },
     "user_tz": -330
    },
    "id": "kgdb6IQ0j7x2",
    "outputId": "bff130c1-8674-4d74-dfcf-2e4f136b8835"
   },
   "outputs": [
    {
     "name": "stdout",
     "output_type": "stream",
     "text": [
      "tf.Tensor(\n",
      "[[-0.45863175 -0.99999464]\n",
      " [ 0.72619444 -0.5866891 ]], shape=(2, 2), dtype=float32)\n"
     ]
    }
   ],
   "source": [
    "with tf.GradientTape() as tape:\n",
    "  f = tf.sqrt(tf.square(x) + tf.square(y))\n",
    "  df_dx = tape.gradient(f, x) ## diff of f wrt x\n",
    "  print(df_dx)"
   ]
  },
  {
   "cell_type": "code",
   "execution_count": 37,
   "metadata": {
    "executionInfo": {
     "elapsed": 448,
     "status": "ok",
     "timestamp": 1636895487811,
     "user": {
      "displayName": "colab0 ineuron",
      "photoUrl": "https://lh3.googleusercontent.com/a/default-user=s64",
      "userId": "16851312232179065356"
     },
     "user_tz": -330
    },
    "id": "ZRQtg0ofj9Su"
   },
   "outputs": [],
   "source": [
    "x = tf.Variable(3.)\n",
    "y = tf.Variable(2.)"
   ]
  },
  {
   "cell_type": "code",
   "execution_count": 38,
   "metadata": {
    "colab": {
     "base_uri": "https://localhost:8080/"
    },
    "executionInfo": {
     "elapsed": 4,
     "status": "ok",
     "timestamp": 1636895488156,
     "user": {
      "displayName": "colab0 ineuron",
      "photoUrl": "https://lh3.googleusercontent.com/a/default-user=s64",
      "userId": "16851312232179065356"
     },
     "user_tz": -330
    },
    "id": "tv4d0-Dtkjws",
    "outputId": "ff205ecf-8e20-453c-8384-e25d9a79470a"
   },
   "outputs": [
    {
     "name": "stdout",
     "output_type": "stream",
     "text": [
      "tf.Tensor(0.8320503, shape=(), dtype=float32)\n"
     ]
    }
   ],
   "source": [
    "with tf.GradientTape() as tape:\n",
    "  f = tf.sqrt(tf.square(x) + tf.square(y))\n",
    "  df_dx = tape.gradient(f, x) ## diff of f wrt x\n",
    "  print(df_dx)"
   ]
  },
  {
   "cell_type": "code",
   "execution_count": 39,
   "metadata": {
    "colab": {
     "base_uri": "https://localhost:8080/"
    },
    "executionInfo": {
     "elapsed": 341,
     "status": "ok",
     "timestamp": 1636895667527,
     "user": {
      "displayName": "colab0 ineuron",
      "photoUrl": "https://lh3.googleusercontent.com/a/default-user=s64",
      "userId": "16851312232179065356"
     },
     "user_tz": -330
    },
    "id": "53gIEGOFksG8",
    "outputId": "94e28a42-fd0b-46e1-d784-cb7c46c4186a"
   },
   "outputs": [
    {
     "data": {
      "text/plain": [
       "<tf.Tensor: shape=(), dtype=float32, numpy=0.8320503>"
      ]
     },
     "execution_count": 39,
     "metadata": {},
     "output_type": "execute_result"
    }
   ],
   "source": [
    "x/tf.sqrt(tf.square(x) + tf.square(y))"
   ]
  },
  {
   "cell_type": "markdown",
   "metadata": {
    "id": "ODQHbaR8lwIq"
   },
   "source": [
    "# Simple linear Regression Example - \n",
    "\n",
    "$f(x) = W \\cdot x + b$"
   ]
  },
  {
   "cell_type": "code",
   "execution_count": 40,
   "metadata": {
    "executionInfo": {
     "elapsed": 730,
     "status": "ok",
     "timestamp": 1636898330929,
     "user": {
      "displayName": "colab0 ineuron",
      "photoUrl": "https://lh3.googleusercontent.com/a/default-user=s64",
      "userId": "16851312232179065356"
     },
     "user_tz": -330
    },
    "id": "qgNYb_Y2lbG0"
   },
   "outputs": [],
   "source": [
    "#initilize the True weight\n",
    "TRUE_W = 3.0\n",
    "TRUE_B = 2.0\n",
    "\n",
    "NUM_EXAMPLES = 1000\n",
    "# Input \n",
    "x = tf.random.normal(shape=[NUM_EXAMPLES])\n",
    "# x"
   ]
  },
  {
   "cell_type": "code",
   "execution_count": 41,
   "metadata": {
    "executionInfo": {
     "elapsed": 739,
     "status": "ok",
     "timestamp": 1636898332404,
     "user": {
      "displayName": "colab0 ineuron",
      "photoUrl": "https://lh3.googleusercontent.com/a/default-user=s64",
      "userId": "16851312232179065356"
     },
     "user_tz": -330
    },
    "id": "CGR-BwFzmkH8"
   },
   "outputs": [],
   "source": [
    "# Add Noise\n",
    "noise = tf.random.normal(shape=[NUM_EXAMPLES])\n",
    "# noise = 0"
   ]
  },
  {
   "cell_type": "code",
   "execution_count": 42,
   "metadata": {
    "executionInfo": {
     "elapsed": 2,
     "status": "ok",
     "timestamp": 1636898332404,
     "user": {
      "displayName": "colab0 ineuron",
      "photoUrl": "https://lh3.googleusercontent.com/a/default-user=s64",
      "userId": "16851312232179065356"
     },
     "user_tz": -330
    },
    "id": "1EEgUgDrmtiU"
   },
   "outputs": [],
   "source": [
    "# Actaul output\n",
    "y = x * TRUE_W + TRUE_B + noise"
   ]
  },
  {
   "cell_type": "code",
   "execution_count": 43,
   "metadata": {
    "colab": {
     "base_uri": "https://localhost:8080/",
     "height": 265
    },
    "executionInfo": {
     "elapsed": 8,
     "status": "ok",
     "timestamp": 1636898334394,
     "user": {
      "displayName": "colab0 ineuron",
      "photoUrl": "https://lh3.googleusercontent.com/a/default-user=s64",
      "userId": "16851312232179065356"
     },
     "user_tz": -330
    },
    "id": "Pb5c8tpdmyxM",
    "outputId": "00899fbc-b021-4c04-e0ab-5344af77af6f"
   },
   "outputs": [
    {
     "data": {
      "image/png": "[encoded data removed]",
      "text/plain": [
       "<Figure size 432x288 with 1 Axes>"
      ]
     },
     "metadata": {
      "needs_background": "light"
     },
     "output_type": "display_data"
    }
   ],
   "source": [
    "import matplotlib.pyplot as plt\n",
    "\n",
    "\n",
    "plt.scatter(x, y, c=\"b\")\n",
    "plt.show()"
   ]
  },
  {
   "cell_type": "markdown",
   "metadata": {
    "id": "_jmQwhXAnQpl"
   },
   "source": [
    "#### Lets define a model"
   ]
  },
  {
   "cell_type": "code",
   "execution_count": 44,
   "metadata": {
    "executionInfo": {
     "elapsed": 321,
     "status": "ok",
     "timestamp": 1636896364589,
     "user": {
      "displayName": "colab0 ineuron",
      "photoUrl": "https://lh3.googleusercontent.com/a/default-user=s64",
      "userId": "16851312232179065356"
     },
     "user_tz": -330
    },
    "id": "RL5R_sjDm9tF"
   },
   "outputs": [],
   "source": [
    "# Define the model & initialize the weight\n",
    "class MyModel(tf.Module):\n",
    "  def __init__(self, **kwargs):\n",
    "    super().__init__(**kwargs)\n",
    "# Define class variable\n",
    "    self.w = tf.Variable(5.0)\n",
    "    self.b = tf.Variable(0.0)\n",
    "# Call the magic method\n",
    "  def __call__(self, x):\n",
    "    return self.w * x + self.b\n"
   ]
  },
  {
   "cell_type": "code",
   "execution_count": 45,
   "metadata": {
    "executionInfo": {
     "elapsed": 326,
     "status": "ok",
     "timestamp": 1636896300263,
     "user": {
      "displayName": "colab0 ineuron",
      "photoUrl": "https://lh3.googleusercontent.com/a/default-user=s64",
      "userId": "16851312232179065356"
     },
     "user_tz": -330
    },
    "id": "qdncRg-fntE0"
   },
   "outputs": [],
   "source": [
    "# Test how call function working example\n",
    "class Test:\n",
    "  def __init__(self, x):\n",
    "    self.x = x\n",
    "\n",
    "  def __call__(self):\n",
    "    return self.x ** 2"
   ]
  },
  {
   "cell_type": "code",
   "execution_count": 46,
   "metadata": {
    "executionInfo": {
     "elapsed": 522,
     "status": "ok",
     "timestamp": 1636896312876,
     "user": {
      "displayName": "colab0 ineuron",
      "photoUrl": "https://lh3.googleusercontent.com/a/default-user=s64",
      "userId": "16851312232179065356"
     },
     "user_tz": -330
    },
    "id": "fF6ducuLn1lf"
   },
   "outputs": [],
   "source": [
    "obj = Test(2)"
   ]
  },
  {
   "cell_type": "code",
   "execution_count": 47,
   "metadata": {
    "colab": {
     "base_uri": "https://localhost:8080/"
    },
    "executionInfo": {
     "elapsed": 354,
     "status": "ok",
     "timestamp": 1636896325027,
     "user": {
      "displayName": "colab0 ineuron",
      "photoUrl": "https://lh3.googleusercontent.com/a/default-user=s64",
      "userId": "16851312232179065356"
     },
     "user_tz": -330
    },
    "id": "auihLugPn4n1",
    "outputId": "3ec23660-c965-4125-e9b1-fcf3efc4aaa8"
   },
   "outputs": [
    {
     "data": {
      "text/plain": [
       "4"
      ]
     },
     "execution_count": 47,
     "metadata": {},
     "output_type": "execute_result"
    }
   ],
   "source": [
    "obj()"
   ]
  },
  {
   "cell_type": "code",
   "execution_count": 48,
   "metadata": {
    "executionInfo": {
     "elapsed": 328,
     "status": "ok",
     "timestamp": 1636896387195,
     "user": {
      "displayName": "colab0 ineuron",
      "photoUrl": "https://lh3.googleusercontent.com/a/default-user=s64",
      "userId": "16851312232179065356"
     },
     "user_tz": -330
    },
    "id": "keVd6ToVn7oN"
   },
   "outputs": [],
   "source": [
    "class MyModel(tf.Module):\n",
    "  def __init__(self, **kwargs):\n",
    "    super().__init__(**kwargs)\n",
    "\n",
    "    self.w = tf.Variable(5.0)\n",
    "    self.b = tf.Variable(0.0)\n",
    "\n",
    "  def __call__(self, x):\n",
    "    y_hat = self.w * x + self.b\n",
    "    return y_hat"
   ]
  },
  {
   "cell_type": "code",
   "execution_count": 49,
   "metadata": {
    "executionInfo": {
     "elapsed": 324,
     "status": "ok",
     "timestamp": 1636896406406,
     "user": {
      "displayName": "colab0 ineuron",
      "photoUrl": "https://lh3.googleusercontent.com/a/default-user=s64",
      "userId": "16851312232179065356"
     },
     "user_tz": -330
    },
    "id": "oDWgmew2oKzs"
   },
   "outputs": [],
   "source": [
    "# Call the model\n",
    "model = MyModel()"
   ]
  },
  {
   "cell_type": "code",
   "execution_count": 50,
   "metadata": {
    "colab": {
     "base_uri": "https://localhost:8080/"
    },
    "executionInfo": {
     "elapsed": 344,
     "status": "ok",
     "timestamp": 1636896970123,
     "user": {
      "displayName": "colab0 ineuron",
      "photoUrl": "https://lh3.googleusercontent.com/a/default-user=s64",
      "userId": "16851312232179065356"
     },
     "user_tz": -330
    },
    "id": "-XaNf4foqYTp",
    "outputId": "cd7f133a-ff09-4662-b335-ab30ce13748e"
   },
   "outputs": [
    {
     "data": {
      "text/plain": [
       "<tf.Variable 'Variable:0' shape=() dtype=float32, numpy=5.0>"
      ]
     },
     "execution_count": 50,
     "metadata": {},
     "output_type": "execute_result"
    }
   ],
   "source": [
    "# Print w\n",
    "model.w"
   ]
  },
  {
   "cell_type": "code",
   "execution_count": 51,
   "metadata": {
    "colab": {
     "base_uri": "https://localhost:8080/"
    },
    "executionInfo": {
     "elapsed": 2,
     "status": "ok",
     "timestamp": 1636896977448,
     "user": {
      "displayName": "colab0 ineuron",
      "photoUrl": "https://lh3.googleusercontent.com/a/default-user=s64",
      "userId": "16851312232179065356"
     },
     "user_tz": -330
    },
    "id": "yslONvCDqaL0",
    "outputId": "b9fdb2b3-0814-4402-e182-69ed3ab1550b"
   },
   "outputs": [
    {
     "data": {
      "text/plain": [
       "<tf.Variable 'Variable:0' shape=() dtype=float32, numpy=0.0>"
      ]
     },
     "execution_count": 51,
     "metadata": {},
     "output_type": "execute_result"
    }
   ],
   "source": [
    "# print  b\n",
    "model.b"
   ]
  },
  {
   "cell_type": "code",
   "execution_count": 52,
   "metadata": {
    "colab": {
     "base_uri": "https://localhost:8080/"
    },
    "executionInfo": {
     "elapsed": 334,
     "status": "ok",
     "timestamp": 1636896420332,
     "user": {
      "displayName": "colab0 ineuron",
      "photoUrl": "https://lh3.googleusercontent.com/a/default-user=s64",
      "userId": "16851312232179065356"
     },
     "user_tz": -330
    },
    "id": "wurnnYZmoPf9",
    "outputId": "97fde878-0dca-47d8-b27f-4e0ab5a23e34"
   },
   "outputs": [
    {
     "data": {
      "text/plain": [
       "(<tf.Variable 'Variable:0' shape=() dtype=float32, numpy=0.0>,\n",
       " <tf.Variable 'Variable:0' shape=() dtype=float32, numpy=5.0>)"
      ]
     },
     "execution_count": 52,
     "metadata": {},
     "output_type": "execute_result"
    }
   ],
   "source": [
    "# Print variables\n",
    "model.variables"
   ]
  },
  {
   "cell_type": "code",
   "execution_count": 53,
   "metadata": {
    "colab": {
     "base_uri": "https://localhost:8080/"
    },
    "executionInfo": {
     "elapsed": 358,
     "status": "ok",
     "timestamp": 1636896459538,
     "user": {
      "displayName": "colab0 ineuron",
      "photoUrl": "https://lh3.googleusercontent.com/a/default-user=s64",
      "userId": "16851312232179065356"
     },
     "user_tz": -330
    },
    "id": "XfWJqbQtoS0l",
    "outputId": "9b2493b5-117f-40eb-97b1-c73569801a61"
   },
   "outputs": [
    {
     "data": {
      "text/plain": [
       "15.0"
      ]
     },
     "execution_count": 53,
     "metadata": {},
     "output_type": "execute_result"
    }
   ],
   "source": [
    "# input the x values\n",
    "model(3.0).numpy()"
   ]
  },
  {
   "cell_type": "markdown",
   "metadata": {
    "id": "-PJ6b4RhoiPo"
   },
   "source": [
    "#### Define a loss function"
   ]
  },
  {
   "cell_type": "code",
   "execution_count": 54,
   "metadata": {
    "executionInfo": {
     "elapsed": 350,
     "status": "ok",
     "timestamp": 1636896601210,
     "user": {
      "displayName": "colab0 ineuron",
      "photoUrl": "https://lh3.googleusercontent.com/a/default-user=s64",
      "userId": "16851312232179065356"
     },
     "user_tz": -330
    },
    "id": "qO-5RnyQocdt"
   },
   "outputs": [],
   "source": [
    "def MSE_loss(target_y, predicted_y):\n",
    "  # Calcualte the error\n",
    "  error = target_y - predicted_y\n",
    "  # Square the error to avoid the negative number impact\n",
    "  squared_error = tf.square(error)\n",
    "  # Reduce mean get single error ( means Avg)  \n",
    "  mse = tf.reduce_mean(squared_error)\n",
    "  return mse"
   ]
  },
  {
   "cell_type": "code",
   "execution_count": 55,
   "metadata": {},
   "outputs": [
    {
     "name": "stdout",
     "output_type": "stream",
     "text": [
      "(1000,)\n",
      "(1000,)\n"
     ]
    }
   ],
   "source": [
    "print (x.shape)\n",
    "print (y.shape)"
   ]
  },
  {
   "cell_type": "code",
   "execution_count": 56,
   "metadata": {},
   "outputs": [
    {
     "data": {
      "text/plain": [
       "<matplotlib.collections.PathCollection at 0x30bb24c0>"
      ]
     },
     "execution_count": 56,
     "metadata": {},
     "output_type": "execute_result"
    },
    {
     "data": {
      "image/png": "[encoded data removed]",
      "text/plain": [
       "<Figure size 432x288 with 1 Axes>"
      ]
     },
     "metadata": {
      "needs_background": "light"
     },
     "output_type": "display_data"
    }
   ],
   "source": [
    "plt.scatter(x, y, c=\"b\")"
   ]
  },
  {
   "cell_type": "code",
   "execution_count": 57,
   "metadata": {
    "colab": {
     "base_uri": "https://localhost:8080/",
     "height": 265
    },
    "executionInfo": {
     "elapsed": 379,
     "status": "ok",
     "timestamp": 1636896683044,
     "user": {
      "displayName": "colab0 ineuron",
      "photoUrl": "https://lh3.googleusercontent.com/a/default-user=s64",
      "userId": "16851312232179065356"
     },
     "user_tz": -330
    },
    "id": "5lgh0_NBo_DV",
    "outputId": "26c736a3-1f91-4840-d1bc-a99a2d0c2504"
   },
   "outputs": [],
   "source": [
    "#put value ( 1000 data points) & predict\n",
    "pred_y = model(x) ## without training\n"
   ]
  },
  {
   "cell_type": "code",
   "execution_count": 58,
   "metadata": {},
   "outputs": [
    {
     "data": {
      "image/png": "[encoded data removed]",
      "text/plain": [
       "<Figure size 432x288 with 1 Axes>"
      ]
     },
     "metadata": {
      "needs_background": "light"
     },
     "output_type": "display_data"
    }
   ],
   "source": [
    "# Call after prediction\n",
    "plt.scatter(x, pred_y, c=\"r\")\n",
    "plt.show()"
   ]
  },
  {
   "cell_type": "code",
   "execution_count": 59,
   "metadata": {},
   "outputs": [
    {
     "data": {
      "image/png": "[encoded data removed]",
      "text/plain": [
       "<Figure size 432x288 with 1 Axes>"
      ]
     },
     "metadata": {
      "needs_background": "light"
     },
     "output_type": "display_data"
    }
   ],
   "source": [
    "# Combine both  - Predict without Training - will not give correct output\n",
    "# Plt with raw data\n",
    "plt.scatter(x, y, c=\"b\")\n",
    "# Call our model with input value ( 1000 data points) & predict\n",
    "pred_y = model(x) ## without training\n",
    "# Call after prediction\n",
    "plt.scatter(x, pred_y, c=\"r\")\n",
    "plt.show()"
   ]
  },
  {
   "cell_type": "code",
   "execution_count": 60,
   "metadata": {
    "colab": {
     "base_uri": "https://localhost:8080/"
    },
    "executionInfo": {
     "elapsed": 333,
     "status": "ok",
     "timestamp": 1636896783326,
     "user": {
      "displayName": "colab0 ineuron",
      "photoUrl": "https://lh3.googleusercontent.com/a/default-user=s64",
      "userId": "16851312232179065356"
     },
     "user_tz": -330
    },
    "id": "qLodDLyRpTBN",
    "outputId": "b7c68098-a573-485d-f640-68c3cbb7a616"
   },
   "outputs": [
    {
     "data": {
      "text/plain": [
       "8.972122"
      ]
     },
     "execution_count": 60,
     "metadata": {},
     "output_type": "execute_result"
    }
   ],
   "source": [
    "current_loss = MSE_loss(y, model(x))\n",
    "current_loss.numpy() ## without training"
   ]
  },
  {
   "cell_type": "code",
   "execution_count": 61,
   "metadata": {},
   "outputs": [
    {
     "data": {
      "text/plain": [
       "8.972122"
      ]
     },
     "execution_count": 61,
     "metadata": {},
     "output_type": "execute_result"
    }
   ],
   "source": [
    "current_loss = MSE_loss(y, pred_y)\n",
    "current_loss.numpy() ## without training"
   ]
  },
  {
   "cell_type": "markdown",
   "metadata": {
    "id": "RkM3yPi5pst8"
   },
   "source": [
    "#### Define our training loop"
   ]
  },
  {
   "cell_type": "code",
   "execution_count": 62,
   "metadata": {
    "executionInfo": {
     "elapsed": 349,
     "status": "ok",
     "timestamp": 1636897170417,
     "user": {
      "displayName": "colab0 ineuron",
      "photoUrl": "https://lh3.googleusercontent.com/a/default-user=s64",
      "userId": "16851312232179065356"
     },
     "user_tz": -330
    },
    "id": "0q_aMK0kpnrF"
   },
   "outputs": [],
   "source": [
    "#Backpropagation\n",
    "def train(model, x, y, learning_rate):\n",
    "\n",
    "  with tf.GradientTape() as tape:\n",
    "    current_loss = MSE_loss(y, model(x))\n",
    "  # Derivative with respective weight & bias\n",
    "  dc_dw, dc_db = tape.gradient(current_loss, [model.w, model.b])\n",
    "  # here new weight = old weight - learning rate * Gradient of weight\n",
    "  # short cut from W =W-1 => W-=1\n",
    "  # new weight will updated\n",
    "  model.w.assign_sub(learning_rate * dc_dw)\n",
    "  model.b.assign_sub(learning_rate * dc_db)"
   ]
  },
  {
   "cell_type": "code",
   "execution_count": 63,
   "metadata": {
    "colab": {
     "base_uri": "https://localhost:8080/"
    },
    "executionInfo": {
     "elapsed": 336,
     "status": "ok",
     "timestamp": 1636897375231,
     "user": {
      "displayName": "colab0 ineuron",
      "photoUrl": "https://lh3.googleusercontent.com/a/default-user=s64",
      "userId": "16851312232179065356"
     },
     "user_tz": -330
    },
    "id": "3gfis-tcq-uA",
    "outputId": "e8b0fb2b-161a-47e7-d487-82977331d26b"
   },
   "outputs": [
    {
     "name": "stdout",
     "output_type": "stream",
     "text": [
      "Initial W: 5.0, initial bias: 0.0, initial loss: 8.972122192382812\n"
     ]
    }
   ],
   "source": [
    "# Call the previously defined model\n",
    "model = MyModel()\n",
    "# Create two empty list.\n",
    "Ws, bs = [], []\n",
    "# Define Epoch number\n",
    "epochs = 10\n",
    "# Define learning rate\n",
    "learning_rate = 0.1\n",
    "# Get the latest weight \n",
    "w = model.w.numpy()\n",
    "# Get the latest bias\n",
    "b = model.b.numpy()\n",
    "# Calcualte the loss -Forward pass\n",
    "init_loss = MSE_loss(y, model(x))\n",
    " ## without training\n",
    "\n",
    "print(f\"Initial W: {w}, initial bias: {b}, initial loss: {init_loss.numpy()}\")"
   ]
  },
  {
   "cell_type": "code",
   "execution_count": 64,
   "metadata": {
    "colab": {
     "base_uri": "https://localhost:8080/"
    },
    "executionInfo": {
     "elapsed": 355,
     "status": "ok",
     "timestamp": 1636897558097,
     "user": {
      "displayName": "colab0 ineuron",
      "photoUrl": "https://lh3.googleusercontent.com/a/default-user=s64",
      "userId": "16851312232179065356"
     },
     "user_tz": -330
    },
    "id": "nwiL9f6kr8Bu",
    "outputId": "81a56fce-3134-418e-d6e7-595e56d0b8f4"
   },
   "outputs": [
    {
     "name": "stdout",
     "output_type": "stream",
     "text": [
      "For epoch: 0, W: 4.613381385803223, b: 0.41168203949928284, current_loss: 6.10175895690918\n",
      "For epoch: 1, W: 4.302654266357422, b: 0.7395656108856201, current_loss: 4.2653489112854\n",
      "For epoch: 2, W: 4.052910327911377, b: 1.0006976127624512, current_loss: 3.0903468132019043\n",
      "For epoch: 3, W: 3.8521718978881836, b: 1.2086586952209473, current_loss: 2.3384740352630615\n",
      "For epoch: 4, W: 3.6908159255981445, b: 1.3742685317993164, current_loss: 1.8573169708251953\n",
      "For epoch: 5, W: 3.561109781265259, b: 1.5061461925506592, current_loss: 1.549375057220459\n",
      "For epoch: 6, W: 3.456840991973877, b: 1.6111578941345215, current_loss: 1.352273941040039\n",
      "For epoch: 7, W: 3.373016834259033, b: 1.6947729587554932, current_loss: 1.2261056900024414\n",
      "For epoch: 8, W: 3.3056259155273438, b: 1.761348009109497, current_loss: 1.1453357934951782\n",
      "For epoch: 9, W: 3.251443862915039, b: 1.8143532276153564, current_loss: 1.0936237573623657\n"
     ]
    }
   ],
   "source": [
    "# Now Train the model\n",
    "for epoch in range(epochs):\n",
    "  train(model, x, y, learning_rate)\n",
    "  #Store the each weights\n",
    "  Ws.append(model.w.numpy())\n",
    "  #Store the each bias\n",
    "  bs.append(model.b.numpy())\n",
    "  # Cal caulte the loss for each epoc\n",
    "  current_loss = MSE_loss(y, model(x))\n",
    "  # we have print last weight for each epoc from list\n",
    "  print(f\"For epoch: {epoch}, W: {Ws[-1]}, b: {bs[-1]}, current_loss: {current_loss}\")"
   ]
  },
  {
   "cell_type": "code",
   "execution_count": 65,
   "metadata": {
    "colab": {
     "base_uri": "https://localhost:8080/",
     "height": 265
    },
    "executionInfo": {
     "elapsed": 624,
     "status": "ok",
     "timestamp": 1636898993800,
     "user": {
      "displayName": "colab0 ineuron",
      "photoUrl": "https://lh3.googleusercontent.com/a/default-user=s64",
      "userId": "16851312232179065356"
     },
     "user_tz": -330
    },
    "id": "fJZsgRrUsoqd",
    "outputId": "130fc227-704d-4da4-97bb-eb329aa31faf"
   },
   "outputs": [
    {
     "data": {
      "image/png": "[encoded data removed]",
      "text/plain": [
       "<Figure size 432x288 with 1 Axes>"
      ]
     },
     "metadata": {
      "needs_background": "light"
     },
     "output_type": "display_data"
    }
   ],
   "source": [
    "# Plot between our True & experiement weight \n",
    "plt.plot(range(epochs), Ws, \"r\", range(epochs), bs, \"b\")\n",
    "\n",
    "plt.plot([TRUE_W] * epochs, \"r--\", [TRUE_B] *epochs, \"b--\")\n",
    "\n",
    "plt.legend([\"W\", \"b\", \"True W\", \"True b\"])\n",
    "plt.show()"
   ]
  },
  {
   "cell_type": "code",
   "execution_count": 66,
   "metadata": {
    "colab": {
     "base_uri": "https://localhost:8080/"
    },
    "executionInfo": {
     "elapsed": 339,
     "status": "ok",
     "timestamp": 1636898979759,
     "user": {
      "displayName": "colab0 ineuron",
      "photoUrl": "https://lh3.googleusercontent.com/a/default-user=s64",
      "userId": "16851312232179065356"
     },
     "user_tz": -330
    },
    "id": "4aE_lho_yDOa",
    "outputId": "5766c15d-95c1-415b-c889-37f689637fd6"
   },
   "outputs": [
    {
     "data": {
      "text/plain": [
       "[3.0, 3.0, 3.0, 3.0, 3.0, 3.0, 3.0, 3.0, 3.0, 3.0]"
      ]
     },
     "execution_count": 66,
     "metadata": {},
     "output_type": "execute_result"
    }
   ],
   "source": [
    "[TRUE_W] * epochs"
   ]
  },
  {
   "cell_type": "code",
   "execution_count": 67,
   "metadata": {
    "colab": {
     "base_uri": "https://localhost:8080/",
     "height": 265
    },
    "executionInfo": {
     "elapsed": 405,
     "status": "ok",
     "timestamp": 1636897914241,
     "user": {
      "displayName": "colab0 ineuron",
      "photoUrl": "https://lh3.googleusercontent.com/a/default-user=s64",
      "userId": "16851312232179065356"
     },
     "user_tz": -330
    },
    "id": "cYyeZcBVtP2f",
    "outputId": "76e0500e-0a98-4533-dafa-73bf20703f31"
   },
   "outputs": [
    {
     "data": {
      "image/png": "[encoded data removed]",
      "text/plain": [
       "<Figure size 432x288 with 1 Axes>"
      ]
     },
     "metadata": {
      "needs_background": "light"
     },
     "output_type": "display_data"
    }
   ],
   "source": [
    "# After certain epoc fir the data we can see fitting the data line\n",
    "plt.scatter(x, y, c=\"b\")\n",
    "\n",
    "pred_y = model(x) ## without training\n",
    "plt.scatter(x, pred_y, c=\"r\")\n",
    "plt.show()"
   ]
  },
  {
   "cell_type": "code",
   "execution_count": 68,
   "metadata": {
    "colab": {
     "base_uri": "https://localhost:8080/"
    },
    "executionInfo": {
     "elapsed": 342,
     "status": "ok",
     "timestamp": 1636897944798,
     "user": {
      "displayName": "colab0 ineuron",
      "photoUrl": "https://lh3.googleusercontent.com/a/default-user=s64",
      "userId": "16851312232179065356"
     },
     "user_tz": -330
    },
    "id": "WRwAp2JNt_mn",
    "outputId": "939bc304-d37c-4ca7-cb5d-1cf10bc07c69"
   },
   "outputs": [
    {
     "data": {
      "text/plain": [
       "1.0936238"
      ]
     },
     "execution_count": 68,
     "metadata": {},
     "output_type": "execute_result"
    }
   ],
   "source": [
    "current_loss = MSE_loss(y, model(x))\n",
    "current_loss.numpy() ## after training"
   ]
  },
  {
   "cell_type": "code",
   "execution_count": 69,
   "metadata": {},
   "outputs": [
    {
     "data": {
      "text/plain": [
       "1.0936238"
      ]
     },
     "execution_count": 69,
     "metadata": {},
     "output_type": "execute_result"
    }
   ],
   "source": [
    "current_loss = MSE_loss(y, pred_y)\n",
    "current_loss.numpy() ## after training"
   ]
  },
  {
   "cell_type": "markdown",
   "metadata": {},
   "source": [
    "## Keyword argument example"
   ]
  },
  {
   "cell_type": "code",
   "execution_count": 70,
   "metadata": {
    "colab": {
     "base_uri": "https://localhost:8080/"
    },
    "executionInfo": {
     "elapsed": 350,
     "status": "ok",
     "timestamp": 1636900148015,
     "user": {
      "displayName": "colab0 ineuron",
      "photoUrl": "https://lh3.googleusercontent.com/a/default-user=s64",
      "userId": "16851312232179065356"
     },
     "user_tz": -330
    },
    "id": "ztUeqdVLuF1u",
    "outputId": "9ebc48ab-e651-4676-95f7-6703da8c1f2b"
   },
   "outputs": [
    {
     "name": "stdout",
     "output_type": "stream",
     "text": [
      "My branch was Electronics engineering\n",
      "I liked these subjects in graduation ('Digital Image Processing', 'Microprocessor')\n"
     ]
    }
   ],
   "source": [
    "def branch_and_subjects_in_graduation(*args, branch):\n",
    "    print(f\"My branch was {branch}\")\n",
    "    return f\"I liked these subjects in graduation {args}\"\n",
    "\n",
    "results = branch_and_subjects_in_graduation(\"Digital Image Processing\", \"Microprocessor\", branch=\"Electronics engineering\")\n",
    "print(results)"
   ]
  },
  {
   "cell_type": "code",
   "execution_count": 71,
   "metadata": {
    "colab": {
     "base_uri": "https://localhost:8080/"
    },
    "executionInfo": {
     "elapsed": 327,
     "status": "ok",
     "timestamp": 1636900188035,
     "user": {
      "displayName": "colab0 ineuron",
      "photoUrl": "https://lh3.googleusercontent.com/a/default-user=s64",
      "userId": "16851312232179065356"
     },
     "user_tz": -330
    },
    "id": "HFfJZhfj2g9_",
    "outputId": "66f37935-b754-457c-d420-8cfe1ce3a677"
   },
   "outputs": [
    {
     "name": "stdout",
     "output_type": "stream",
     "text": [
      "My branch was data science\n",
      "I liked these subjects in graduation ('ML', 'DL')\n"
     ]
    }
   ],
   "source": [
    "results = branch_and_subjects_in_graduation(\"ML\", \"DL\", branch=\"data science\")\n",
    "print(results)"
   ]
  },
  {
   "cell_type": "code",
   "execution_count": 72,
   "metadata": {
    "colab": {
     "base_uri": "https://localhost:8080/"
    },
    "executionInfo": {
     "elapsed": 321,
     "status": "ok",
     "timestamp": 1636900202147,
     "user": {
      "displayName": "colab0 ineuron",
      "photoUrl": "https://lh3.googleusercontent.com/a/default-user=s64",
      "userId": "16851312232179065356"
     },
     "user_tz": -330
    },
    "id": "qOXgcZzC2qwR",
    "outputId": "d5da9c75-a8a4-498a-f9dc-b4288293fd55"
   },
   "outputs": [
    {
     "name": "stdout",
     "output_type": "stream",
     "text": [
      "My branch was data science\n",
      "I liked these subjects in graduation ('ML', 'stats')\n"
     ]
    }
   ],
   "source": [
    "results = branch_and_subjects_in_graduation(\"ML\", \"stats\", branch=\"data science\")\n",
    "print(results)"
   ]
  },
  {
   "cell_type": "code",
   "execution_count": 73,
   "metadata": {
    "colab": {
     "base_uri": "https://localhost:8080/"
    },
    "executionInfo": {
     "elapsed": 379,
     "status": "ok",
     "timestamp": 1636900233052,
     "user": {
      "displayName": "colab0 ineuron",
      "photoUrl": "https://lh3.googleusercontent.com/a/default-user=s64",
      "userId": "16851312232179065356"
     },
     "user_tz": -330
    },
    "id": "9Xrz5WY_2uMr",
    "outputId": "230c56ee-1f45-4c68-c172-ba972fb18ee8"
   },
   "outputs": [
    {
     "name": "stdout",
     "output_type": "stream",
     "text": [
      "My branch was data science\n",
      "I liked these subjects in graduation ('ML', 'stats', 'DL', 'CV')\n"
     ]
    }
   ],
   "source": [
    "results = branch_and_subjects_in_graduation(\"ML\", \"stats\", \"DL\", \"CV\", branch=\"data science\")\n",
    "print(results)"
   ]
  },
  {
   "cell_type": "code",
   "execution_count": 74,
   "metadata": {
    "colab": {
     "base_uri": "https://localhost:8080/"
    },
    "executionInfo": {
     "elapsed": 336,
     "status": "ok",
     "timestamp": 1636900308943,
     "user": {
      "displayName": "colab0 ineuron",
      "photoUrl": "https://lh3.googleusercontent.com/a/default-user=s64",
      "userId": "16851312232179065356"
     },
     "user_tz": -330
    },
    "id": "yEfckFOu21VR",
    "outputId": "acdae0ed-eacb-4ad5-f4b1-196065d82ab1"
   },
   "outputs": [
    {
     "name": "stdout",
     "output_type": "stream",
     "text": [
      "Score in DL = 78\n",
      "Score in ML = 79\n"
     ]
    }
   ],
   "source": [
    "def marks_in_subjects_of_semester(**kwargs):\n",
    "    for subject, marks in kwargs.items():\n",
    "        print(f\"Score in {subject} = {marks}\")\n",
    "\n",
    "marks_in_subjects_of_semester(DL = 78, ML= 79)"
   ]
  },
  {
   "cell_type": "code",
   "execution_count": null,
   "metadata": {
    "id": "Q8kaT9V83BuA"
   },
   "outputs": [],
   "source": []
  }
 ],
 "metadata": {
  "accelerator": "GPU",
  "colab": {
   "authorship_tag": "ABX9TyNsnAeR+GdCvn8f583moirP",
   "collapsed_sections": [],
   "name": "demo_tf_2.x_part_2.ipynb",
   "provenance": []
  },
  "kernelspec": {
   "display_name": "Python 3",
   "language": "python",
   "name": "python3"
  },
  "language_info": {
   "codemirror_mode": {
    "name": "ipython",
    "version": 3
   },
   "file_extension": ".py",
   "mimetype": "text/x-python",
   "name": "python",
   "nbconvert_exporter": "python",
   "pygments_lexer": "ipython3",
   "version": "3.8.8"
  }
 },
 "nbformat": 4,
 "nbformat_minor": 1
}
