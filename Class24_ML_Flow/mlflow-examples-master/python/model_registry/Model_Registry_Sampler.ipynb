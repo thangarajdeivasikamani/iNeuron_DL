{
 "cells": [
  {
   "cell_type": "markdown",
   "metadata": {},
   "source": [
    "# Model Registry Sampler\n",
    "\n",
    "Explores the MLflow Model Registry API.\n",
    "Works as both a Databricks and Jupyter notebook.\n",
    "\n",
    "**Overview**\n",
    "* Requires MLflow 1.9.0. API changes from MLflow 1.8.0\n",
    "* Starts clean: deletes all runs and the registered model.\n",
    "* Trains a model 5 times with different hyperparameters.\n",
    "* Gets the best model run and registers it as `production`.\n",
    "* Gets the three next best model runs and registers them as `staging`.\n",
    "* Loads the production model and runs predictions - using new `models` URI\n",
    "* Loads the staging model and runs predictions - - using new `models` URI.\n",
    "\n",
    "**Databricks Issues**\n",
    "* If we call update_model_version() immediately after create_model_version() without a sleep, the version may not be in `READY` state\n",
    "  * ERROR: INVALID_STATE: Model version andre_sklearn_registry_test version 1 has invalid status PENDING_REGISTRATION. Expected status is READY.\n",
    "* This issue do not occur when running open source MLflow with Jupyter.\n",
    "\n",
    "**Github**\n",
    "* https://github.com/amesar/mlflow-examples/blob/master/model_registry/Model_Registry_Sampler.html\n",
    "\n",
    "Last updated: 2020-06-20"
   ]
  },
  {
   "cell_type": "markdown",
   "metadata": {},
   "source": [
    "### Setup"
   ]
  },
  {
   "cell_type": "code",
   "execution_count": null,
   "metadata": {},
   "outputs": [],
   "source": [
    "import mlflow\n",
    "import time\n",
    "print(\"MLflow Version:\",mlflow.__version__)\n",
    "mlflow.tracking.get_tracking_uri()"
   ]
  },
  {
   "cell_type": "code",
   "execution_count": null,
   "metadata": {},
   "outputs": [],
   "source": [
    "import os\n",
    "is_databricks  = os.environ.get('DATABRICKS_RUNTIME_VERSION') is not None\n",
    "is_databricks"
   ]
  },
  {
   "cell_type": "code",
   "execution_count": null,
   "metadata": {},
   "outputs": [],
   "source": [
    "if is_databricks:\n",
    "    client = mlflow.tracking.MlflowClient()\n",
    "    dbutils.widgets.text(\"Nap Time\", \"2\") \n",
    "    naptime = int(dbutils.widgets.get(\"Nap Time\"))\n",
    "    data_path = \"/dbfs/tmp/mlflow/wine-quality.csv\"\n",
    "    model_name = \"andre_sklearn_registry_sampler\"\n",
    "    experiment_name = dbutils.notebook.entry_point.getDbutils().notebook().getContext().notebookPath().get()\n",
    "    print(\"experiment_name:\",experiment_name)\n",
    "else:\n",
    "    data_path = \"../../data/train/wine-quality-white.csv\"\n",
    "    mlflow.set_tracking_uri(\"http://localhost:5000\")\n",
    "    client = mlflow.tracking.MlflowClient()\n",
    "    naptime = 0\n",
    "    model_name = \"sklearn_registry_sampler\"\n",
    "    experiment_name = \"sklearn_registry_sampler\"\n",
    "    mlflow.set_experiment(experiment_name)\n",
    "experiment_id = client.get_experiment_by_name(experiment_name).experiment_id\n",
    "experiment_id, experiment_name, naptime"
   ]
  },
  {
   "cell_type": "code",
   "execution_count": null,
   "metadata": {},
   "outputs": [],
   "source": [
    "if is_databricks:\n",
    "    host_name = dbutils.notebook.entry_point.getDbutils().notebook().getContext().tags().get(\"browserHostName\").get()\n",
    "    uri = \"https://{}/#mlflow/experiments/{}\".format(host_name,experiment_id)\n",
    "    displayHTML(\"\"\"<b>Experiment URI:</b> <a href=\"{}\">{}</a>\"\"\".format(uri,uri))"
   ]
  },
  {
   "cell_type": "code",
   "execution_count": null,
   "metadata": {},
   "outputs": [],
   "source": [
    "if is_databricks:\n",
    "    uri = \"https://{}/#mlflow/models/{}\".format(host_name,model_name)\n",
    "    displayHTML(\"\"\"<b>Registered Model URI:</b> <a href=\"{}\">{}</a>\"\"\".format(uri,uri))"
   ]
  },
  {
   "cell_type": "code",
   "execution_count": null,
   "metadata": {},
   "outputs": [],
   "source": [
    "runs = client.list_run_infos(experiment_id)\n",
    "print(\"#runs:\",len(runs))\n",
    "for info in runs:\n",
    "    client.delete_run(info.run_id)"
   ]
  },
  {
   "cell_type": "markdown",
   "metadata": {},
   "source": [
    "### Define training"
   ]
  },
  {
   "cell_type": "code",
   "execution_count": null,
   "metadata": {},
   "outputs": [],
   "source": [
    "import pandas as pd\n",
    "import numpy as np\n",
    "from sklearn.metrics import mean_squared_error, mean_absolute_error, r2_score\n",
    "from sklearn.model_selection import train_test_split\n",
    "from sklearn.tree import DecisionTreeRegressor\n",
    "import mlflow\n",
    "import mlflow.sklearn"
   ]
  },
  {
   "cell_type": "code",
   "execution_count": null,
   "metadata": {},
   "outputs": [],
   "source": [
    "data = pd.read_csv(data_path)\n",
    "train, test = train_test_split(data)\n",
    "train_x = train.drop([\"quality\"], axis=1)\n",
    "test_x = test.drop([\"quality\"], axis=1)\n",
    "train_y = train[[\"quality\"]]\n",
    "test_y = test[[\"quality\"]]"
   ]
  },
  {
   "cell_type": "code",
   "execution_count": null,
   "metadata": {},
   "outputs": [],
   "source": [
    "def train(max_depth):\n",
    "    with mlflow.start_run(run_name=\"reg_test\") as run:\n",
    "        run_id = run.info.run_uuid\n",
    "        dt = DecisionTreeRegressor(max_depth=max_depth)\n",
    "        dt.fit(train_x, train_y)\n",
    "        predictions = dt.predict(test_x)\n",
    "        mlflow.log_param(\"max_depth\", max_depth)\n",
    "        rmse = np.sqrt(mean_squared_error(test_y, predictions))\n",
    "        mlflow.log_metric(\"rmse\", rmse)\n",
    "        print(f\"{experiment_id} {run_id} {round(rmse,3)}\")\n",
    "        mlflow.sklearn.log_model(dt, \"sklearn-model\")"
   ]
  },
  {
   "cell_type": "markdown",
   "metadata": {},
   "source": [
    "### Create runs"
   ]
  },
  {
   "cell_type": "code",
   "execution_count": null,
   "metadata": {},
   "outputs": [],
   "source": [
    "max_depths = [1,2,4,5,16]\n",
    "for x in max_depths:\n",
    "    train(x)"
   ]
  },
  {
   "cell_type": "markdown",
   "metadata": {},
   "source": [
    "### Create model versions"
   ]
  },
  {
   "cell_type": "code",
   "execution_count": null,
   "metadata": {
    "scrolled": true
   },
   "outputs": [],
   "source": [
    "runs = client.search_runs(experiment_id,\"\", order_by=[\"metrics.rmse asc\"])\n",
    "for run in runs:\n",
    "    print(f\"{round(run.data.metrics['rmse'],3)} {run.data.params}\")"
   ]
  },
  {
   "cell_type": "code",
   "execution_count": null,
   "metadata": {},
   "outputs": [],
   "source": [
    "prod_run = runs[:1][0]\n",
    "round(prod_run.data.metrics['rmse'],3)"
   ]
  },
  {
   "cell_type": "code",
   "execution_count": null,
   "metadata": {},
   "outputs": [],
   "source": [
    "staging_runs = runs[1:4]\n",
    "none_runs = runs[4:]\n",
    "len(staging_runs),len(none_runs)"
   ]
  },
  {
   "cell_type": "code",
   "execution_count": null,
   "metadata": {},
   "outputs": [],
   "source": [
    "for run in staging_runs:\n",
    "    print(f\"{round(run.data.metrics['rmse'],3)} {run.data.params}\")"
   ]
  },
  {
   "cell_type": "code",
   "execution_count": null,
   "metadata": {
    "scrolled": true
   },
   "outputs": [],
   "source": [
    "for run in none_runs:\n",
    "    print(f\"{round(run.data.metrics['rmse'],3)} {run.data.params}\")"
   ]
  },
  {
   "cell_type": "markdown",
   "metadata": {},
   "source": [
    "## Registry"
   ]
  },
  {
   "cell_type": "code",
   "execution_count": null,
   "metadata": {},
   "outputs": [],
   "source": [
    "try:\n",
    "    client.delete_registered_model(model_name)\n",
    "    print(\"Deleting model\")\n",
    "except Exception as e:\n",
    "    print(e)"
   ]
  },
  {
   "cell_type": "code",
   "execution_count": null,
   "metadata": {},
   "outputs": [],
   "source": [
    "from mlflow.exceptions import MlflowException, RestException\n",
    "try:\n",
    "    registered_model = client.get_registered_model(model_name)\n",
    "    print(\"Found existing model\")\n",
    "except RestException as e:\n",
    "    print(\"Creating new model\")\n",
    "    client.create_registered_model(model_name)\n",
    "    registered_model = client.get_registered_model(model_name)\n",
    "type(registered_model), registered_model.__dict__"
   ]
  },
  {
   "cell_type": "markdown",
   "metadata": {},
   "source": [
    "### Production model"
   ]
  },
  {
   "cell_type": "code",
   "execution_count": null,
   "metadata": {},
   "outputs": [],
   "source": [
    "prod_run.info.artifact_uri"
   ]
  },
  {
   "cell_type": "code",
   "execution_count": null,
   "metadata": {},
   "outputs": [],
   "source": [
    "source = f\"{prod_run.info.artifact_uri}/sklearn-model\"\n",
    "client.create_model_version(model_name, source, prod_run.info.run_id)\n",
    "time.sleep(naptime)"
   ]
  },
  {
   "cell_type": "code",
   "execution_count": null,
   "metadata": {},
   "outputs": [],
   "source": [
    "versions = client.get_latest_versions(model_name)\n",
    "len(versions),versions"
   ]
  },
  {
   "cell_type": "code",
   "execution_count": null,
   "metadata": {},
   "outputs": [],
   "source": [
    "registered_model = client.get_registered_model(model_name)\n",
    "versions = registered_model.latest_versions\n",
    "len(versions),versions"
   ]
  },
  {
   "cell_type": "code",
   "execution_count": null,
   "metadata": {},
   "outputs": [],
   "source": [
    "versionDetails = client.get_model_version(model_name,1)\n",
    "versionDetails.__dict__"
   ]
  },
  {
   "cell_type": "markdown",
   "metadata": {},
   "source": [
    "NOTE: Without above sleep, we get this error:\n",
    "\n",
    "RestException: INVALID_STATE: Model version andre_sklearn_registry_test version 1 has invalid status PENDING_REGISTRATION. Expected status is READY."
   ]
  },
  {
   "cell_type": "code",
   "execution_count": null,
   "metadata": {},
   "outputs": [],
   "source": [
    "#client.update_model_version(model_name, 1, stage=\"Production\", description=\"My prod version\") # 1.8.0\n",
    "client.transition_model_version_stage (model_name, 1, \"Production\") # 1.9.0"
   ]
  },
  {
   "cell_type": "code",
   "execution_count": null,
   "metadata": {},
   "outputs": [],
   "source": [
    "client.get_model_version_stages(model_name,1)"
   ]
  },
  {
   "cell_type": "code",
   "execution_count": null,
   "metadata": {},
   "outputs": [],
   "source": [
    "client.get_latest_versions(model_name)"
   ]
  },
  {
   "cell_type": "code",
   "execution_count": null,
   "metadata": {},
   "outputs": [],
   "source": [
    "versionDetails = client.get_model_version(model_name,1)\n",
    "versionDetails.__dict__"
   ]
  },
  {
   "cell_type": "markdown",
   "metadata": {},
   "source": [
    "### Staging"
   ]
  },
  {
   "cell_type": "code",
   "execution_count": null,
   "metadata": {},
   "outputs": [],
   "source": [
    "def show_versions(versions):\n",
    "    for v in versions:\n",
    "        print(f\"{v.run_id} {v.version} {v.current_stage} '{v.description}'\")"
   ]
  },
  {
   "cell_type": "code",
   "execution_count": null,
   "metadata": {},
   "outputs": [],
   "source": [
    " for j,run in enumerate(staging_runs):\n",
    "    print(f\"==== {j}\")\n",
    "    source = f\"{run.info.artifact_uri}/sklearn-model\"\n",
    "    version = client.create_model_version(model_name, source, run.info.run_id)\n",
    "    #print(version.__dict__)\n",
    "    time.sleep(naptime)\n",
    "    versionDetails = client.get_model_version(model_name,version.version)\n",
    "    print(versionDetails.__dict__)\n",
    "    #client.update_model_version(model_name, version.version, stage=\"Staging\", description=f\"My staging version {j}\") # 1.8.0\n",
    "    client.transition_model_version_stage(model_name, version.version, \"Staging\")"
   ]
  },
  {
   "cell_type": "markdown",
   "metadata": {},
   "source": [
    "### Manipulate Versions"
   ]
  },
  {
   "cell_type": "markdown",
   "metadata": {},
   "source": [
    "#### Update Version"
   ]
  },
  {
   "cell_type": "code",
   "execution_count": null,
   "metadata": {},
   "outputs": [],
   "source": [
    "show_versions(client.search_model_versions(f\"name='{model_name}'\"))"
   ]
  },
  {
   "cell_type": "code",
   "execution_count": null,
   "metadata": {},
   "outputs": [],
   "source": [
    "#client.update_model_version(model_name, 3, stage='None') # 1.8.0\n",
    "client.transition_model_version_stage (model_name, 3, \"None\") # 1.9.0"
   ]
  },
  {
   "cell_type": "code",
   "execution_count": null,
   "metadata": {},
   "outputs": [],
   "source": [
    "show_versions(client.search_model_versions(f\"name='{model_name}'\"))"
   ]
  },
  {
   "cell_type": "markdown",
   "metadata": {},
   "source": [
    "#### Delete Version"
   ]
  },
  {
   "cell_type": "code",
   "execution_count": null,
   "metadata": {},
   "outputs": [],
   "source": [
    "client.delete_model_version(model_name, 3)"
   ]
  },
  {
   "cell_type": "code",
   "execution_count": null,
   "metadata": {},
   "outputs": [],
   "source": [
    "show_versions(client.search_model_versions(f\"name='{model_name}'\"))"
   ]
  },
  {
   "cell_type": "markdown",
   "metadata": {},
   "source": [
    "### Execute version methods"
   ]
  },
  {
   "cell_type": "code",
   "execution_count": null,
   "metadata": {},
   "outputs": [],
   "source": [
    "versions = client.search_model_versions(f\"name='{model_name}'\")\n",
    "show_versions(versions)"
   ]
  },
  {
   "cell_type": "code",
   "execution_count": null,
   "metadata": {},
   "outputs": [],
   "source": [
    "versions =  client.get_latest_versions(model_name)\n",
    "show_versions(versions)"
   ]
  },
  {
   "cell_type": "code",
   "execution_count": null,
   "metadata": {},
   "outputs": [],
   "source": [
    "registered_model = client.get_registered_model(model_name)\n",
    "registered_model.__dict__"
   ]
  },
  {
   "cell_type": "code",
   "execution_count": null,
   "metadata": {},
   "outputs": [],
   "source": [
    "show_versions(registered_model.latest_versions)"
   ]
  },
  {
   "cell_type": "code",
   "execution_count": null,
   "metadata": {},
   "outputs": [],
   "source": [
    "versions = client.get_latest_versions(model_name, stages=[\"Production\"])\n",
    "show_versions(versions)"
   ]
  },
  {
   "cell_type": "code",
   "execution_count": null,
   "metadata": {},
   "outputs": [],
   "source": [
    "versions = client.get_latest_versions(model_name, stages=[\"Staging\"])\n",
    "show_versions(versions)"
   ]
  },
  {
   "cell_type": "markdown",
   "metadata": {},
   "source": [
    "### Get Model and predict"
   ]
  },
  {
   "cell_type": "markdown",
   "metadata": {},
   "source": [
    "#### Production model"
   ]
  },
  {
   "cell_type": "code",
   "execution_count": null,
   "metadata": {},
   "outputs": [],
   "source": [
    " data_predict = data.drop(['quality'], axis=1)"
   ]
  },
  {
   "cell_type": "code",
   "execution_count": null,
   "metadata": {},
   "outputs": [],
   "source": [
    "model_uri = f\"models:/{model_name}/production\"\n",
    "model_uri"
   ]
  },
  {
   "cell_type": "code",
   "execution_count": null,
   "metadata": {},
   "outputs": [],
   "source": [
    "model = mlflow.sklearn.load_model(model_uri)\n",
    "model"
   ]
  },
  {
   "cell_type": "code",
   "execution_count": null,
   "metadata": {},
   "outputs": [],
   "source": [
    "predictions = model.predict(data_predict)\n",
    "pd.DataFrame(predictions).head(5)"
   ]
  },
  {
   "cell_type": "markdown",
   "metadata": {},
   "source": [
    "#### Staging model\n",
    "\n",
    "NOTE: Since there are two staging models, apparently the latest one is returned.\n",
    "This is not documented."
   ]
  },
  {
   "cell_type": "code",
   "execution_count": null,
   "metadata": {},
   "outputs": [],
   "source": [
    "model = mlflow.sklearn.load_model(f\"models:/{model_name}/staging\")\n",
    "model"
   ]
  },
  {
   "cell_type": "code",
   "execution_count": null,
   "metadata": {},
   "outputs": [],
   "source": [
    "predictions = model.predict(data_predict)\n",
    "pd.DataFrame(predictions).head(5)"
   ]
  },
  {
   "cell_type": "markdown",
   "metadata": {},
   "source": [
    "### List Registry"
   ]
  },
  {
   "cell_type": "code",
   "execution_count": null,
   "metadata": {},
   "outputs": [],
   "source": [
    "def dump(x,indent=\"  \"):\n",
    "  print(\"Registered Model\")\n",
    "  for k,v in x.__dict__.items():\n",
    "    if k == \"_latest_version\":\n",
    "      print(\"  \",k)\n",
    "      for e in v:\n",
    "        print(\"   ModelVersionDetailed:\")\n",
    "        for k2,v2 in e.__dict__.items():\n",
    "          print(\"      \",k2,\"-\",v2)\n",
    "    else:\n",
    "      print(\"  \",k,\"-\",v)"
   ]
  },
  {
   "cell_type": "code",
   "execution_count": null,
   "metadata": {},
   "outputs": [],
   "source": [
    "def list_registry():\n",
    "  client = mlflow.tracking.MlflowClient()\n",
    "  lst = client.list_registered_models()\n",
    "  print(\"#register_models:\",len(lst))\n",
    "  for e in lst:\n",
    "    dump(e)\n",
    "  print(\"#register_models:\",len(lst))"
   ]
  },
  {
   "cell_type": "code",
   "execution_count": null,
   "metadata": {},
   "outputs": [],
   "source": [
    "list_registry()"
   ]
  }
 ],
 "metadata": {
  "kernelspec": {
   "display_name": "mlflow-examples-sklearn",
   "language": "python",
   "name": "mlflow-examples-sklearn"
  },
  "language_info": {
   "codemirror_mode": {
    "name": "ipython",
    "version": 3
   },
   "file_extension": ".py",
   "mimetype": "text/x-python",
   "name": "python",
   "nbconvert_exporter": "python",
   "pygments_lexer": "ipython3",
   "version": "3.7.6"
  },
  "name": "Train Wine Quality",
  "notebookId": 4664335
 },
 "nbformat": 4,
 "nbformat_minor": 1
}
