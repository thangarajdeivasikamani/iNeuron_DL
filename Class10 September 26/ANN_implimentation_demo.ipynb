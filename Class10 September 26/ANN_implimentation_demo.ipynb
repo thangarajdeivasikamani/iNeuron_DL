{
 "cells": [
  {
   "cell_type": "code",
   "execution_count": 2,
   "metadata": {
    "colab": {
     "base_uri": "https://localhost:8080/"
    },
    "executionInfo": {
     "elapsed": 623,
     "status": "ok",
     "timestamp": 1633145328521,
     "user": {
      "displayName": "thangaraj erode",
      "photoUrl": "https://lh3.googleusercontent.com/a-/AOh14Gjc03Yne67YHcMTl6XapZaRW-snB5UHNi1_RD_Ezg=s64",
      "userId": "10627314084394039004"
     },
     "user_tz": -330
    },
    "id": "cOuM1zKO7VCJ",
    "outputId": "29d9ccf1-d811-4269-c672-a8bf92e48058"
   },
   "outputs": [
    {
     "name": "stdout",
     "output_type": "stream",
     "text": [
      "Drive already mounted at /content/drive; to attempt to forcibly remount, call drive.mount(\"/content/drive\", force_remount=True).\n"
     ]
    }
   ],
   "source": [
    "from google.colab import drive\n",
    "drive.mount('/content/drive')"
   ]
  },
  {
   "cell_type": "code",
   "execution_count": 2,
   "metadata": {
    "executionInfo": {
     "elapsed": 1667,
     "status": "ok",
     "timestamp": 1633139687581,
     "user": {
      "displayName": "thangaraj erode",
      "photoUrl": "https://lh3.googleusercontent.com/a-/AOh14Gjc03Yne67YHcMTl6XapZaRW-snB5UHNi1_RD_Ezg=s64",
      "userId": "10627314084394039004"
     },
     "user_tz": -330
    },
    "id": "IFqRldYw4eaf"
   },
   "outputs": [],
   "source": [
    "import tensorflow as tf"
   ]
  },
  {
   "cell_type": "code",
   "execution_count": 3,
   "metadata": {
    "colab": {
     "base_uri": "https://localhost:8080/",
     "height": 35
    },
    "executionInfo": {
     "elapsed": 20,
     "status": "ok",
     "timestamp": 1633139687583,
     "user": {
      "displayName": "thangaraj erode",
      "photoUrl": "https://lh3.googleusercontent.com/a-/AOh14Gjc03Yne67YHcMTl6XapZaRW-snB5UHNi1_RD_Ezg=s64",
      "userId": "10627314084394039004"
     },
     "user_tz": -330
    },
    "id": "FUeSueKj6Omq",
    "outputId": "b056b250-0a0a-4636-a341-18cfbeffbfed"
   },
   "outputs": [
    {
     "data": {
      "application/vnd.google.colaboratory.intrinsic+json": {
       "type": "string"
      },
      "text/plain": [
       "'2.6.0'"
      ]
     },
     "execution_count": 3,
     "metadata": {},
     "output_type": "execute_result"
    }
   ],
   "source": [
    "tf.__version__"
   ]
  },
  {
   "cell_type": "code",
   "execution_count": 4,
   "metadata": {
    "colab": {
     "base_uri": "https://localhost:8080/",
     "height": 35
    },
    "executionInfo": {
     "elapsed": 699,
     "status": "ok",
     "timestamp": 1633139688269,
     "user": {
      "displayName": "thangaraj erode",
      "photoUrl": "https://lh3.googleusercontent.com/a-/AOh14Gjc03Yne67YHcMTl6XapZaRW-snB5UHNi1_RD_Ezg=s64",
      "userId": "10627314084394039004"
     },
     "user_tz": -330
    },
    "id": "eM-8kDl26RV4",
    "outputId": "fce1e92d-1448-4a86-928c-efbe1de8a092"
   },
   "outputs": [
    {
     "data": {
      "application/vnd.google.colaboratory.intrinsic+json": {
       "type": "string"
      },
      "text/plain": [
       "'2.6.0'"
      ]
     },
     "execution_count": 4,
     "metadata": {},
     "output_type": "execute_result"
    }
   ],
   "source": [
    "tf.keras.__version__"
   ]
  },
  {
   "cell_type": "markdown",
   "metadata": {
    "id": "Exzx0g057QGx"
   },
   "source": [
    "keras is High level API for tensorflow"
   ]
  },
  {
   "cell_type": "code",
   "execution_count": 5,
   "metadata": {
    "colab": {
     "base_uri": "https://localhost:8080/"
    },
    "executionInfo": {
     "elapsed": 32,
     "status": "ok",
     "timestamp": 1633139689000,
     "user": {
      "displayName": "thangaraj erode",
      "photoUrl": "https://lh3.googleusercontent.com/a-/AOh14Gjc03Yne67YHcMTl6XapZaRW-snB5UHNi1_RD_Ezg=s64",
      "userId": "10627314084394039004"
     },
     "user_tz": -330
    },
    "id": "LWChj6xF7noy",
    "outputId": "3400c6ff-0538-4262-ce70-e83662bbe117"
   },
   "outputs": [
    {
     "data": {
      "text/plain": [
       "[PhysicalDevice(name='/physical_device:GPU:0', device_type='GPU')]"
      ]
     },
     "execution_count": 5,
     "metadata": {},
     "output_type": "execute_result"
    }
   ],
   "source": [
    "tf.config.list_physical_devices(\"GPU\") # Checking how many GPU avalaible"
   ]
  },
  {
   "cell_type": "code",
   "execution_count": 6,
   "metadata": {
    "colab": {
     "base_uri": "https://localhost:8080/"
    },
    "executionInfo": {
     "elapsed": 18,
     "status": "ok",
     "timestamp": 1633139689002,
     "user": {
      "displayName": "thangaraj erode",
      "photoUrl": "https://lh3.googleusercontent.com/a-/AOh14Gjc03Yne67YHcMTl6XapZaRW-snB5UHNi1_RD_Ezg=s64",
      "userId": "10627314084394039004"
     },
     "user_tz": -330
    },
    "id": "zW7iYqTB74VY",
    "outputId": "c5449695-8507-49c7-e993-2e2db13824ba"
   },
   "outputs": [
    {
     "data": {
      "text/plain": [
       "[PhysicalDevice(name='/physical_device:CPU:0', device_type='CPU')]"
      ]
     },
     "execution_count": 6,
     "metadata": {},
     "output_type": "execute_result"
    }
   ],
   "source": [
    "tf.config.list_physical_devices(\"CPU\") # Checking how many cpu avalaible"
   ]
  },
  {
   "cell_type": "markdown",
   "metadata": {
    "id": "CmlbikwK8ALx"
   },
   "source": [
    "MNIST Dataset is hello world classification image /ANN example\n"
   ]
  },
  {
   "cell_type": "code",
   "execution_count": 7,
   "metadata": {
    "executionInfo": {
     "elapsed": 945,
     "status": "ok",
     "timestamp": 1633139689936,
     "user": {
      "displayName": "thangaraj erode",
      "photoUrl": "https://lh3.googleusercontent.com/a-/AOh14Gjc03Yne67YHcMTl6XapZaRW-snB5UHNi1_RD_Ezg=s64",
      "userId": "10627314084394039004"
     },
     "user_tz": -330
    },
    "id": "CH8gY1kV7_u-"
   },
   "outputs": [],
   "source": [
    "import numpy as np\n",
    "import matplotlib.pyplot as plt\n",
    "import pandas as pd\n",
    "import seaborn as sns"
   ]
  },
  {
   "cell_type": "code",
   "execution_count": 8,
   "metadata": {
    "executionInfo": {
     "elapsed": 27,
     "status": "ok",
     "timestamp": 1633139689937,
     "user": {
      "displayName": "thangaraj erode",
      "photoUrl": "https://lh3.googleusercontent.com/a-/AOh14Gjc03Yne67YHcMTl6XapZaRW-snB5UHNi1_RD_Ezg=s64",
      "userId": "10627314084394039004"
     },
     "user_tz": -330
    },
    "id": "gAa1GJTa8okq"
   },
   "outputs": [],
   "source": [
    "mnist =tf.keras.datasets.mnist"
   ]
  },
  {
   "cell_type": "code",
   "execution_count": 9,
   "metadata": {
    "colab": {
     "base_uri": "https://localhost:8080/"
    },
    "executionInfo": {
     "elapsed": 774,
     "status": "ok",
     "timestamp": 1633139690687,
     "user": {
      "displayName": "thangaraj erode",
      "photoUrl": "https://lh3.googleusercontent.com/a-/AOh14Gjc03Yne67YHcMTl6XapZaRW-snB5UHNi1_RD_Ezg=s64",
      "userId": "10627314084394039004"
     },
     "user_tz": -330
    },
    "id": "HKqYCUdq8ooC",
    "outputId": "6ce38ec5-cd14-4dd6-aabf-8378c9cc21e2"
   },
   "outputs": [
    {
     "name": "stdout",
     "output_type": "stream",
     "text": [
      "Downloading data from https://storage.googleapis.com/tensorflow/tf-keras-datasets/mnist.npz\n",
      "11493376/11490434 [==============================] - 0s 0us/step\n",
      "11501568/11490434 [==============================] - 0s 0us/step\n"
     ]
    }
   ],
   "source": [
    "(X_train_full,y_train_full),(X_test,y_test)= mnist.load_data()"
   ]
  },
  {
   "cell_type": "code",
   "execution_count": 10,
   "metadata": {
    "colab": {
     "base_uri": "https://localhost:8080/"
    },
    "executionInfo": {
     "elapsed": 95,
     "status": "ok",
     "timestamp": 1633139690688,
     "user": {
      "displayName": "thangaraj erode",
      "photoUrl": "https://lh3.googleusercontent.com/a-/AOh14Gjc03Yne67YHcMTl6XapZaRW-snB5UHNi1_RD_Ezg=s64",
      "userId": "10627314084394039004"
     },
     "user_tz": -330
    },
    "id": "dbJrIdbM8oqv",
    "outputId": "d9d47c3d-0d85-4e6e-cd4a-842184c688f9"
   },
   "outputs": [
    {
     "data": {
      "text/plain": [
       "(60000, 28, 28)"
      ]
     },
     "execution_count": 10,
     "metadata": {},
     "output_type": "execute_result"
    }
   ],
   "source": [
    "#Here image is 28 x28 very small image so we can use\n",
    "X_train_full.shape"
   ]
  },
  {
   "cell_type": "code",
   "execution_count": 11,
   "metadata": {
    "colab": {
     "base_uri": "https://localhost:8080/"
    },
    "executionInfo": {
     "elapsed": 85,
     "status": "ok",
     "timestamp": 1633139690689,
     "user": {
      "displayName": "thangaraj erode",
      "photoUrl": "https://lh3.googleusercontent.com/a-/AOh14Gjc03Yne67YHcMTl6XapZaRW-snB5UHNi1_RD_Ezg=s64",
      "userId": "10627314084394039004"
     },
     "user_tz": -330
    },
    "id": "qdXozdrK8otI",
    "outputId": "ce7111ee-8add-48af-bcb9-41a74f1c1485"
   },
   "outputs": [
    {
     "data": {
      "text/plain": [
       "(60000,)"
      ]
     },
     "execution_count": 11,
     "metadata": {},
     "output_type": "execute_result"
    }
   ],
   "source": [
    "y_train_full.shape"
   ]
  },
  {
   "cell_type": "code",
   "execution_count": 12,
   "metadata": {
    "colab": {
     "base_uri": "https://localhost:8080/"
    },
    "executionInfo": {
     "elapsed": 80,
     "status": "ok",
     "timestamp": 1633139690691,
     "user": {
      "displayName": "thangaraj erode",
      "photoUrl": "https://lh3.googleusercontent.com/a-/AOh14Gjc03Yne67YHcMTl6XapZaRW-snB5UHNi1_RD_Ezg=s64",
      "userId": "10627314084394039004"
     },
     "user_tz": -330
    },
    "id": "kydNRgp_8ovP",
    "outputId": "4a792642-37d7-47d3-f11a-a29ac1a68bb9"
   },
   "outputs": [
    {
     "data": {
      "text/plain": [
       "(28, 28)"
      ]
     },
     "execution_count": 12,
     "metadata": {},
     "output_type": "execute_result"
    }
   ],
   "source": [
    "# Print first element in the x \n",
    "X_train_full[0].shape"
   ]
  },
  {
   "cell_type": "code",
   "execution_count": 13,
   "metadata": {
    "colab": {
     "base_uri": "https://localhost:8080/",
     "height": 248
    },
    "executionInfo": {
     "elapsed": 76,
     "status": "ok",
     "timestamp": 1633139690695,
     "user": {
      "displayName": "thangaraj erode",
      "photoUrl": "https://lh3.googleusercontent.com/a-/AOh14Gjc03Yne67YHcMTl6XapZaRW-snB5UHNi1_RD_Ezg=s64",
      "userId": "10627314084394039004"
     },
     "user_tz": -330
    },
    "id": "UWeNM44Y9lJp",
    "outputId": "a701e3aa-f7f1-46c9-8c7b-f91af7630727"
   },
   "outputs": [
    {
     "data": {
      "image/png": "[encoded data removed]",
      "text/plain": [
       "<Figure size 432x288 with 1 Axes>"
      ]
     },
     "metadata": {
      "needs_background": "light"
     },
     "output_type": "display_data"
    }
   ],
   "source": [
    "img = X_train_full[0]\n",
    "plt.imshow(img,cmap='binary')\n",
    "plt.axis(\"off\")\n",
    "plt.show()"
   ]
  },
  {
   "cell_type": "code",
   "execution_count": 14,
   "metadata": {
    "colab": {
     "base_uri": "https://localhost:8080/"
    },
    "executionInfo": {
     "elapsed": 73,
     "status": "ok",
     "timestamp": 1633139690697,
     "user": {
      "displayName": "thangaraj erode",
      "photoUrl": "https://lh3.googleusercontent.com/a-/AOh14Gjc03Yne67YHcMTl6XapZaRW-snB5UHNi1_RD_Ezg=s64",
      "userId": "10627314084394039004"
     },
     "user_tz": -330
    },
    "id": "PzTkaO2r-ogD",
    "outputId": "3465c08c-ac18-4918-fba4-90de76e0d923"
   },
   "outputs": [
    {
     "data": {
      "text/plain": [
       "(10000, 28, 28)"
      ]
     },
     "execution_count": 14,
     "metadata": {},
     "output_type": "execute_result"
    }
   ],
   "source": [
    "X_test.shape"
   ]
  },
  {
   "cell_type": "code",
   "execution_count": 15,
   "metadata": {
    "executionInfo": {
     "elapsed": 64,
     "status": "ok",
     "timestamp": 1633139690699,
     "user": {
      "displayName": "thangaraj erode",
      "photoUrl": "https://lh3.googleusercontent.com/a-/AOh14Gjc03Yne67YHcMTl6XapZaRW-snB5UHNi1_RD_Ezg=s64",
      "userId": "10627314084394039004"
     },
     "user_tz": -330
    },
    "id": "agvgepcS9yvm"
   },
   "outputs": [],
   "source": [
    "#image each pixel 0 -255 ->i.e 2 ^8 8 bit image\n",
    "# if it's RGB then 255X 255 X 3\n",
    "# we need to resize based on model example VGG16 expecetd (224,224)\n",
    "# Here the image size is 28 x 28 so no need to resize, jus re-use\n"
   ]
  },
  {
   "cell_type": "code",
   "execution_count": 16,
   "metadata": {
    "colab": {
     "base_uri": "https://localhost:8080/"
    },
    "executionInfo": {
     "elapsed": 54,
     "status": "ok",
     "timestamp": 1633139690701,
     "user": {
      "displayName": "thangaraj erode",
      "photoUrl": "https://lh3.googleusercontent.com/a-/AOh14Gjc03Yne67YHcMTl6XapZaRW-snB5UHNi1_RD_Ezg=s64",
      "userId": "10627314084394039004"
     },
     "user_tz": -330
    },
    "id": "cZXyjgLKAg6w",
    "outputId": "fd255905-699a-460f-8708-435c92e777f3"
   },
   "outputs": [
    {
     "data": {
      "text/plain": [
       "(255, 0)"
      ]
     },
     "execution_count": 16,
     "metadata": {},
     "output_type": "execute_result"
    }
   ],
   "source": [
    "img.max(),img.min()"
   ]
  },
  {
   "cell_type": "code",
   "execution_count": 17,
   "metadata": {
    "colab": {
     "base_uri": "https://localhost:8080/",
     "height": 1000
    },
    "executionInfo": {
     "elapsed": 4512,
     "status": "ok",
     "timestamp": 1633139695184,
     "user": {
      "displayName": "thangaraj erode",
      "photoUrl": "https://lh3.googleusercontent.com/a-/AOh14Gjc03Yne67YHcMTl6XapZaRW-snB5UHNi1_RD_Ezg=s64",
      "userId": "10627314084394039004"
     },
     "user_tz": -330
    },
    "id": "v4Naiy2c9-2a",
    "outputId": "fca89c14-e309-41a9-cf06-bc90752ee212"
   },
   "outputs": [
    {
     "data": {
      "text/plain": [
       "<matplotlib.axes._subplots.AxesSubplot at 0x7f619e8a2890>"
      ]
     },
     "execution_count": 17,
     "metadata": {},
     "output_type": "execute_result"
    },
    {
     "data": {
      "image/png": "[encoded data removed]",
      "text/plain": [
       "<Figure size 1440x1440 with 2 Axes>"
      ]
     },
     "metadata": {
      "needs_background": "light"
     },
     "output_type": "display_data"
    }
   ],
   "source": [
    "# Print the image using sns heat map\n",
    "plt.figure(figsize=(20,20))\n",
    "sns.heatmap(img,annot= True,cmap='binary')"
   ]
  },
  {
   "cell_type": "code",
   "execution_count": 18,
   "metadata": {
    "colab": {
     "base_uri": "https://localhost:8080/",
     "height": 1000
    },
    "executionInfo": {
     "elapsed": 3672,
     "status": "ok",
     "timestamp": 1633139698850,
     "user": {
      "displayName": "thangaraj erode",
      "photoUrl": "https://lh3.googleusercontent.com/a-/AOh14Gjc03Yne67YHcMTl6XapZaRW-snB5UHNi1_RD_Ezg=s64",
      "userId": "10627314084394039004"
     },
     "user_tz": -330
    },
    "id": "QpzVaxRg9-5l",
    "outputId": "6e705c7b-9d87-4c4f-a98e-f15bf084d119"
   },
   "outputs": [
    {
     "data": {
      "text/plain": [
       "<matplotlib.axes._subplots.AxesSubplot at 0x7f6195462f10>"
      ]
     },
     "execution_count": 18,
     "metadata": {},
     "output_type": "execute_result"
    },
    {
     "data": {
      "image/png": "[encoded data removed]",
      "text/plain": [
       "<Figure size 1440x1440 with 2 Axes>"
      ]
     },
     "metadata": {
      "needs_background": "light"
     },
     "output_type": "display_data"
    }
   ],
   "source": [
    "# We will normalize using max\n",
    "plt.figure(figsize=(20,20))\n",
    "sns.heatmap(img/255,annot= True,cmap='binary')"
   ]
  },
  {
   "cell_type": "code",
   "execution_count": 19,
   "metadata": {
    "executionInfo": {
     "elapsed": 674,
     "status": "ok",
     "timestamp": 1633139699512,
     "user": {
      "displayName": "thangaraj erode",
      "photoUrl": "https://lh3.googleusercontent.com/a-/AOh14Gjc03Yne67YHcMTl6XapZaRW-snB5UHNi1_RD_Ezg=s64",
      "userId": "10627314084394039004"
     },
     "user_tz": -330
    },
    "id": "BxcSYy439-8g"
   },
   "outputs": [],
   "source": [
    "X_valid, X_train = X_train_full[:5000] / 255., X_train_full[5000:] / 255.\n",
    "y_valid, y_train = y_train_full[:5000], y_train_full[5000:]\n",
    "\n",
    "\n",
    "X_test = X_test / 255."
   ]
  },
  {
   "cell_type": "markdown",
   "metadata": {
    "id": "dE26n-QiTos1"
   },
   "source": [
    "![image.png](data:image/png;base64,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)"
   ]
  },
  {
   "cell_type": "markdown",
   "metadata": {
    "id": "Iw6bDabWT1-k"
   },
   "source": [
    "https://www.analyticsvidhya.com/blog/2020/01/fundamentals-deep-learning-activation-functions-when-to-use-them/"
   ]
  },
  {
   "cell_type": "code",
   "execution_count": 20,
   "metadata": {
    "executionInfo": {
     "elapsed": 9,
     "status": "ok",
     "timestamp": 1633139699515,
     "user": {
      "displayName": "thangaraj erode",
      "photoUrl": "https://lh3.googleusercontent.com/a-/AOh14Gjc03Yne67YHcMTl6XapZaRW-snB5UHNi1_RD_Ezg=s64",
      "userId": "10627314084394039004"
     },
     "user_tz": -330
    },
    "id": "NlV-verfBogy"
   },
   "outputs": [],
   "source": [
    "# we need to flatten the input means 28x 28 convert to sigle array\n",
    "LAYERS = [tf.keras.layers.Flatten(input_shape=[28,28],name = \"inputLayer\"),\n",
    "          tf.keras.layers.Dense(300,activation=\"relu\",name=\"hiddenLayer1\"),\n",
    "          tf.keras.layers.Dense(100,activation=\"relu\",name=\"hiddenLayer2\"),\n",
    "          tf.keras.layers.Dense(10,activation=\"softmax\",name = \"outputlayer\")] # Flat the input as 784 input\n"
   ]
  },
  {
   "cell_type": "code",
   "execution_count": 21,
   "metadata": {
    "executionInfo": {
     "elapsed": 4796,
     "status": "ok",
     "timestamp": 1633139704304,
     "user": {
      "displayName": "thangaraj erode",
      "photoUrl": "https://lh3.googleusercontent.com/a-/AOh14Gjc03Yne67YHcMTl6XapZaRW-snB5UHNi1_RD_Ezg=s64",
      "userId": "10627314084394039004"
     },
     "user_tz": -330
    },
    "id": "JJnJhZ1BEiVz"
   },
   "outputs": [],
   "source": [
    "# we will create the model from above layer , we are creating as sequential model, becasue we are not skip any layer\n",
    "model_clf = tf.keras.models.Sequential(LAYERS)"
   ]
  },
  {
   "cell_type": "code",
   "execution_count": 22,
   "metadata": {
    "colab": {
     "base_uri": "https://localhost:8080/"
    },
    "executionInfo": {
     "elapsed": 118,
     "status": "ok",
     "timestamp": 1633139704309,
     "user": {
      "displayName": "thangaraj erode",
      "photoUrl": "https://lh3.googleusercontent.com/a-/AOh14Gjc03Yne67YHcMTl6XapZaRW-snB5UHNi1_RD_Ezg=s64",
      "userId": "10627314084394039004"
     },
     "user_tz": -330
    },
    "id": "aZjVUHoHExLb",
    "outputId": "049ba69c-8ec1-47b9-8d13-e550426f25bb"
   },
   "outputs": [
    {
     "data": {
      "text/plain": [
       "[<keras.layers.core.Flatten at 0x7f61953973d0>,\n",
       " <keras.layers.core.Dense at 0x7f619349fc50>,\n",
       " <keras.layers.core.Dense at 0x7f6195462450>,\n",
       " <keras.layers.core.Dense at 0x7f61954b04d0>]"
      ]
     },
     "execution_count": 22,
     "metadata": {},
     "output_type": "execute_result"
    }
   ],
   "source": [
    "model_clf.layers"
   ]
  },
  {
   "cell_type": "code",
   "execution_count": 23,
   "metadata": {
    "colab": {
     "base_uri": "https://localhost:8080/"
    },
    "executionInfo": {
     "elapsed": 96,
     "status": "ok",
     "timestamp": 1633139704310,
     "user": {
      "displayName": "thangaraj erode",
      "photoUrl": "https://lh3.googleusercontent.com/a-/AOh14Gjc03Yne67YHcMTl6XapZaRW-snB5UHNi1_RD_Ezg=s64",
      "userId": "10627314084394039004"
     },
     "user_tz": -330
    },
    "id": "r1QesaS0ExN3",
    "outputId": "9e0978b5-1ee1-4452-bd0a-c4f7de25ec32"
   },
   "outputs": [
    {
     "name": "stdout",
     "output_type": "stream",
     "text": [
      "Model: \"sequential\"\n",
      "_________________________________________________________________\n",
      "Layer (type)                 Output Shape              Param #   \n",
      "=================================================================\n",
      "inputLayer (Flatten)         (None, 784)               0         \n",
      "_________________________________________________________________\n",
      "hiddenLayer1 (Dense)         (None, 300)               235500    \n",
      "_________________________________________________________________\n",
      "hiddenLayer2 (Dense)         (None, 100)               30100     \n",
      "_________________________________________________________________\n",
      "outputlayer (Dense)          (None, 10)                1010      \n",
      "=================================================================\n",
      "Total params: 266,610\n",
      "Trainable params: 266,610\n",
      "Non-trainable params: 0\n",
      "_________________________________________________________________\n"
     ]
    }
   ],
   "source": [
    "model_clf.summary()"
   ]
  },
  {
   "cell_type": "code",
   "execution_count": 24,
   "metadata": {
    "colab": {
     "base_uri": "https://localhost:8080/"
    },
    "executionInfo": {
     "elapsed": 92,
     "status": "ok",
     "timestamp": 1633139704314,
     "user": {
      "displayName": "thangaraj erode",
      "photoUrl": "https://lh3.googleusercontent.com/a-/AOh14Gjc03Yne67YHcMTl6XapZaRW-snB5UHNi1_RD_Ezg=s64",
      "userId": "10627314084394039004"
     },
     "user_tz": -330
    },
    "id": "VXofUubTHcaD",
    "outputId": "f25e3646-025b-47a7-a22a-7beb2c988912"
   },
   "outputs": [
    {
     "data": {
      "text/plain": [
       "(235500, 30100, 1010)"
      ]
     },
     "execution_count": 24,
     "metadata": {},
     "output_type": "execute_result"
    }
   ],
   "source": [
    "# firstlayer * secondlayer + bias\n",
    "# input* Weight +bias\n",
    "\n",
    "784*300 + 300, 300*100 + 100, 100*10 + 10"
   ]
  },
  {
   "cell_type": "code",
   "execution_count": 25,
   "metadata": {
    "colab": {
     "base_uri": "https://localhost:8080/"
    },
    "executionInfo": {
     "elapsed": 81,
     "status": "ok",
     "timestamp": 1633139704314,
     "user": {
      "displayName": "thangaraj erode",
      "photoUrl": "https://lh3.googleusercontent.com/a-/AOh14Gjc03Yne67YHcMTl6XapZaRW-snB5UHNi1_RD_Ezg=s64",
      "userId": "10627314084394039004"
     },
     "user_tz": -330
    },
    "id": "IDmMTJcaHccs",
    "outputId": "bd25395f-80f9-43c9-9c07-480a0606515c"
   },
   "outputs": [
    {
     "data": {
      "text/plain": [
       "266610"
      ]
     },
     "execution_count": 25,
     "metadata": {},
     "output_type": "execute_result"
    }
   ],
   "source": [
    "np.sum((235500, 30100, 1010))"
   ]
  },
  {
   "cell_type": "markdown",
   "metadata": {
    "id": "LAE3rOSSE6GY"
   },
   "source": [
    "- we will get 784 flatten input\n",
    "- Next layer we will get around 235500   ( 784 * 300 Weights) +300 \n",
    "- Next layer ( 300 * 100) + 100 bias \n",
    "- output layer "
   ]
  },
  {
   "cell_type": "code",
   "execution_count": 26,
   "metadata": {
    "colab": {
     "base_uri": "https://localhost:8080/",
     "height": 35
    },
    "executionInfo": {
     "elapsed": 72,
     "status": "ok",
     "timestamp": 1633139704315,
     "user": {
      "displayName": "thangaraj erode",
      "photoUrl": "https://lh3.googleusercontent.com/a-/AOh14Gjc03Yne67YHcMTl6XapZaRW-snB5UHNi1_RD_Ezg=s64",
      "userId": "10627314084394039004"
     },
     "user_tz": -330
    },
    "id": "rh_IGOQMH6vg",
    "outputId": "8918c23a-d50e-4fe8-c8c7-2b97bbb7c548"
   },
   "outputs": [
    {
     "data": {
      "application/vnd.google.colaboratory.intrinsic+json": {
       "type": "string"
      },
      "text/plain": [
       "'hiddenLayer1'"
      ]
     },
     "execution_count": 26,
     "metadata": {},
     "output_type": "execute_result"
    }
   ],
   "source": [
    "model_clf.layers[1].name"
   ]
  },
  {
   "cell_type": "code",
   "execution_count": 27,
   "metadata": {
    "executionInfo": {
     "elapsed": 70,
     "status": "ok",
     "timestamp": 1633139704317,
     "user": {
      "displayName": "thangaraj erode",
      "photoUrl": "https://lh3.googleusercontent.com/a-/AOh14Gjc03Yne67YHcMTl6XapZaRW-snB5UHNi1_RD_Ezg=s64",
      "userId": "10627314084394039004"
     },
     "user_tz": -330
    },
    "id": "-G4R9O-NHcfH"
   },
   "outputs": [],
   "source": [
    "# Here we will get array weigths & bias"
   ]
  },
  {
   "cell_type": "code",
   "execution_count": 28,
   "metadata": {
    "colab": {
     "base_uri": "https://localhost:8080/"
    },
    "executionInfo": {
     "elapsed": 70,
     "status": "ok",
     "timestamp": 1633139704319,
     "user": {
      "displayName": "thangaraj erode",
      "photoUrl": "https://lh3.googleusercontent.com/a-/AOh14Gjc03Yne67YHcMTl6XapZaRW-snB5UHNi1_RD_Ezg=s64",
      "userId": "10627314084394039004"
     },
     "user_tz": -330
    },
    "id": "UjpUCO1LH6yR",
    "outputId": "79079148-04a4-4e44-8ef1-65ff92b3d4c1"
   },
   "outputs": [
    {
     "name": "stdout",
     "output_type": "stream",
     "text": [
      "784\n",
      "300\n"
     ]
    }
   ],
   "source": [
    "# Here weights & bias are randoms initialized\n",
    "weights, biases = model_clf.layers[1].get_weights()\n",
    "print(len(weights))\n",
    "print(len(biases))"
   ]
  },
  {
   "cell_type": "code",
   "execution_count": 29,
   "metadata": {
    "executionInfo": {
     "elapsed": 65,
     "status": "ok",
     "timestamp": 1633139704321,
     "user": {
      "displayName": "thangaraj erode",
      "photoUrl": "https://lh3.googleusercontent.com/a-/AOh14Gjc03Yne67YHcMTl6XapZaRW-snB5UHNi1_RD_Ezg=s64",
      "userId": "10627314084394039004"
     },
     "user_tz": -330
    },
    "id": "__Tx3l6hIIpu"
   },
   "outputs": [],
   "source": [
    "# Before training compile the mode\n",
    "LOSS_FUNCTION = \"sparse_categorical_crossentropy\"\n",
    "OPTIMIZER = \"SGD\"  # optimiser used to converge \n",
    "METRICS = [\"accuracy\"]\n",
    "\n",
    "\n",
    "model_clf.compile(loss=LOSS_FUNCTION, optimizer=OPTIMIZER, metrics=METRICS)"
   ]
  },
  {
   "cell_type": "markdown",
   "metadata": {
    "id": "2_xxB1KsIxtk"
   },
   "source": [
    "# By default batch size = 32\n",
    "# 55000 is training data size /default batch size 32 ( around 1719)\n",
    "55000/32\n"
   ]
  },
  {
   "cell_type": "code",
   "execution_count": 30,
   "metadata": {
    "colab": {
     "base_uri": "https://localhost:8080/"
    },
    "executionInfo": {
     "elapsed": 65,
     "status": "ok",
     "timestamp": 1633139704323,
     "user": {
      "displayName": "thangaraj erode",
      "photoUrl": "https://lh3.googleusercontent.com/a-/AOh14Gjc03Yne67YHcMTl6XapZaRW-snB5UHNi1_RD_Ezg=s64",
      "userId": "10627314084394039004"
     },
     "user_tz": -330
    },
    "id": "vRqFaoeENFUk",
    "outputId": "c715ef7c-c1df-4d56-e10a-635a50dd3979"
   },
   "outputs": [
    {
     "data": {
      "text/plain": [
       "1718.75"
      ]
     },
     "execution_count": 30,
     "metadata": {},
     "output_type": "execute_result"
    }
   ],
   "source": [
    "55000/32"
   ]
  },
  {
   "cell_type": "code",
   "execution_count": 31,
   "metadata": {
    "colab": {
     "base_uri": "https://localhost:8080/"
    },
    "executionInfo": {
     "elapsed": 202996,
     "status": "ok",
     "timestamp": 1633139907264,
     "user": {
      "displayName": "thangaraj erode",
      "photoUrl": "https://lh3.googleusercontent.com/a-/AOh14Gjc03Yne67YHcMTl6XapZaRW-snB5UHNi1_RD_Ezg=s64",
      "userId": "10627314084394039004"
     },
     "user_tz": -330
    },
    "id": "NuAtOozdIbFW",
    "outputId": "8ef5c31b-3e9a-484f-9af0-f534b149e1bb"
   },
   "outputs": [
    {
     "name": "stdout",
     "output_type": "stream",
     "text": [
      "Epoch 1/30\n",
      "1719/1719 [==============================] - 8s 3ms/step - loss: 0.6046 - accuracy: 0.8433 - val_loss: 0.3036 - val_accuracy: 0.9170\n",
      "Epoch 2/30\n",
      "1719/1719 [==============================] - 5s 3ms/step - loss: 0.2849 - accuracy: 0.9183 - val_loss: 0.2391 - val_accuracy: 0.9316\n",
      "Epoch 3/30\n",
      "1719/1719 [==============================] - 5s 3ms/step - loss: 0.2315 - accuracy: 0.9337 - val_loss: 0.2008 - val_accuracy: 0.9440\n",
      "Epoch 4/30\n",
      "1719/1719 [==============================] - 5s 3ms/step - loss: 0.1972 - accuracy: 0.9439 - val_loss: 0.1756 - val_accuracy: 0.9518\n",
      "Epoch 5/30\n",
      "1719/1719 [==============================] - 5s 3ms/step - loss: 0.1718 - accuracy: 0.9506 - val_loss: 0.1574 - val_accuracy: 0.9584\n",
      "Epoch 6/30\n",
      "1719/1719 [==============================] - 5s 3ms/step - loss: 0.1523 - accuracy: 0.9561 - val_loss: 0.1437 - val_accuracy: 0.9612\n",
      "Epoch 7/30\n",
      "1719/1719 [==============================] - 5s 3ms/step - loss: 0.1363 - accuracy: 0.9607 - val_loss: 0.1343 - val_accuracy: 0.9644\n",
      "Epoch 8/30\n",
      "1719/1719 [==============================] - 5s 3ms/step - loss: 0.1234 - accuracy: 0.9649 - val_loss: 0.1259 - val_accuracy: 0.9654\n",
      "Epoch 9/30\n",
      "1719/1719 [==============================] - 5s 3ms/step - loss: 0.1125 - accuracy: 0.9680 - val_loss: 0.1173 - val_accuracy: 0.9678\n",
      "Epoch 10/30\n",
      "1719/1719 [==============================] - 5s 3ms/step - loss: 0.1032 - accuracy: 0.9703 - val_loss: 0.1127 - val_accuracy: 0.9690\n",
      "Epoch 11/30\n",
      "1719/1719 [==============================] - 5s 3ms/step - loss: 0.0950 - accuracy: 0.9733 - val_loss: 0.1058 - val_accuracy: 0.9704\n",
      "Epoch 12/30\n",
      "1719/1719 [==============================] - 5s 3ms/step - loss: 0.0880 - accuracy: 0.9751 - val_loss: 0.0991 - val_accuracy: 0.9724\n",
      "Epoch 13/30\n",
      "1719/1719 [==============================] - 5s 3ms/step - loss: 0.0814 - accuracy: 0.9775 - val_loss: 0.0930 - val_accuracy: 0.9746\n",
      "Epoch 14/30\n",
      "1719/1719 [==============================] - 5s 3ms/step - loss: 0.0759 - accuracy: 0.9789 - val_loss: 0.0906 - val_accuracy: 0.9740\n",
      "Epoch 15/30\n",
      "1719/1719 [==============================] - 5s 3ms/step - loss: 0.0704 - accuracy: 0.9807 - val_loss: 0.0880 - val_accuracy: 0.9752\n",
      "Epoch 16/30\n",
      "1719/1719 [==============================] - 5s 3ms/step - loss: 0.0660 - accuracy: 0.9813 - val_loss: 0.0866 - val_accuracy: 0.9742\n",
      "Epoch 17/30\n",
      "1719/1719 [==============================] - 5s 3ms/step - loss: 0.0615 - accuracy: 0.9830 - val_loss: 0.0879 - val_accuracy: 0.9750\n",
      "Epoch 18/30\n",
      "1719/1719 [==============================] - 5s 3ms/step - loss: 0.0578 - accuracy: 0.9841 - val_loss: 0.0820 - val_accuracy: 0.9778\n",
      "Epoch 19/30\n",
      "1719/1719 [==============================] - 5s 3ms/step - loss: 0.0541 - accuracy: 0.9858 - val_loss: 0.0812 - val_accuracy: 0.9754\n",
      "Epoch 20/30\n",
      "1719/1719 [==============================] - 5s 3ms/step - loss: 0.0509 - accuracy: 0.9862 - val_loss: 0.0784 - val_accuracy: 0.9778\n",
      "Epoch 21/30\n",
      "1719/1719 [==============================] - 5s 3ms/step - loss: 0.0476 - accuracy: 0.9871 - val_loss: 0.0786 - val_accuracy: 0.9766\n",
      "Epoch 22/30\n",
      "1719/1719 [==============================] - 5s 3ms/step - loss: 0.0451 - accuracy: 0.9878 - val_loss: 0.0766 - val_accuracy: 0.9762\n",
      "Epoch 23/30\n",
      "1719/1719 [==============================] - 5s 3ms/step - loss: 0.0424 - accuracy: 0.9889 - val_loss: 0.0755 - val_accuracy: 0.9786\n",
      "Epoch 24/30\n",
      "1719/1719 [==============================] - 5s 3ms/step - loss: 0.0400 - accuracy: 0.9893 - val_loss: 0.0744 - val_accuracy: 0.9776\n",
      "Epoch 25/30\n",
      "1719/1719 [==============================] - 5s 3ms/step - loss: 0.0376 - accuracy: 0.9904 - val_loss: 0.0737 - val_accuracy: 0.9786\n",
      "Epoch 26/30\n",
      "1719/1719 [==============================] - 5s 3ms/step - loss: 0.0356 - accuracy: 0.9912 - val_loss: 0.0743 - val_accuracy: 0.9778\n",
      "Epoch 27/30\n",
      "1719/1719 [==============================] - 5s 3ms/step - loss: 0.0337 - accuracy: 0.9920 - val_loss: 0.0718 - val_accuracy: 0.9796\n",
      "Epoch 28/30\n",
      "1719/1719 [==============================] - 5s 3ms/step - loss: 0.0317 - accuracy: 0.9924 - val_loss: 0.0735 - val_accuracy: 0.9782\n",
      "Epoch 29/30\n",
      "1719/1719 [==============================] - 5s 3ms/step - loss: 0.0300 - accuracy: 0.9927 - val_loss: 0.0713 - val_accuracy: 0.9788\n",
      "Epoch 30/30\n",
      "1719/1719 [==============================] - 5s 3ms/step - loss: 0.0285 - accuracy: 0.9935 - val_loss: 0.0718 - val_accuracy: 0.9786\n"
     ]
    }
   ],
   "source": [
    "# define Epocs\n",
    "# Each epocs\n",
    "# Each epoc randomly 1719 sample will take\n",
    "# verboase how many printed in the note book\n",
    "# here we are validating at the end of each epoc for that we are using 5000 datapoint\n",
    "# we will get val loss and accuracy at end of each epoc.\n",
    "# if we use more layer the accuracy will increase but model space will increase.\n",
    "#\n",
    "EPOCHS = 30\n",
    "VALIDATION = (X_valid, y_valid)\n",
    "\n",
    "history = model_clf.fit(X_train, y_train, epochs=EPOCHS, validation_data=VALIDATION)"
   ]
  },
  {
   "cell_type": "markdown",
   "metadata": {
    "id": "5jZWsezVJyHr"
   },
   "source": [
    "After first epoc 1719 will use traing and we will get some weights and validate against the validation data points & will give validation accuray."
   ]
  },
  {
   "cell_type": "markdown",
   "metadata": {
    "id": "FzqfVAzZQru8"
   },
   "source": [
    "# we can see 26th epoc is good accuracy. If we want to stop we will use below methods\n",
    "- Call back\n",
    "- Early stop\n",
    "- Tensorflow callback"
   ]
  },
  {
   "cell_type": "code",
   "execution_count": 32,
   "metadata": {
    "executionInfo": {
     "elapsed": 103,
     "status": "ok",
     "timestamp": 1633139907267,
     "user": {
      "displayName": "thangaraj erode",
      "photoUrl": "https://lh3.googleusercontent.com/a-/AOh14Gjc03Yne67YHcMTl6XapZaRW-snB5UHNi1_RD_Ezg=s64",
      "userId": "10627314084394039004"
     },
     "user_tz": -330
    },
    "id": "StUXkX2oIpey"
   },
   "outputs": [],
   "source": [
    "# # Define batch size & veerbose\n",
    "# EPOCHS = 30\n",
    "# VALIDATION = (X_valid, y_valid)\n",
    "\n",
    "# history = model_clf.fit(X_train, y_train, epochs=EPOCHS, validation_data=VALIDATION,batch_size=128,verbose=1) "
   ]
  },
  {
   "cell_type": "code",
   "execution_count": 33,
   "metadata": {
    "colab": {
     "base_uri": "https://localhost:8080/"
    },
    "executionInfo": {
     "elapsed": 76,
     "status": "ok",
     "timestamp": 1633139907269,
     "user": {
      "displayName": "thangaraj erode",
      "photoUrl": "https://lh3.googleusercontent.com/a-/AOh14Gjc03Yne67YHcMTl6XapZaRW-snB5UHNi1_RD_Ezg=s64",
      "userId": "10627314084394039004"
     },
     "user_tz": -330
    },
    "id": "cd6ZPZ_6JxlD",
    "outputId": "e5208487-3ba5-40dc-83f3-a07c790d3553"
   },
   "outputs": [
    {
     "data": {
      "text/plain": [
       "<keras.callbacks.History at 0x7f618ec04cd0>"
      ]
     },
     "execution_count": 33,
     "metadata": {},
     "output_type": "execute_result"
    }
   ],
   "source": [
    "history"
   ]
  },
  {
   "cell_type": "code",
   "execution_count": 34,
   "metadata": {
    "colab": {
     "base_uri": "https://localhost:8080/"
    },
    "executionInfo": {
     "elapsed": 68,
     "status": "ok",
     "timestamp": 1633139907271,
     "user": {
      "displayName": "thangaraj erode",
      "photoUrl": "https://lh3.googleusercontent.com/a-/AOh14Gjc03Yne67YHcMTl6XapZaRW-snB5UHNi1_RD_Ezg=s64",
      "userId": "10627314084394039004"
     },
     "user_tz": -330
    },
    "id": "Ot7msE0lLgEP",
    "outputId": "8ff7944c-9623-4e6c-e23f-d1f88a9b8950"
   },
   "outputs": [
    {
     "data": {
      "text/plain": [
       "{'epochs': 30, 'steps': 1719, 'verbose': 1}"
      ]
     },
     "execution_count": 34,
     "metadata": {},
     "output_type": "execute_result"
    }
   ],
   "source": [
    "# print the parameters\n",
    "history.params"
   ]
  },
  {
   "cell_type": "code",
   "execution_count": 35,
   "metadata": {
    "colab": {
     "base_uri": "https://localhost:8080/"
    },
    "executionInfo": {
     "elapsed": 61,
     "status": "ok",
     "timestamp": 1633139907273,
     "user": {
      "displayName": "thangaraj erode",
      "photoUrl": "https://lh3.googleusercontent.com/a-/AOh14Gjc03Yne67YHcMTl6XapZaRW-snB5UHNi1_RD_Ezg=s64",
      "userId": "10627314084394039004"
     },
     "user_tz": -330
    },
    "id": "j5qR-t4aL2u7",
    "outputId": "863e9749-6581-4fce-c8b8-cecf5d621bd7"
   },
   "outputs": [
    {
     "data": {
      "text/plain": [
       "{'accuracy': [0.8432909250259399,\n",
       "  0.918327271938324,\n",
       "  0.9336909055709839,\n",
       "  0.9439454674720764,\n",
       "  0.9506000280380249,\n",
       "  0.9561272859573364,\n",
       "  0.9607454538345337,\n",
       "  0.9648908972740173,\n",
       "  0.9680363535881042,\n",
       "  0.9703090786933899,\n",
       "  0.9733454585075378,\n",
       "  0.9750909209251404,\n",
       "  0.977545440196991,\n",
       "  0.9788545370101929,\n",
       "  0.9807090759277344,\n",
       "  0.9812909364700317,\n",
       "  0.983018159866333,\n",
       "  0.984109103679657,\n",
       "  0.985836386680603,\n",
       "  0.9861817955970764,\n",
       "  0.9871090650558472,\n",
       "  0.9878363609313965,\n",
       "  0.9889090657234192,\n",
       "  0.9893454313278198,\n",
       "  0.9904181957244873,\n",
       "  0.9912363886833191,\n",
       "  0.9920363426208496,\n",
       "  0.9923818111419678,\n",
       "  0.9927272796630859,\n",
       "  0.9934909343719482],\n",
       " 'loss': [0.6045849323272705,\n",
       "  0.284864217042923,\n",
       "  0.23153623938560486,\n",
       "  0.19723030924797058,\n",
       "  0.1718221753835678,\n",
       "  0.15231013298034668,\n",
       "  0.13626863062381744,\n",
       "  0.12343953549861908,\n",
       "  0.11251954734325409,\n",
       "  0.10322216898202896,\n",
       "  0.09499729424715042,\n",
       "  0.08801829814910889,\n",
       "  0.08139331638813019,\n",
       "  0.07593386620283127,\n",
       "  0.07036048173904419,\n",
       "  0.06598786264657974,\n",
       "  0.061508093029260635,\n",
       "  0.05776410177350044,\n",
       "  0.05413876473903656,\n",
       "  0.0508677139878273,\n",
       "  0.047619473189115524,\n",
       "  0.045107267796993256,\n",
       "  0.042406778782606125,\n",
       "  0.040022801607847214,\n",
       "  0.03760311007499695,\n",
       "  0.03556958585977554,\n",
       "  0.03368178382515907,\n",
       "  0.03170984983444214,\n",
       "  0.02996770478785038,\n",
       "  0.02846033312380314],\n",
       " 'val_accuracy': [0.9169999957084656,\n",
       "  0.9315999746322632,\n",
       "  0.9440000057220459,\n",
       "  0.9517999887466431,\n",
       "  0.9584000110626221,\n",
       "  0.9611999988555908,\n",
       "  0.9643999934196472,\n",
       "  0.965399980545044,\n",
       "  0.9678000211715698,\n",
       "  0.968999981880188,\n",
       "  0.9703999757766724,\n",
       "  0.9724000096321106,\n",
       "  0.9746000170707703,\n",
       "  0.9739999771118164,\n",
       "  0.9751999974250793,\n",
       "  0.9742000102996826,\n",
       "  0.9750000238418579,\n",
       "  0.9778000116348267,\n",
       "  0.9753999710083008,\n",
       "  0.9778000116348267,\n",
       "  0.9765999913215637,\n",
       "  0.9761999845504761,\n",
       "  0.978600025177002,\n",
       "  0.9775999784469604,\n",
       "  0.978600025177002,\n",
       "  0.9778000116348267,\n",
       "  0.9796000123023987,\n",
       "  0.9782000184059143,\n",
       "  0.9787999987602234,\n",
       "  0.978600025177002],\n",
       " 'val_loss': [0.30358490347862244,\n",
       "  0.23909983038902283,\n",
       "  0.2008410394191742,\n",
       "  0.17558170855045319,\n",
       "  0.15742118656635284,\n",
       "  0.1437350958585739,\n",
       "  0.1342853158712387,\n",
       "  0.12591466307640076,\n",
       "  0.11734460294246674,\n",
       "  0.11265990883111954,\n",
       "  0.10581064224243164,\n",
       "  0.09914791584014893,\n",
       "  0.09302836656570435,\n",
       "  0.0905720591545105,\n",
       "  0.08798150718212128,\n",
       "  0.08660868555307388,\n",
       "  0.08788377046585083,\n",
       "  0.08200405538082123,\n",
       "  0.08117762207984924,\n",
       "  0.07842592895030975,\n",
       "  0.0785970538854599,\n",
       "  0.07660599052906036,\n",
       "  0.07550310343503952,\n",
       "  0.07444529235363007,\n",
       "  0.07372409850358963,\n",
       "  0.07433604449033737,\n",
       "  0.07181371003389359,\n",
       "  0.07348241657018661,\n",
       "  0.07129886746406555,\n",
       "  0.07183182239532471]}"
      ]
     },
     "execution_count": 35,
     "metadata": {},
     "output_type": "execute_result"
    }
   ],
   "source": [
    "history.history"
   ]
  },
  {
   "cell_type": "code",
   "execution_count": 36,
   "metadata": {
    "colab": {
     "base_uri": "https://localhost:8080/"
    },
    "executionInfo": {
     "elapsed": 55,
     "status": "ok",
     "timestamp": 1633139907275,
     "user": {
      "displayName": "thangaraj erode",
      "photoUrl": "https://lh3.googleusercontent.com/a-/AOh14Gjc03Yne67YHcMTl6XapZaRW-snB5UHNi1_RD_Ezg=s64",
      "userId": "10627314084394039004"
     },
     "user_tz": -330
    },
    "id": "xy3pZpxdPYwd",
    "outputId": "3cb35eda-3146-4283-a484-f4ee92e3ab74"
   },
   "outputs": [
    {
     "data": {
      "text/plain": [
       "dict"
      ]
     },
     "execution_count": 36,
     "metadata": {},
     "output_type": "execute_result"
    }
   ],
   "source": [
    "type(history.history)"
   ]
  },
  {
   "cell_type": "code",
   "execution_count": 37,
   "metadata": {
    "colab": {
     "base_uri": "https://localhost:8080/"
    },
    "executionInfo": {
     "elapsed": 47,
     "status": "ok",
     "timestamp": 1633139907279,
     "user": {
      "displayName": "thangaraj erode",
      "photoUrl": "https://lh3.googleusercontent.com/a-/AOh14Gjc03Yne67YHcMTl6XapZaRW-snB5UHNi1_RD_Ezg=s64",
      "userId": "10627314084394039004"
     },
     "user_tz": -330
    },
    "id": "m-nggBeCPek6",
    "outputId": "da9d8fb2-6fe7-4f95-9f03-56a43a8633ed"
   },
   "outputs": [
    {
     "data": {
      "text/plain": [
       "dict_keys(['loss', 'accuracy', 'val_loss', 'val_accuracy'])"
      ]
     },
     "execution_count": 37,
     "metadata": {},
     "output_type": "execute_result"
    }
   ],
   "source": [
    "history.history.keys()"
   ]
  },
  {
   "cell_type": "code",
   "execution_count": 38,
   "metadata": {
    "colab": {
     "base_uri": "https://localhost:8080/",
     "height": 979
    },
    "executionInfo": {
     "elapsed": 44,
     "status": "ok",
     "timestamp": 1633139907283,
     "user": {
      "displayName": "thangaraj erode",
      "photoUrl": "https://lh3.googleusercontent.com/a-/AOh14Gjc03Yne67YHcMTl6XapZaRW-snB5UHNi1_RD_Ezg=s64",
      "userId": "10627314084394039004"
     },
     "user_tz": -330
    },
    "id": "X6DiuMY_NWjO",
    "outputId": "6391b77c-dc75-4b45-b63a-c9f1ac9c8616"
   },
   "outputs": [
    {
     "data": {
      "text/html": [
       "<div>\n",
       "<style scoped>\n",
       "    .dataframe tbody tr th:only-of-type {\n",
       "        vertical-align: middle;\n",
       "    }\n",
       "\n",
       "    .dataframe tbody tr th {\n",
       "        vertical-align: top;\n",
       "    }\n",
       "\n",
       "    .dataframe thead th {\n",
       "        text-align: right;\n",
       "    }\n",
       "</style>\n",
       "<table border=\"1\" class=\"dataframe\">\n",
       "  <thead>\n",
       "    <tr style=\"text-align: right;\">\n",
       "      <th></th>\n",
       "      <th>loss</th>\n",
       "      <th>accuracy</th>\n",
       "      <th>val_loss</th>\n",
       "      <th>val_accuracy</th>\n",
       "    </tr>\n",
       "  </thead>\n",
       "  <tbody>\n",
       "    <tr>\n",
       "      <th>0</th>\n",
       "      <td>0.604585</td>\n",
       "      <td>0.843291</td>\n",
       "      <td>0.303585</td>\n",
       "      <td>0.9170</td>\n",
       "    </tr>\n",
       "    <tr>\n",
       "      <th>1</th>\n",
       "      <td>0.284864</td>\n",
       "      <td>0.918327</td>\n",
       "      <td>0.239100</td>\n",
       "      <td>0.9316</td>\n",
       "    </tr>\n",
       "    <tr>\n",
       "      <th>2</th>\n",
       "      <td>0.231536</td>\n",
       "      <td>0.933691</td>\n",
       "      <td>0.200841</td>\n",
       "      <td>0.9440</td>\n",
       "    </tr>\n",
       "    <tr>\n",
       "      <th>3</th>\n",
       "      <td>0.197230</td>\n",
       "      <td>0.943945</td>\n",
       "      <td>0.175582</td>\n",
       "      <td>0.9518</td>\n",
       "    </tr>\n",
       "    <tr>\n",
       "      <th>4</th>\n",
       "      <td>0.171822</td>\n",
       "      <td>0.950600</td>\n",
       "      <td>0.157421</td>\n",
       "      <td>0.9584</td>\n",
       "    </tr>\n",
       "    <tr>\n",
       "      <th>5</th>\n",
       "      <td>0.152310</td>\n",
       "      <td>0.956127</td>\n",
       "      <td>0.143735</td>\n",
       "      <td>0.9612</td>\n",
       "    </tr>\n",
       "    <tr>\n",
       "      <th>6</th>\n",
       "      <td>0.136269</td>\n",
       "      <td>0.960745</td>\n",
       "      <td>0.134285</td>\n",
       "      <td>0.9644</td>\n",
       "    </tr>\n",
       "    <tr>\n",
       "      <th>7</th>\n",
       "      <td>0.123440</td>\n",
       "      <td>0.964891</td>\n",
       "      <td>0.125915</td>\n",
       "      <td>0.9654</td>\n",
       "    </tr>\n",
       "    <tr>\n",
       "      <th>8</th>\n",
       "      <td>0.112520</td>\n",
       "      <td>0.968036</td>\n",
       "      <td>0.117345</td>\n",
       "      <td>0.9678</td>\n",
       "    </tr>\n",
       "    <tr>\n",
       "      <th>9</th>\n",
       "      <td>0.103222</td>\n",
       "      <td>0.970309</td>\n",
       "      <td>0.112660</td>\n",
       "      <td>0.9690</td>\n",
       "    </tr>\n",
       "    <tr>\n",
       "      <th>10</th>\n",
       "      <td>0.094997</td>\n",
       "      <td>0.973345</td>\n",
       "      <td>0.105811</td>\n",
       "      <td>0.9704</td>\n",
       "    </tr>\n",
       "    <tr>\n",
       "      <th>11</th>\n",
       "      <td>0.088018</td>\n",
       "      <td>0.975091</td>\n",
       "      <td>0.099148</td>\n",
       "      <td>0.9724</td>\n",
       "    </tr>\n",
       "    <tr>\n",
       "      <th>12</th>\n",
       "      <td>0.081393</td>\n",
       "      <td>0.977545</td>\n",
       "      <td>0.093028</td>\n",
       "      <td>0.9746</td>\n",
       "    </tr>\n",
       "    <tr>\n",
       "      <th>13</th>\n",
       "      <td>0.075934</td>\n",
       "      <td>0.978855</td>\n",
       "      <td>0.090572</td>\n",
       "      <td>0.9740</td>\n",
       "    </tr>\n",
       "    <tr>\n",
       "      <th>14</th>\n",
       "      <td>0.070360</td>\n",
       "      <td>0.980709</td>\n",
       "      <td>0.087982</td>\n",
       "      <td>0.9752</td>\n",
       "    </tr>\n",
       "    <tr>\n",
       "      <th>15</th>\n",
       "      <td>0.065988</td>\n",
       "      <td>0.981291</td>\n",
       "      <td>0.086609</td>\n",
       "      <td>0.9742</td>\n",
       "    </tr>\n",
       "    <tr>\n",
       "      <th>16</th>\n",
       "      <td>0.061508</td>\n",
       "      <td>0.983018</td>\n",
       "      <td>0.087884</td>\n",
       "      <td>0.9750</td>\n",
       "    </tr>\n",
       "    <tr>\n",
       "      <th>17</th>\n",
       "      <td>0.057764</td>\n",
       "      <td>0.984109</td>\n",
       "      <td>0.082004</td>\n",
       "      <td>0.9778</td>\n",
       "    </tr>\n",
       "    <tr>\n",
       "      <th>18</th>\n",
       "      <td>0.054139</td>\n",
       "      <td>0.985836</td>\n",
       "      <td>0.081178</td>\n",
       "      <td>0.9754</td>\n",
       "    </tr>\n",
       "    <tr>\n",
       "      <th>19</th>\n",
       "      <td>0.050868</td>\n",
       "      <td>0.986182</td>\n",
       "      <td>0.078426</td>\n",
       "      <td>0.9778</td>\n",
       "    </tr>\n",
       "    <tr>\n",
       "      <th>20</th>\n",
       "      <td>0.047619</td>\n",
       "      <td>0.987109</td>\n",
       "      <td>0.078597</td>\n",
       "      <td>0.9766</td>\n",
       "    </tr>\n",
       "    <tr>\n",
       "      <th>21</th>\n",
       "      <td>0.045107</td>\n",
       "      <td>0.987836</td>\n",
       "      <td>0.076606</td>\n",
       "      <td>0.9762</td>\n",
       "    </tr>\n",
       "    <tr>\n",
       "      <th>22</th>\n",
       "      <td>0.042407</td>\n",
       "      <td>0.988909</td>\n",
       "      <td>0.075503</td>\n",
       "      <td>0.9786</td>\n",
       "    </tr>\n",
       "    <tr>\n",
       "      <th>23</th>\n",
       "      <td>0.040023</td>\n",
       "      <td>0.989345</td>\n",
       "      <td>0.074445</td>\n",
       "      <td>0.9776</td>\n",
       "    </tr>\n",
       "    <tr>\n",
       "      <th>24</th>\n",
       "      <td>0.037603</td>\n",
       "      <td>0.990418</td>\n",
       "      <td>0.073724</td>\n",
       "      <td>0.9786</td>\n",
       "    </tr>\n",
       "    <tr>\n",
       "      <th>25</th>\n",
       "      <td>0.035570</td>\n",
       "      <td>0.991236</td>\n",
       "      <td>0.074336</td>\n",
       "      <td>0.9778</td>\n",
       "    </tr>\n",
       "    <tr>\n",
       "      <th>26</th>\n",
       "      <td>0.033682</td>\n",
       "      <td>0.992036</td>\n",
       "      <td>0.071814</td>\n",
       "      <td>0.9796</td>\n",
       "    </tr>\n",
       "    <tr>\n",
       "      <th>27</th>\n",
       "      <td>0.031710</td>\n",
       "      <td>0.992382</td>\n",
       "      <td>0.073482</td>\n",
       "      <td>0.9782</td>\n",
       "    </tr>\n",
       "    <tr>\n",
       "      <th>28</th>\n",
       "      <td>0.029968</td>\n",
       "      <td>0.992727</td>\n",
       "      <td>0.071299</td>\n",
       "      <td>0.9788</td>\n",
       "    </tr>\n",
       "    <tr>\n",
       "      <th>29</th>\n",
       "      <td>0.028460</td>\n",
       "      <td>0.993491</td>\n",
       "      <td>0.071832</td>\n",
       "      <td>0.9786</td>\n",
       "    </tr>\n",
       "  </tbody>\n",
       "</table>\n",
       "</div>"
      ],
      "text/plain": [
       "        loss  accuracy  val_loss  val_accuracy\n",
       "0   0.604585  0.843291  0.303585        0.9170\n",
       "1   0.284864  0.918327  0.239100        0.9316\n",
       "2   0.231536  0.933691  0.200841        0.9440\n",
       "3   0.197230  0.943945  0.175582        0.9518\n",
       "4   0.171822  0.950600  0.157421        0.9584\n",
       "5   0.152310  0.956127  0.143735        0.9612\n",
       "6   0.136269  0.960745  0.134285        0.9644\n",
       "7   0.123440  0.964891  0.125915        0.9654\n",
       "8   0.112520  0.968036  0.117345        0.9678\n",
       "9   0.103222  0.970309  0.112660        0.9690\n",
       "10  0.094997  0.973345  0.105811        0.9704\n",
       "11  0.088018  0.975091  0.099148        0.9724\n",
       "12  0.081393  0.977545  0.093028        0.9746\n",
       "13  0.075934  0.978855  0.090572        0.9740\n",
       "14  0.070360  0.980709  0.087982        0.9752\n",
       "15  0.065988  0.981291  0.086609        0.9742\n",
       "16  0.061508  0.983018  0.087884        0.9750\n",
       "17  0.057764  0.984109  0.082004        0.9778\n",
       "18  0.054139  0.985836  0.081178        0.9754\n",
       "19  0.050868  0.986182  0.078426        0.9778\n",
       "20  0.047619  0.987109  0.078597        0.9766\n",
       "21  0.045107  0.987836  0.076606        0.9762\n",
       "22  0.042407  0.988909  0.075503        0.9786\n",
       "23  0.040023  0.989345  0.074445        0.9776\n",
       "24  0.037603  0.990418  0.073724        0.9786\n",
       "25  0.035570  0.991236  0.074336        0.9778\n",
       "26  0.033682  0.992036  0.071814        0.9796\n",
       "27  0.031710  0.992382  0.073482        0.9782\n",
       "28  0.029968  0.992727  0.071299        0.9788\n",
       "29  0.028460  0.993491  0.071832        0.9786"
      ]
     },
     "execution_count": 38,
     "metadata": {},
     "output_type": "execute_result"
    }
   ],
   "source": [
    "# convert the dataframe\n",
    "pd.DataFrame(history.history)"
   ]
  },
  {
   "cell_type": "code",
   "execution_count": 39,
   "metadata": {
    "colab": {
     "base_uri": "https://localhost:8080/",
     "height": 428
    },
    "executionInfo": {
     "elapsed": 908,
     "status": "ok",
     "timestamp": 1633139908152,
     "user": {
      "displayName": "thangaraj erode",
      "photoUrl": "https://lh3.googleusercontent.com/a-/AOh14Gjc03Yne67YHcMTl6XapZaRW-snB5UHNi1_RD_Ezg=s64",
      "userId": "10627314084394039004"
     },
     "user_tz": -330
    },
    "id": "bzpG56UnNpdQ",
    "outputId": "4c53a0fd-bfa0-497e-d183-48fdc3fac1ae"
   },
   "outputs": [
    {
     "data": {
      "image/png": "[encoded data removed]",
      "text/plain": [
       "<Figure size 720x504 with 1 Axes>"
      ]
     },
     "metadata": {
      "needs_background": "light"
     },
     "output_type": "display_data"
    }
   ],
   "source": [
    "# Plot \n",
    "pd.DataFrame(history.history).plot(figsize=(10,7))\n",
    "plt.grid(True)\n",
    "plt.show()"
   ]
  },
  {
   "cell_type": "code",
   "execution_count": 40,
   "metadata": {
    "colab": {
     "base_uri": "https://localhost:8080/"
    },
    "executionInfo": {
     "elapsed": 627,
     "status": "ok",
     "timestamp": 1633139908750,
     "user": {
      "displayName": "thangaraj erode",
      "photoUrl": "https://lh3.googleusercontent.com/a-/AOh14Gjc03Yne67YHcMTl6XapZaRW-snB5UHNi1_RD_Ezg=s64",
      "userId": "10627314084394039004"
     },
     "user_tz": -330
    },
    "id": "0M4NZwcfL6Sl",
    "outputId": "2d20d342-6789-44f0-f25d-32ac3b9434dc"
   },
   "outputs": [
    {
     "name": "stdout",
     "output_type": "stream",
     "text": [
      "312.5\n",
      "313/313 [==============================] - 1s 2ms/step - loss: 0.0704 - accuracy: 0.9790\n"
     ]
    },
    {
     "data": {
      "text/plain": [
       "[0.0703745037317276, 0.9789999723434448]"
      ]
     },
     "execution_count": 40,
     "metadata": {},
     "output_type": "execute_result"
    }
   ],
   "source": [
    "10000/32 # Test/default batch size \n",
    "print(10000/32)\n",
    "model_clf.evaluate(X_test, y_test)"
   ]
  },
  {
   "cell_type": "code",
   "execution_count": 41,
   "metadata": {
    "colab": {
     "base_uri": "https://localhost:8080/"
    },
    "executionInfo": {
     "elapsed": 38,
     "status": "ok",
     "timestamp": 1633139908752,
     "user": {
      "displayName": "thangaraj erode",
      "photoUrl": "https://lh3.googleusercontent.com/a-/AOh14Gjc03Yne67YHcMTl6XapZaRW-snB5UHNi1_RD_Ezg=s64",
      "userId": "10627314084394039004"
     },
     "user_tz": -330
    },
    "id": "J8cu2z4-N4Mb",
    "outputId": "a564044e-047d-4670-9a3f-55a13f14e7f4"
   },
   "outputs": [
    {
     "data": {
      "text/plain": [
       "array([[0.   , 0.   , 0.   , 0.   , 0.   , 0.   , 0.   , 1.   , 0.   ,\n",
       "        0.   ],\n",
       "       [0.   , 0.   , 0.999, 0.001, 0.   , 0.   , 0.   , 0.   , 0.   ,\n",
       "        0.   ],\n",
       "       [0.   , 0.997, 0.   , 0.   , 0.001, 0.   , 0.   , 0.001, 0.001,\n",
       "        0.   ]], dtype=float32)"
      ]
     },
     "execution_count": 41,
     "metadata": {},
     "output_type": "execute_result"
    }
   ],
   "source": [
    "# Take first three test data & round off  with 3 didigts we can see 3rd item is around 99 as 2\n",
    "X_new = X_test[:3]\n",
    "\n",
    "y_prob = model_clf.predict(X_new)\n",
    "\n",
    "y_prob.round(3)\n",
    "# predicted value is 7,2,1 \n",
    "# value range is 0 to 9"
   ]
  },
  {
   "cell_type": "code",
   "execution_count": 42,
   "metadata": {
    "colab": {
     "base_uri": "https://localhost:8080/"
    },
    "executionInfo": {
     "elapsed": 33,
     "status": "ok",
     "timestamp": 1633139908754,
     "user": {
      "displayName": "thangaraj erode",
      "photoUrl": "https://lh3.googleusercontent.com/a-/AOh14Gjc03Yne67YHcMTl6XapZaRW-snB5UHNi1_RD_Ezg=s64",
      "userId": "10627314084394039004"
     },
     "user_tz": -330
    },
    "id": "aBpwAbG2O6Ak",
    "outputId": "bfdc03af-ba98-42e6-831d-636c74f790de"
   },
   "outputs": [
    {
     "data": {
      "text/plain": [
       "(3, 10)"
      ]
     },
     "execution_count": 42,
     "metadata": {},
     "output_type": "execute_result"
    }
   ],
   "source": [
    "y_prob.shape"
   ]
  },
  {
   "cell_type": "code",
   "execution_count": 43,
   "metadata": {
    "colab": {
     "base_uri": "https://localhost:8080/"
    },
    "executionInfo": {
     "elapsed": 29,
     "status": "ok",
     "timestamp": 1633139908756,
     "user": {
      "displayName": "thangaraj erode",
      "photoUrl": "https://lh3.googleusercontent.com/a-/AOh14Gjc03Yne67YHcMTl6XapZaRW-snB5UHNi1_RD_Ezg=s64",
      "userId": "10627314084394039004"
     },
     "user_tz": -330
    },
    "id": "J_523StvP_zi",
    "outputId": "5237aaf2-afbf-45cb-c9e4-37ed9288ac37"
   },
   "outputs": [
    {
     "data": {
      "text/plain": [
       "7"
      ]
     },
     "execution_count": 43,
     "metadata": {},
     "output_type": "execute_result"
    }
   ],
   "source": [
    "Y_pred= np.argmax(y_prob)\n",
    "Y_pred"
   ]
  },
  {
   "cell_type": "code",
   "execution_count": 44,
   "metadata": {
    "colab": {
     "base_uri": "https://localhost:8080/"
    },
    "executionInfo": {
     "elapsed": 26,
     "status": "ok",
     "timestamp": 1633139908758,
     "user": {
      "displayName": "thangaraj erode",
      "photoUrl": "https://lh3.googleusercontent.com/a-/AOh14Gjc03Yne67YHcMTl6XapZaRW-snB5UHNi1_RD_Ezg=s64",
      "userId": "10627314084394039004"
     },
     "user_tz": -330
    },
    "id": "s-a4trjuO8uA",
    "outputId": "2a1817af-4ab2-46da-c483-6eac1b581fc0"
   },
   "outputs": [
    {
     "data": {
      "text/plain": [
       "array([7, 2, 1])"
      ]
     },
     "execution_count": 44,
     "metadata": {},
     "output_type": "execute_result"
    }
   ],
   "source": [
    "#provide the maximum values index\n",
    "Y_pred= np.argmax(y_prob, axis=-1)\n",
    "Y_pred"
   ]
  },
  {
   "cell_type": "code",
   "execution_count": 45,
   "metadata": {
    "executionInfo": {
     "elapsed": 22,
     "status": "ok",
     "timestamp": 1633139908759,
     "user": {
      "displayName": "thangaraj erode",
      "photoUrl": "https://lh3.googleusercontent.com/a-/AOh14Gjc03Yne67YHcMTl6XapZaRW-snB5UHNi1_RD_Ezg=s64",
      "userId": "10627314084394039004"
     },
     "user_tz": -330
    },
    "id": "yib-lcy9N4T5"
   },
   "outputs": [],
   "source": [
    "# we need to specify axis =1 then only we will get exact predicted values\n",
    "# if we will not give all predicted index sum\n"
   ]
  },
  {
   "cell_type": "code",
   "execution_count": 46,
   "metadata": {
    "colab": {
     "base_uri": "https://localhost:8080/",
     "height": 809
    },
    "executionInfo": {
     "elapsed": 786,
     "status": "ok",
     "timestamp": 1633139909523,
     "user": {
      "displayName": "thangaraj erode",
      "photoUrl": "https://lh3.googleusercontent.com/a-/AOh14Gjc03Yne67YHcMTl6XapZaRW-snB5UHNi1_RD_Ezg=s64",
      "userId": "10627314084394039004"
     },
     "user_tz": -330
    },
    "id": "CabExUSuN4QS",
    "outputId": "b2e15372-cd64-41d4-c0f0-29b8f0f26e4e"
   },
   "outputs": [
    {
     "data": {
      "image/png": "[encoded data removed]",
      "text/plain": [
       "<Figure size 432x288 with 1 Axes>"
      ]
     },
     "metadata": {
      "needs_background": "light"
     },
     "output_type": "display_data"
    },
    {
     "name": "stdout",
     "output_type": "stream",
     "text": [
      "------------------------------------------------------------\n"
     ]
    },
    {
     "data": {
      "image/png": "[encoded data removed]",
      "text/plain": [
       "<Figure size 432x288 with 1 Axes>"
      ]
     },
     "metadata": {
      "needs_background": "light"
     },
     "output_type": "display_data"
    },
    {
     "name": "stdout",
     "output_type": "stream",
     "text": [
      "------------------------------------------------------------\n"
     ]
    },
    {
     "data": {
      "image/png": "[encoded data removed]",
      "text/plain": [
       "<Figure size 432x288 with 1 Axes>"
      ]
     },
     "metadata": {
      "needs_background": "light"
     },
     "output_type": "display_data"
    },
    {
     "name": "stdout",
     "output_type": "stream",
     "text": [
      "------------------------------------------------------------\n"
     ]
    }
   ],
   "source": [
    "# First three test data & prediction\n",
    "\n",
    "for img_array, pred, actual in zip(X_new, Y_pred, y_test[:3]):\n",
    "  plt.imshow(img_array, cmap=\"binary\")\n",
    "  plt.title(f\"predicted: {pred}, Actual: {actual}\")\n",
    "  plt.axis(\"off\")\n",
    "  plt.show()\n",
    "  print(\"---\"*20)"
   ]
  },
  {
   "cell_type": "code",
   "execution_count": 47,
   "metadata": {
    "executionInfo": {
     "elapsed": 193,
     "status": "ok",
     "timestamp": 1633139909524,
     "user": {
      "displayName": "thangaraj erode",
      "photoUrl": "https://lh3.googleusercontent.com/a-/AOh14Gjc03Yne67YHcMTl6XapZaRW-snB5UHNi1_RD_Ezg=s64",
      "userId": "10627314084394039004"
     },
     "user_tz": -330
    },
    "id": "HHdU9146S0TI"
   },
   "outputs": [],
   "source": [
    "model_clf.save('ANN_model.h5')"
   ]
  },
  {
   "cell_type": "code",
   "execution_count": 48,
   "metadata": {
    "colab": {
     "base_uri": "https://localhost:8080/"
    },
    "executionInfo": {
     "elapsed": 193,
     "status": "ok",
     "timestamp": 1633139909526,
     "user": {
      "displayName": "thangaraj erode",
      "photoUrl": "https://lh3.googleusercontent.com/a-/AOh14Gjc03Yne67YHcMTl6XapZaRW-snB5UHNi1_RD_Ezg=s64",
      "userId": "10627314084394039004"
     },
     "user_tz": -330
    },
    "id": "XNDUE3S3Pu6-",
    "outputId": "9f1e2c78-0abd-4cdb-cf6b-923e901287f8"
   },
   "outputs": [
    {
     "name": "stdout",
     "output_type": "stream",
     "text": [
      "6\n",
      "8\n",
      "10\n"
     ]
    }
   ],
   "source": [
    "# Zip functionality\n",
    "a = (1,2,3)\n",
    "\n",
    "b = (5,6,7)\n",
    "\n",
    "for i, j in zip(a,b):\n",
    "  print(i+j)"
   ]
  },
  {
   "cell_type": "code",
   "execution_count": 48,
   "metadata": {
    "executionInfo": {
     "elapsed": 187,
     "status": "ok",
     "timestamp": 1633139909528,
     "user": {
      "displayName": "thangaraj erode",
      "photoUrl": "https://lh3.googleusercontent.com/a-/AOh14Gjc03Yne67YHcMTl6XapZaRW-snB5UHNi1_RD_Ezg=s64",
      "userId": "10627314084394039004"
     },
     "user_tz": -330
    },
    "id": "Bh0xSE74PzV3"
   },
   "outputs": [],
   "source": []
  }
 ],
 "metadata": {
  "accelerator": "GPU",
  "colab": {
   "collapsed_sections": [],
   "name": "ANN_implimentation_demo.ipynb",
   "provenance": []
  },
  "kernelspec": {
   "display_name": "Python 3",
   "language": "python",
   "name": "python3"
  },
  "language_info": {
   "codemirror_mode": {
    "name": "ipython",
    "version": 3
   },
   "file_extension": ".py",
   "mimetype": "text/x-python",
   "name": "python",
   "nbconvert_exporter": "python",
   "pygments_lexer": "ipython3",
   "version": "3.8.5"
  }
 },
 "nbformat": 4,
 "nbformat_minor": 1
}
