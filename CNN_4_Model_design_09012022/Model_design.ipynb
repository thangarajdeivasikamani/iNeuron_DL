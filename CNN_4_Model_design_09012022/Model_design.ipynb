{
  "nbformat": 4,
  "nbformat_minor": 0,
  "metadata": {
    "colab": {
      "name": "Untitled8.ipynb",
      "provenance": []
    },
    "kernelspec": {
      "name": "python3",
      "display_name": "Python 3"
    },
    "language_info": {
      "name": "python"
    }
  },
  "cells": [
    {
      "cell_type": "code",
      "execution_count": null,
      "metadata": {
        "id": "R34Lyo_-t56B"
      },
      "outputs": [],
      "source": [
        "import tensorflow as tf\n",
        "import pandas as pd\n",
        "import matplotlib.pyplot as plt\n",
        "import numpy as np\n",
        "from keras.utils import np_utils"
      ]
    },
    {
      "cell_type": "code",
      "source": [
        "mnist=tf.keras.datasets.mnist"
      ],
      "metadata": {
        "id": "L895K7Hwt_5M"
      },
      "execution_count": null,
      "outputs": []
    },
    {
      "cell_type": "code",
      "source": [
        "(x_train_full,y_train_full),(x_test,y_test)=mnist.load_data()"
      ],
      "metadata": {
        "colab": {
          "base_uri": "https://localhost:8080/"
        },
        "id": "BHrCZOIIuCBN",
        "outputId": "a36d6317-7dd3-4344-cd71-0716571c381a"
      },
      "execution_count": null,
      "outputs": [
        {
          "output_type": "stream",
          "name": "stdout",
          "text": [
            "Downloading data from https://storage.googleapis.com/tensorflow/tf-keras-datasets/mnist.npz\n",
            "11493376/11490434 [==============================] - 0s 0us/step\n",
            "11501568/11490434 [==============================] - 0s 0us/step\n"
          ]
        }
      ]
    },
    {
      "cell_type": "code",
      "source": [
        "(x_train,x_valid)=x_train_full[5000:],x_train_full[:5000]\n",
        "(y_train,y_valid)=y_train_full[5000:],y_train_full[:5000]"
      ],
      "metadata": {
        "id": "CkXlVNA8uEqT"
      },
      "execution_count": null,
      "outputs": []
    },
    {
      "cell_type": "code",
      "source": [
        "x_train.shape"
      ],
      "metadata": {
        "colab": {
          "base_uri": "https://localhost:8080/"
        },
        "id": "x75PjnnLuEte",
        "outputId": "c4cb24d8-d5a6-4422-f87a-60d70e12984d"
      },
      "execution_count": null,
      "outputs": [
        {
          "output_type": "execute_result",
          "data": {
            "text/plain": [
              "(55000, 28, 28)"
            ]
          },
          "metadata": {},
          "execution_count": 5
        }
      ]
    },
    {
      "cell_type": "code",
      "source": [
        "num_classes=len(np.unique(y_train))\n",
        "\n",
        "\n",
        "y_train=np_utils.to_categorical(y_train,num_classes)\n",
        "\n",
        "y_test=np_utils.to_categorical(y_test,num_classes)\n",
        "y_valid=np_utils.to_categorical(y_valid,num_classes)"
      ],
      "metadata": {
        "id": "PaSZWNvJuJBv"
      },
      "execution_count": null,
      "outputs": []
    },
    {
      "cell_type": "code",
      "source": [
        "from keras.models import Sequential\n",
        "from keras.layers import Conv2D,MaxPooling2D,Dense,Flatten,Dropout\n",
        "\n",
        "from keras.layers import BatchNormalization,Dropout, Activation"
      ],
      "metadata": {
        "id": "d91r5Ak6uLn6"
      },
      "execution_count": null,
      "outputs": []
    },
    {
      "cell_type": "code",
      "source": [
        "model5=Sequential()\n",
        "\n",
        "model5.add(Conv2D(filters=8,kernel_size=3,activation='LeakyReLU',input_shape=(28,28,1))) #26*26*8\n",
        "model5.add(BatchNormalization())\n",
        "\n",
        "\n",
        "model5.add(Conv2D(filters=8,kernel_size=3,activation='LeakyReLU')) #24*24*8\n",
        "model5.add(BatchNormalization())\n",
        "\n",
        "\n",
        "model5.add(Conv2D(filters=8,kernel_size=3,activation='LeakyReLU'))\n",
        "model5.add(BatchNormalization())\n",
        "model5.add(Dropout(0.2))\n",
        "\n",
        "\n",
        "model5.add(Conv2D(filters=10,kernel_size=3,activation='LeakyReLU'))\n",
        "model5.add(BatchNormalization())\n",
        "model5.add(Dropout(0.1))\n",
        "\n",
        "model5.add(Conv2D(filters=16,kernel_size=3,activation='LeakyReLU'))\n",
        "model5.add(BatchNormalization())\n",
        "\n",
        "model5.add(MaxPooling2D(pool_size=2))\n",
        "\n",
        "\n",
        "model5.add(Conv2D(filters=16,kernel_size=3,activation='LeakyReLU'))\n",
        "model5.add(BatchNormalization())\n",
        "\n",
        "model5.add(Conv2D(filters=10,kernel_size=3,activation='LeakyReLU'))\n",
        "model5.add(BatchNormalization())\n",
        "model5.add(Dropout(0.2))\n",
        "\n",
        "model5.add(Conv2D(filters=10,kernel_size=5,activation='LeakyReLU'))\n",
        "\n",
        "\n",
        "model5.add(Flatten())\n",
        "\n",
        "model5.add(Activation('softmax'))\n",
        "\n",
        "model5.summary()"
      ],
      "metadata": {
        "colab": {
          "base_uri": "https://localhost:8080/"
        },
        "id": "_-Oa4fnwuoHf",
        "outputId": "32a8458b-8d0f-4f2c-dcb6-fb31618b4cc2"
      },
      "execution_count": null,
      "outputs": [
        {
          "output_type": "stream",
          "name": "stdout",
          "text": [
            "Model: \"sequential_2\"\n",
            "_________________________________________________________________\n",
            " Layer (type)                Output Shape              Param #   \n",
            "=================================================================\n",
            " conv2d_9 (Conv2D)           (None, 26, 26, 8)         80        \n",
            "                                                                 \n",
            " batch_normalization_7 (Batc  (None, 26, 26, 8)        32        \n",
            " hNormalization)                                                 \n",
            "                                                                 \n",
            " conv2d_10 (Conv2D)          (None, 24, 24, 8)         584       \n",
            "                                                                 \n",
            " batch_normalization_8 (Batc  (None, 24, 24, 8)        32        \n",
            " hNormalization)                                                 \n",
            "                                                                 \n",
            " conv2d_11 (Conv2D)          (None, 22, 22, 8)         584       \n",
            "                                                                 \n",
            " batch_normalization_9 (Batc  (None, 22, 22, 8)        32        \n",
            " hNormalization)                                                 \n",
            "                                                                 \n",
            " dropout (Dropout)           (None, 22, 22, 8)         0         \n",
            "                                                                 \n",
            " conv2d_12 (Conv2D)          (None, 20, 20, 10)        730       \n",
            "                                                                 \n",
            " batch_normalization_10 (Bat  (None, 20, 20, 10)       40        \n",
            " chNormalization)                                                \n",
            "                                                                 \n",
            " dropout_1 (Dropout)         (None, 20, 20, 10)        0         \n",
            "                                                                 \n",
            " conv2d_13 (Conv2D)          (None, 18, 18, 16)        1456      \n",
            "                                                                 \n",
            " batch_normalization_11 (Bat  (None, 18, 18, 16)       64        \n",
            " chNormalization)                                                \n",
            "                                                                 \n",
            " max_pooling2d_1 (MaxPooling  (None, 9, 9, 16)         0         \n",
            " 2D)                                                             \n",
            "                                                                 \n",
            " conv2d_14 (Conv2D)          (None, 7, 7, 16)          2320      \n",
            "                                                                 \n",
            " batch_normalization_12 (Bat  (None, 7, 7, 16)         64        \n",
            " chNormalization)                                                \n",
            "                                                                 \n",
            " conv2d_15 (Conv2D)          (None, 5, 5, 10)          1450      \n",
            "                                                                 \n",
            " batch_normalization_13 (Bat  (None, 5, 5, 10)         40        \n",
            " chNormalization)                                                \n",
            "                                                                 \n",
            " dropout_2 (Dropout)         (None, 5, 5, 10)          0         \n",
            "                                                                 \n",
            " conv2d_16 (Conv2D)          (None, 1, 1, 10)          2510      \n",
            "                                                                 \n",
            " flatten_1 (Flatten)         (None, 10)                0         \n",
            "                                                                 \n",
            " activation_1 (Activation)   (None, 10)                0         \n",
            "                                                                 \n",
            "=================================================================\n",
            "Total params: 10,018\n",
            "Trainable params: 9,866\n",
            "Non-trainable params: 152\n",
            "_________________________________________________________________\n"
          ]
        }
      ]
    },
    {
      "cell_type": "code",
      "source": [
        "from tensorflow.keras.optimizers import Adam\n",
        "model5.compile(loss='categorical_crossentropy',optimizer=Adam(lr=0.001),metrics=['accuracy'])"
      ],
      "metadata": {
        "colab": {
          "base_uri": "https://localhost:8080/"
        },
        "id": "PhaPa2nxuuGV",
        "outputId": "cae7cb70-de5d-4a8c-a434-1d5a7c3f5a00"
      },
      "execution_count": null,
      "outputs": [
        {
          "output_type": "stream",
          "name": "stderr",
          "text": [
            "/usr/local/lib/python3.7/dist-packages/keras/optimizer_v2/adam.py:105: UserWarning: The `lr` argument is deprecated, use `learning_rate` instead.\n",
            "  super(Adam, self).__init__(name, **kwargs)\n"
          ]
        }
      ]
    },
    {
      "cell_type": "code",
      "source": [
        "#from keras.callbacks import ModelCheckpoint,EarlyStopping,LearningRateScheduler\n",
        "EPOCHS=10\n",
        "VALIDATION_DATA=(x_valid,y_valid)\n",
        "\n",
        "model5.fit(x_train,y_train,epochs=EPOCHS,validation_data=VALIDATION_DATA)"
      ],
      "metadata": {
        "colab": {
          "base_uri": "https://localhost:8080/"
        },
        "id": "m3oT_Zo9uuNl",
        "outputId": "0005bba9-6f56-4fcf-c52e-46d6672ba00c"
      },
      "execution_count": null,
      "outputs": [
        {
          "output_type": "stream",
          "name": "stdout",
          "text": [
            "Epoch 1/10\n",
            "1719/1719 [==============================] - 133s 77ms/step - loss: 0.0527 - accuracy: 0.9829 - val_loss: 0.0528 - val_accuracy: 0.9846\n",
            "Epoch 2/10\n",
            "1719/1719 [==============================] - 127s 74ms/step - loss: 0.0500 - accuracy: 0.9842 - val_loss: 0.0507 - val_accuracy: 0.9848\n",
            "Epoch 3/10\n",
            "1719/1719 [==============================] - 129s 75ms/step - loss: 0.0466 - accuracy: 0.9851 - val_loss: 0.0482 - val_accuracy: 0.9862\n",
            "Epoch 4/10\n",
            "1719/1719 [==============================] - 132s 77ms/step - loss: 0.0450 - accuracy: 0.9858 - val_loss: 0.0384 - val_accuracy: 0.9890\n",
            "Epoch 5/10\n",
            "1719/1719 [==============================] - 133s 78ms/step - loss: 0.0430 - accuracy: 0.9864 - val_loss: 0.0497 - val_accuracy: 0.9868\n",
            "Epoch 6/10\n",
            "1719/1719 [==============================] - 134s 78ms/step - loss: 0.0409 - accuracy: 0.9872 - val_loss: 0.0378 - val_accuracy: 0.9896\n",
            "Epoch 7/10\n",
            "1719/1719 [==============================] - 133s 77ms/step - loss: 0.0384 - accuracy: 0.9881 - val_loss: 0.0366 - val_accuracy: 0.9890\n",
            "Epoch 8/10\n",
            "1719/1719 [==============================] - 135s 78ms/step - loss: 0.0375 - accuracy: 0.9880 - val_loss: 0.0344 - val_accuracy: 0.9898\n",
            "Epoch 9/10\n",
            "1719/1719 [==============================] - 135s 79ms/step - loss: 0.0378 - accuracy: 0.9877 - val_loss: 0.0346 - val_accuracy: 0.9902\n",
            "Epoch 10/10\n",
            "1719/1719 [==============================] - 136s 79ms/step - loss: 0.0364 - accuracy: 0.9882 - val_loss: 0.0380 - val_accuracy: 0.9894\n"
          ]
        },
        {
          "output_type": "execute_result",
          "data": {
            "text/plain": [
              "<keras.callbacks.History at 0x7fd5b747a550>"
            ]
          },
          "metadata": {},
          "execution_count": 17
        }
      ]
    },
    {
      "cell_type": "code",
      "source": [
        ""
      ],
      "metadata": {
        "id": "VHUHOgPIwEhZ"
      },
      "execution_count": null,
      "outputs": []
    }
  ]
}